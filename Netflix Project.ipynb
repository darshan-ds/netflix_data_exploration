{
 "cells": [
  {
   "cell_type": "markdown",
   "id": "8f78ba11",
   "metadata": {},
   "source": [
    "The exploration should have a goal. As you explore the data, keep in mind that you want to answer which type of shows to produce and how to grow the business.\n",
    "Ensure each recommendation is backed by data. The company is looking for data-driven insights, not personal opinions or anecdotes.\n",
    "Assume that you are presenting your findings to business executives who have only a basic understanding of data science. Avoid unnecessary technical jargon.\n",
    "Start by exploring a few questions: What type of content is available in different countries?\n",
    "How has the number of movies released per year changed over the last 20-30 years?\n",
    "Comparison of tv shows vs. movies.\n",
    "What is the best time to launch a TV show?\n",
    "Analysis of actors/directors of different types of shows/movies.\n",
    "Does Netflix has more focus on TV Shows than movies in recent years\n",
    "Understanding what content is available in different countries"
   ]
  },
  {
   "cell_type": "markdown",
   "id": "c28b4a22",
   "metadata": {},
   "source": [
    "1. Defining Problem Statement and Analysing basic metrics (10 Points)\n",
    "\n",
    "2. Observations on the shape of data, data types of all the attributes, conversion of categorical attributes to 'category' (If required), missing value detection, statistical summary (10 Points)\n",
    "\n",
    "3. Non-Graphical Analysis: Value counts and unique attributes ​​(10 Points)\n",
    "\n",
    "4. Visual Analysis - Univariate, Bivariate after pre-processing of the data\n",
    "\n",
    "Note: Pre-processing involves unnesting of the data in columns like Actor, Director, Country\n",
    "\n",
    "4.1 For continuous variable(s): Distplot, countplot, histogram for univariate analysis (10 Points)\n",
    "\n",
    "4.2 For categorical variable(s): Boxplot (10 Points)\n",
    "\n",
    "4.3 For correlation: Heatmaps, Pairplots (10 Points)\n",
    "\n",
    "5. Missing Value & Outlier check (Treatment optional) (10 Points)\n",
    "\n",
    "6. Insights based on Non-Graphical and Visual Analysis (10 Points)\n",
    "\n",
    "6.1 Comments on the range of attributes\n",
    "\n",
    "6.2 Comments on the distribution of the variables and relationship between them\n",
    "\n",
    "6.3 Comments for each univariate and bivariate plot\n",
    "\n",
    "7. Business Insights (10 Points) - Should include patterns observed in the data along with what you can infer from it\n",
    "\n",
    "8. Recommendations (10 Points) - Actionable items for business. No technical jargon. No complications. Simple action items that everyone can understand"
   ]
  },
  {
   "cell_type": "markdown",
   "id": "dcff0a60",
   "metadata": {},
   "source": [
    "# Netflix Analysis"
   ]
  },
  {
   "cell_type": "markdown",
   "id": "cc4d0d6a",
   "metadata": {},
   "source": [
    "*__Netlix, Inc__. is an American technology and media services provider and production\n",
    "company headquartered in __Los Gatos, California__. Netlix was founded in 1997 by __Reed\n",
    "Hastings__ and __Marc Randolph__ in Scotts Valley, California. The company’s primary business is its\n",
    "subscription-based streaming service, which offers online streaming of a library of films and\n",
    "television series, including those produced in-house.*"
   ]
  },
  {
   "cell_type": "code",
   "execution_count": 1,
   "id": "55586833",
   "metadata": {},
   "outputs": [],
   "source": [
    "# Lets start by importing some basic libraries\n",
    "\n",
    "import numpy as np\n",
    "import pandas as pd\n",
    "import matplotlib.pyplot as plt\n",
    "import seaborn as sns"
   ]
  },
  {
   "cell_type": "code",
   "execution_count": 2,
   "id": "74f9d5c0",
   "metadata": {},
   "outputs": [],
   "source": [
    "# Read the csv file into a variable\n",
    "\n",
    "df = pd.read_csv('netflix.csv')"
   ]
  },
  {
   "cell_type": "markdown",
   "id": "ea844b21",
   "metadata": {},
   "source": [
    "## 1. Defining Problem Statement and Analysing basic metrics"
   ]
  },
  {
   "cell_type": "markdown",
   "id": "9b53d521",
   "metadata": {},
   "source": [
    "__Problem Statement__ : From the given data find out which type of shows to produce and how to grow the business."
   ]
  },
  {
   "cell_type": "code",
   "execution_count": 4,
   "id": "ffc7d9ad",
   "metadata": {},
   "outputs": [
    {
     "data": {
      "text/html": [
       "<div>\n",
       "<style scoped>\n",
       "    .dataframe tbody tr th:only-of-type {\n",
       "        vertical-align: middle;\n",
       "    }\n",
       "\n",
       "    .dataframe tbody tr th {\n",
       "        vertical-align: top;\n",
       "    }\n",
       "\n",
       "    .dataframe thead th {\n",
       "        text-align: right;\n",
       "    }\n",
       "</style>\n",
       "<table border=\"1\" class=\"dataframe\">\n",
       "  <thead>\n",
       "    <tr style=\"text-align: right;\">\n",
       "      <th></th>\n",
       "      <th>show_id</th>\n",
       "      <th>type</th>\n",
       "      <th>title</th>\n",
       "      <th>director</th>\n",
       "      <th>cast</th>\n",
       "      <th>country</th>\n",
       "      <th>date_added</th>\n",
       "      <th>release_year</th>\n",
       "      <th>rating</th>\n",
       "      <th>duration</th>\n",
       "      <th>listed_in</th>\n",
       "      <th>description</th>\n",
       "    </tr>\n",
       "  </thead>\n",
       "  <tbody>\n",
       "    <tr>\n",
       "      <th>0</th>\n",
       "      <td>s1</td>\n",
       "      <td>Movie</td>\n",
       "      <td>Dick Johnson Is Dead</td>\n",
       "      <td>Kirsten Johnson</td>\n",
       "      <td>NaN</td>\n",
       "      <td>United States</td>\n",
       "      <td>September 25, 2021</td>\n",
       "      <td>2020</td>\n",
       "      <td>PG-13</td>\n",
       "      <td>90 min</td>\n",
       "      <td>Documentaries</td>\n",
       "      <td>As her father nears the end of his life, filmm...</td>\n",
       "    </tr>\n",
       "    <tr>\n",
       "      <th>1</th>\n",
       "      <td>s2</td>\n",
       "      <td>TV Show</td>\n",
       "      <td>Blood &amp; Water</td>\n",
       "      <td>NaN</td>\n",
       "      <td>Ama Qamata, Khosi Ngema, Gail Mabalane, Thaban...</td>\n",
       "      <td>South Africa</td>\n",
       "      <td>September 24, 2021</td>\n",
       "      <td>2021</td>\n",
       "      <td>TV-MA</td>\n",
       "      <td>2 Seasons</td>\n",
       "      <td>International TV Shows, TV Dramas, TV Mysteries</td>\n",
       "      <td>After crossing paths at a party, a Cape Town t...</td>\n",
       "    </tr>\n",
       "    <tr>\n",
       "      <th>2</th>\n",
       "      <td>s3</td>\n",
       "      <td>TV Show</td>\n",
       "      <td>Ganglands</td>\n",
       "      <td>Julien Leclercq</td>\n",
       "      <td>Sami Bouajila, Tracy Gotoas, Samuel Jouy, Nabi...</td>\n",
       "      <td>NaN</td>\n",
       "      <td>September 24, 2021</td>\n",
       "      <td>2021</td>\n",
       "      <td>TV-MA</td>\n",
       "      <td>1 Season</td>\n",
       "      <td>Crime TV Shows, International TV Shows, TV Act...</td>\n",
       "      <td>To protect his family from a powerful drug lor...</td>\n",
       "    </tr>\n",
       "    <tr>\n",
       "      <th>3</th>\n",
       "      <td>s4</td>\n",
       "      <td>TV Show</td>\n",
       "      <td>Jailbirds New Orleans</td>\n",
       "      <td>NaN</td>\n",
       "      <td>NaN</td>\n",
       "      <td>NaN</td>\n",
       "      <td>September 24, 2021</td>\n",
       "      <td>2021</td>\n",
       "      <td>TV-MA</td>\n",
       "      <td>1 Season</td>\n",
       "      <td>Docuseries, Reality TV</td>\n",
       "      <td>Feuds, flirtations and toilet talk go down amo...</td>\n",
       "    </tr>\n",
       "    <tr>\n",
       "      <th>4</th>\n",
       "      <td>s5</td>\n",
       "      <td>TV Show</td>\n",
       "      <td>Kota Factory</td>\n",
       "      <td>NaN</td>\n",
       "      <td>Mayur More, Jitendra Kumar, Ranjan Raj, Alam K...</td>\n",
       "      <td>India</td>\n",
       "      <td>September 24, 2021</td>\n",
       "      <td>2021</td>\n",
       "      <td>TV-MA</td>\n",
       "      <td>2 Seasons</td>\n",
       "      <td>International TV Shows, Romantic TV Shows, TV ...</td>\n",
       "      <td>In a city of coaching centers known to train I...</td>\n",
       "    </tr>\n",
       "  </tbody>\n",
       "</table>\n",
       "</div>"
      ],
      "text/plain": [
       "  show_id     type                  title         director  \\\n",
       "0      s1    Movie   Dick Johnson Is Dead  Kirsten Johnson   \n",
       "1      s2  TV Show          Blood & Water              NaN   \n",
       "2      s3  TV Show              Ganglands  Julien Leclercq   \n",
       "3      s4  TV Show  Jailbirds New Orleans              NaN   \n",
       "4      s5  TV Show           Kota Factory              NaN   \n",
       "\n",
       "                                                cast        country  \\\n",
       "0                                                NaN  United States   \n",
       "1  Ama Qamata, Khosi Ngema, Gail Mabalane, Thaban...   South Africa   \n",
       "2  Sami Bouajila, Tracy Gotoas, Samuel Jouy, Nabi...            NaN   \n",
       "3                                                NaN            NaN   \n",
       "4  Mayur More, Jitendra Kumar, Ranjan Raj, Alam K...          India   \n",
       "\n",
       "           date_added  release_year rating   duration  \\\n",
       "0  September 25, 2021          2020  PG-13     90 min   \n",
       "1  September 24, 2021          2021  TV-MA  2 Seasons   \n",
       "2  September 24, 2021          2021  TV-MA   1 Season   \n",
       "3  September 24, 2021          2021  TV-MA   1 Season   \n",
       "4  September 24, 2021          2021  TV-MA  2 Seasons   \n",
       "\n",
       "                                           listed_in  \\\n",
       "0                                      Documentaries   \n",
       "1    International TV Shows, TV Dramas, TV Mysteries   \n",
       "2  Crime TV Shows, International TV Shows, TV Act...   \n",
       "3                             Docuseries, Reality TV   \n",
       "4  International TV Shows, Romantic TV Shows, TV ...   \n",
       "\n",
       "                                         description  \n",
       "0  As her father nears the end of his life, filmm...  \n",
       "1  After crossing paths at a party, a Cape Town t...  \n",
       "2  To protect his family from a powerful drug lor...  \n",
       "3  Feuds, flirtations and toilet talk go down amo...  \n",
       "4  In a city of coaching centers known to train I...  "
      ]
     },
     "execution_count": 4,
     "metadata": {},
     "output_type": "execute_result"
    }
   ],
   "source": [
    "# Lets see how the data looks like\n",
    "\n",
    "df.head() # first 5 rows in the dataset"
   ]
  },
  {
   "cell_type": "code",
   "execution_count": 5,
   "id": "c7963a56",
   "metadata": {},
   "outputs": [
    {
     "data": {
      "text/plain": [
       "(8807, 12)"
      ]
     },
     "execution_count": 5,
     "metadata": {},
     "output_type": "execute_result"
    }
   ],
   "source": [
    "df.shape\n",
    "# There are 8807 rows and 12 columns in this dataset"
   ]
  },
  {
   "cell_type": "code",
   "execution_count": 6,
   "id": "bf67dc61",
   "metadata": {},
   "outputs": [
    {
     "name": "stdout",
     "output_type": "stream",
     "text": [
      "<class 'pandas.core.frame.DataFrame'>\n",
      "RangeIndex: 8807 entries, 0 to 8806\n",
      "Data columns (total 12 columns):\n",
      " #   Column        Non-Null Count  Dtype \n",
      "---  ------        --------------  ----- \n",
      " 0   show_id       8807 non-null   object\n",
      " 1   type          8807 non-null   object\n",
      " 2   title         8807 non-null   object\n",
      " 3   director      6173 non-null   object\n",
      " 4   cast          7982 non-null   object\n",
      " 5   country       7976 non-null   object\n",
      " 6   date_added    8797 non-null   object\n",
      " 7   release_year  8807 non-null   int64 \n",
      " 8   rating        8803 non-null   object\n",
      " 9   duration      8804 non-null   object\n",
      " 10  listed_in     8807 non-null   object\n",
      " 11  description   8807 non-null   object\n",
      "dtypes: int64(1), object(11)\n",
      "memory usage: 825.8+ KB\n"
     ]
    }
   ],
   "source": [
    "df.info()\n",
    "# All the columns except release_year is of object datatype, where release_year is of integer datatype"
   ]
  },
  {
   "cell_type": "code",
   "execution_count": 7,
   "id": "830b0403",
   "metadata": {},
   "outputs": [
    {
     "data": {
      "text/html": [
       "<div>\n",
       "<style scoped>\n",
       "    .dataframe tbody tr th:only-of-type {\n",
       "        vertical-align: middle;\n",
       "    }\n",
       "\n",
       "    .dataframe tbody tr th {\n",
       "        vertical-align: top;\n",
       "    }\n",
       "\n",
       "    .dataframe thead th {\n",
       "        text-align: right;\n",
       "    }\n",
       "</style>\n",
       "<table border=\"1\" class=\"dataframe\">\n",
       "  <thead>\n",
       "    <tr style=\"text-align: right;\">\n",
       "      <th></th>\n",
       "      <th>release_year</th>\n",
       "    </tr>\n",
       "  </thead>\n",
       "  <tbody>\n",
       "    <tr>\n",
       "      <th>count</th>\n",
       "      <td>8807.000000</td>\n",
       "    </tr>\n",
       "    <tr>\n",
       "      <th>mean</th>\n",
       "      <td>2014.180198</td>\n",
       "    </tr>\n",
       "    <tr>\n",
       "      <th>std</th>\n",
       "      <td>8.819312</td>\n",
       "    </tr>\n",
       "    <tr>\n",
       "      <th>min</th>\n",
       "      <td>1925.000000</td>\n",
       "    </tr>\n",
       "    <tr>\n",
       "      <th>25%</th>\n",
       "      <td>2013.000000</td>\n",
       "    </tr>\n",
       "    <tr>\n",
       "      <th>50%</th>\n",
       "      <td>2017.000000</td>\n",
       "    </tr>\n",
       "    <tr>\n",
       "      <th>75%</th>\n",
       "      <td>2019.000000</td>\n",
       "    </tr>\n",
       "    <tr>\n",
       "      <th>max</th>\n",
       "      <td>2021.000000</td>\n",
       "    </tr>\n",
       "  </tbody>\n",
       "</table>\n",
       "</div>"
      ],
      "text/plain": [
       "       release_year\n",
       "count   8807.000000\n",
       "mean    2014.180198\n",
       "std        8.819312\n",
       "min     1925.000000\n",
       "25%     2013.000000\n",
       "50%     2017.000000\n",
       "75%     2019.000000\n",
       "max     2021.000000"
      ]
     },
     "execution_count": 7,
     "metadata": {},
     "output_type": "execute_result"
    }
   ],
   "source": [
    "df.describe() # default behaviour of describe is only for numeric datatype\n",
    "# The data contains movies/TVshows which were released from 1925 to 2021"
   ]
  },
  {
   "cell_type": "code",
   "execution_count": 7,
   "id": "a0ee9033",
   "metadata": {},
   "outputs": [
    {
     "data": {
      "text/html": [
       "<div>\n",
       "<style scoped>\n",
       "    .dataframe tbody tr th:only-of-type {\n",
       "        vertical-align: middle;\n",
       "    }\n",
       "\n",
       "    .dataframe tbody tr th {\n",
       "        vertical-align: top;\n",
       "    }\n",
       "\n",
       "    .dataframe thead th {\n",
       "        text-align: right;\n",
       "    }\n",
       "</style>\n",
       "<table border=\"1\" class=\"dataframe\">\n",
       "  <thead>\n",
       "    <tr style=\"text-align: right;\">\n",
       "      <th></th>\n",
       "      <th>show_id</th>\n",
       "      <th>type</th>\n",
       "      <th>title</th>\n",
       "      <th>director</th>\n",
       "      <th>cast</th>\n",
       "      <th>country</th>\n",
       "      <th>date_added</th>\n",
       "      <th>rating</th>\n",
       "      <th>duration</th>\n",
       "      <th>listed_in</th>\n",
       "      <th>description</th>\n",
       "    </tr>\n",
       "  </thead>\n",
       "  <tbody>\n",
       "    <tr>\n",
       "      <th>count</th>\n",
       "      <td>8807</td>\n",
       "      <td>8807</td>\n",
       "      <td>8807</td>\n",
       "      <td>6173</td>\n",
       "      <td>7982</td>\n",
       "      <td>7976</td>\n",
       "      <td>8797</td>\n",
       "      <td>8803</td>\n",
       "      <td>8804</td>\n",
       "      <td>8807</td>\n",
       "      <td>8807</td>\n",
       "    </tr>\n",
       "    <tr>\n",
       "      <th>unique</th>\n",
       "      <td>8807</td>\n",
       "      <td>2</td>\n",
       "      <td>8807</td>\n",
       "      <td>4528</td>\n",
       "      <td>7692</td>\n",
       "      <td>748</td>\n",
       "      <td>1767</td>\n",
       "      <td>17</td>\n",
       "      <td>220</td>\n",
       "      <td>514</td>\n",
       "      <td>8775</td>\n",
       "    </tr>\n",
       "    <tr>\n",
       "      <th>top</th>\n",
       "      <td>s4238</td>\n",
       "      <td>Movie</td>\n",
       "      <td>Sick Note</td>\n",
       "      <td>Rajiv Chilaka</td>\n",
       "      <td>David Attenborough</td>\n",
       "      <td>United States</td>\n",
       "      <td>January 1, 2020</td>\n",
       "      <td>TV-MA</td>\n",
       "      <td>1 Season</td>\n",
       "      <td>Dramas, International Movies</td>\n",
       "      <td>Paranormal activity at a lush, abandoned prope...</td>\n",
       "    </tr>\n",
       "    <tr>\n",
       "      <th>freq</th>\n",
       "      <td>1</td>\n",
       "      <td>6131</td>\n",
       "      <td>1</td>\n",
       "      <td>19</td>\n",
       "      <td>19</td>\n",
       "      <td>2818</td>\n",
       "      <td>109</td>\n",
       "      <td>3207</td>\n",
       "      <td>1793</td>\n",
       "      <td>362</td>\n",
       "      <td>4</td>\n",
       "    </tr>\n",
       "  </tbody>\n",
       "</table>\n",
       "</div>"
      ],
      "text/plain": [
       "       show_id   type      title       director                cast  \\\n",
       "count     8807   8807       8807           6173                7982   \n",
       "unique    8807      2       8807           4528                7692   \n",
       "top      s4238  Movie  Sick Note  Rajiv Chilaka  David Attenborough   \n",
       "freq         1   6131          1             19                  19   \n",
       "\n",
       "              country       date_added rating  duration  \\\n",
       "count            7976             8797   8803      8804   \n",
       "unique            748             1767     17       220   \n",
       "top     United States  January 1, 2020  TV-MA  1 Season   \n",
       "freq             2818              109   3207      1793   \n",
       "\n",
       "                           listed_in  \\\n",
       "count                           8807   \n",
       "unique                           514   \n",
       "top     Dramas, International Movies   \n",
       "freq                             362   \n",
       "\n",
       "                                              description  \n",
       "count                                                8807  \n",
       "unique                                               8775  \n",
       "top     Paranormal activity at a lush, abandoned prope...  \n",
       "freq                                                    4  "
      ]
     },
     "execution_count": 7,
     "metadata": {},
     "output_type": "execute_result"
    }
   ],
   "source": [
    "df.describe(include='O') # include='O' will describe the object datatype columns\n",
    "# We can see there are 2 netflix types, with 8807 titles which were directed by 4528 directors.\n",
    "# Movies/TVshows of 748 countries are listed in this dataset, we can also see that 2818 movies/tvshows were\n",
    "# made in United States."
   ]
  },
  {
   "cell_type": "code",
   "execution_count": 8,
   "id": "a98afcb1",
   "metadata": {},
   "outputs": [
    {
     "data": {
      "text/plain": [
       "show_id          0.000000\n",
       "type             0.000000\n",
       "title            0.000000\n",
       "director        42.669691\n",
       "cast            10.335755\n",
       "country         10.418756\n",
       "date_added       0.113675\n",
       "release_year     0.000000\n",
       "rating           0.045439\n",
       "duration         0.034075\n",
       "listed_in        0.000000\n",
       "description      0.000000\n",
       "dtype: float64"
      ]
     },
     "execution_count": 8,
     "metadata": {},
     "output_type": "execute_result"
    }
   ],
   "source": [
    "df.isnull().sum()/df.count() * 100"
   ]
  },
  {
   "cell_type": "code",
   "execution_count": 9,
   "id": "a073520a",
   "metadata": {},
   "outputs": [
    {
     "data": {
      "text/plain": [
       "array(['Movie', 'TV Show'], dtype=object)"
      ]
     },
     "execution_count": 9,
     "metadata": {},
     "output_type": "execute_result"
    }
   ],
   "source": [
    "df.type.unique()"
   ]
  },
  {
   "cell_type": "code",
   "execution_count": 10,
   "id": "b8ad00e6",
   "metadata": {},
   "outputs": [],
   "source": [
    "tv = df[df['type']=='TV Show']\n",
    "mov = df[df['type']=='Movie']"
   ]
  },
  {
   "cell_type": "markdown",
   "id": "9ed1f5bd",
   "metadata": {},
   "source": [
    "### show_id"
   ]
  },
  {
   "cell_type": "code",
   "execution_count": 11,
   "id": "f319d477",
   "metadata": {},
   "outputs": [
    {
     "data": {
      "text/plain": [
       "(8807, 8807)"
      ]
     },
     "execution_count": 11,
     "metadata": {},
     "output_type": "execute_result"
    }
   ],
   "source": [
    "df.show_id.nunique(), df.show_id.count()"
   ]
  },
  {
   "cell_type": "code",
   "execution_count": 12,
   "id": "ea10da7e",
   "metadata": {},
   "outputs": [
    {
     "data": {
      "text/plain": [
       "(2676, 2676)"
      ]
     },
     "execution_count": 12,
     "metadata": {},
     "output_type": "execute_result"
    }
   ],
   "source": [
    "tv.show_id.nunique(),tv.show_id.count()"
   ]
  },
  {
   "cell_type": "code",
   "execution_count": 13,
   "id": "e67f0285",
   "metadata": {},
   "outputs": [
    {
     "data": {
      "text/plain": [
       "(6131, 6131)"
      ]
     },
     "execution_count": 13,
     "metadata": {},
     "output_type": "execute_result"
    }
   ],
   "source": [
    "mov.show_id.nunique(), mov.show_id.nunique()"
   ]
  },
  {
   "cell_type": "markdown",
   "id": "5155fe74",
   "metadata": {},
   "source": [
    "### type"
   ]
  },
  {
   "cell_type": "code",
   "execution_count": 14,
   "id": "8f4ee5eb",
   "metadata": {},
   "outputs": [
    {
     "data": {
      "text/plain": [
       "Movie      69.615079\n",
       "TV Show    30.384921\n",
       "Name: type, dtype: float64"
      ]
     },
     "execution_count": 14,
     "metadata": {},
     "output_type": "execute_result"
    }
   ],
   "source": [
    "df.type.value_counts(normalize=True)*100"
   ]
  },
  {
   "cell_type": "code",
   "execution_count": 15,
   "id": "89bb8719",
   "metadata": {},
   "outputs": [
    {
     "data": {
      "text/plain": [
       "0"
      ]
     },
     "execution_count": 15,
     "metadata": {},
     "output_type": "execute_result"
    }
   ],
   "source": [
    "df.type.isnull().sum() # no null values"
   ]
  },
  {
   "cell_type": "code",
   "execution_count": 16,
   "id": "83b18160",
   "metadata": {},
   "outputs": [
    {
     "data": {
      "text/plain": [
       "<AxesSubplot:xlabel='type', ylabel='count'>"
      ]
     },
     "execution_count": 16,
     "metadata": {},
     "output_type": "execute_result"
    },
    {
     "data": {
      "image/png": "[encoded data removed]",
      "text/plain": [
       "<Figure size 432x288 with 1 Axes>"
      ]
     },
     "metadata": {
      "needs_background": "light"
     },
     "output_type": "display_data"
    }
   ],
   "source": [
    "sns.countplot(x='type', data=df)"
   ]
  },
  {
   "cell_type": "markdown",
   "id": "d7b993ae",
   "metadata": {},
   "source": [
    "### title"
   ]
  },
  {
   "cell_type": "code",
   "execution_count": 17,
   "id": "c4f98c3d",
   "metadata": {},
   "outputs": [
    {
     "data": {
      "text/plain": [
       "0     Dick Johnson Is Dead\n",
       "1            Blood & Water\n",
       "2                Ganglands\n",
       "3    Jailbirds New Orleans\n",
       "4             Kota Factory\n",
       "Name: title, dtype: object"
      ]
     },
     "execution_count": 17,
     "metadata": {},
     "output_type": "execute_result"
    }
   ],
   "source": [
    "df.title.head()"
   ]
  },
  {
   "cell_type": "code",
   "execution_count": 18,
   "id": "ceac6943",
   "metadata": {},
   "outputs": [
    {
     "data": {
      "text/plain": [
       "(8807, 8807)"
      ]
     },
     "execution_count": 18,
     "metadata": {},
     "output_type": "execute_result"
    }
   ],
   "source": [
    "df.title.nunique(), df.title.count()"
   ]
  },
  {
   "cell_type": "code",
   "execution_count": 19,
   "id": "97dc86de",
   "metadata": {},
   "outputs": [
    {
     "data": {
      "text/plain": [
       "'Jim & Andy: The Great Beyond - Featuring a Very Special, Contractually Obligated Mention of Tony Clifton'"
      ]
     },
     "execution_count": 19,
     "metadata": {},
     "output_type": "execute_result"
    }
   ],
   "source": [
    "df.iloc[df.title.str.len().argmax()].title"
   ]
  },
  {
   "cell_type": "code",
   "execution_count": 20,
   "id": "f034ccf7",
   "metadata": {},
   "outputs": [
    {
     "data": {
      "text/plain": [
       "'H'"
      ]
     },
     "execution_count": 20,
     "metadata": {},
     "output_type": "execute_result"
    }
   ],
   "source": [
    "df.iloc[df.title.str.len().argmin()].title"
   ]
  },
  {
   "cell_type": "code",
   "execution_count": 21,
   "id": "d8cba068",
   "metadata": {},
   "outputs": [
    {
     "data": {
      "text/html": [
       "<div>\n",
       "<style scoped>\n",
       "    .dataframe tbody tr th:only-of-type {\n",
       "        vertical-align: middle;\n",
       "    }\n",
       "\n",
       "    .dataframe tbody tr th {\n",
       "        vertical-align: top;\n",
       "    }\n",
       "\n",
       "    .dataframe thead th {\n",
       "        text-align: right;\n",
       "    }\n",
       "</style>\n",
       "<table border=\"1\" class=\"dataframe\">\n",
       "  <thead>\n",
       "    <tr style=\"text-align: right;\">\n",
       "      <th></th>\n",
       "      <th>show_id</th>\n",
       "      <th>type</th>\n",
       "      <th>title</th>\n",
       "      <th>director</th>\n",
       "      <th>cast</th>\n",
       "      <th>country</th>\n",
       "      <th>date_added</th>\n",
       "      <th>release_year</th>\n",
       "      <th>rating</th>\n",
       "      <th>duration</th>\n",
       "      <th>listed_in</th>\n",
       "      <th>description</th>\n",
       "    </tr>\n",
       "  </thead>\n",
       "  <tbody>\n",
       "    <tr>\n",
       "      <th>2069</th>\n",
       "      <td>s2070</td>\n",
       "      <td>TV Show</td>\n",
       "      <td>H</td>\n",
       "      <td>NaN</td>\n",
       "      <td>Jamel Debbouze, Éric Judor, Ramzy Bedia, Cathe...</td>\n",
       "      <td>France</td>\n",
       "      <td>September 1, 2020</td>\n",
       "      <td>2002</td>\n",
       "      <td>TV-MA</td>\n",
       "      <td>4 Seasons</td>\n",
       "      <td>International TV Shows, TV Comedies</td>\n",
       "      <td>At a dysfunctional hospital in Paris, three bu...</td>\n",
       "    </tr>\n",
       "    <tr>\n",
       "      <th>5958</th>\n",
       "      <td>s5959</td>\n",
       "      <td>Movie</td>\n",
       "      <td>9</td>\n",
       "      <td>Shane Acker</td>\n",
       "      <td>Elijah Wood, John C. Reilly, Jennifer Connelly...</td>\n",
       "      <td>United States</td>\n",
       "      <td>November 16, 2017</td>\n",
       "      <td>2009</td>\n",
       "      <td>PG-13</td>\n",
       "      <td>80 min</td>\n",
       "      <td>Action &amp; Adventure, Independent Movies, Sci-Fi...</td>\n",
       "      <td>In a postapocalyptic world, rag-doll robots hi...</td>\n",
       "    </tr>\n",
       "    <tr>\n",
       "      <th>7155</th>\n",
       "      <td>s7156</td>\n",
       "      <td>TV Show</td>\n",
       "      <td>K</td>\n",
       "      <td>NaN</td>\n",
       "      <td>Daisuke Namikawa, Daisuke Ono, Mikako Komatsu,...</td>\n",
       "      <td>Japan</td>\n",
       "      <td>December 1, 2016</td>\n",
       "      <td>2012</td>\n",
       "      <td>TV-MA</td>\n",
       "      <td>1 Season</td>\n",
       "      <td>Anime Series, Crime TV Shows, International TV...</td>\n",
       "      <td>A young boy is wanted for a crime he has no re...</td>\n",
       "    </tr>\n",
       "    <tr>\n",
       "      <th>7687</th>\n",
       "      <td>s7688</td>\n",
       "      <td>Movie</td>\n",
       "      <td>P</td>\n",
       "      <td>Paul Spurrier</td>\n",
       "      <td>Suangporn Jaturaphut, Opal, Dor Yodrak, Pisama...</td>\n",
       "      <td>United Kingdom, Thailand</td>\n",
       "      <td>May 31, 2019</td>\n",
       "      <td>2006</td>\n",
       "      <td>TV-MA</td>\n",
       "      <td>105 min</td>\n",
       "      <td>Horror Movies, International Movies</td>\n",
       "      <td>An orphan girl taught magic by her sick grandm...</td>\n",
       "    </tr>\n",
       "  </tbody>\n",
       "</table>\n",
       "</div>"
      ],
      "text/plain": [
       "     show_id     type title       director  \\\n",
       "2069   s2070  TV Show     H            NaN   \n",
       "5958   s5959    Movie     9    Shane Acker   \n",
       "7155   s7156  TV Show     K            NaN   \n",
       "7687   s7688    Movie     P  Paul Spurrier   \n",
       "\n",
       "                                                   cast  \\\n",
       "2069  Jamel Debbouze, Éric Judor, Ramzy Bedia, Cathe...   \n",
       "5958  Elijah Wood, John C. Reilly, Jennifer Connelly...   \n",
       "7155  Daisuke Namikawa, Daisuke Ono, Mikako Komatsu,...   \n",
       "7687  Suangporn Jaturaphut, Opal, Dor Yodrak, Pisama...   \n",
       "\n",
       "                       country         date_added  release_year rating  \\\n",
       "2069                    France  September 1, 2020          2002  TV-MA   \n",
       "5958             United States  November 16, 2017          2009  PG-13   \n",
       "7155                     Japan   December 1, 2016          2012  TV-MA   \n",
       "7687  United Kingdom, Thailand       May 31, 2019          2006  TV-MA   \n",
       "\n",
       "       duration                                          listed_in  \\\n",
       "2069  4 Seasons                International TV Shows, TV Comedies   \n",
       "5958     80 min  Action & Adventure, Independent Movies, Sci-Fi...   \n",
       "7155   1 Season  Anime Series, Crime TV Shows, International TV...   \n",
       "7687    105 min                Horror Movies, International Movies   \n",
       "\n",
       "                                            description  \n",
       "2069  At a dysfunctional hospital in Paris, three bu...  \n",
       "5958  In a postapocalyptic world, rag-doll robots hi...  \n",
       "7155  A young boy is wanted for a crime he has no re...  \n",
       "7687  An orphan girl taught magic by her sick grandm...  "
      ]
     },
     "execution_count": 21,
     "metadata": {},
     "output_type": "execute_result"
    }
   ],
   "source": [
    "df[df.title.str.len()==1]"
   ]
  },
  {
   "cell_type": "markdown",
   "id": "6b2749de",
   "metadata": {},
   "source": [
    "### director"
   ]
  },
  {
   "cell_type": "code",
   "execution_count": 22,
   "id": "6b35b952",
   "metadata": {},
   "outputs": [
    {
     "data": {
      "text/plain": [
       "0    Kirsten Johnson\n",
       "1                NaN\n",
       "2    Julien Leclercq\n",
       "3                NaN\n",
       "4                NaN\n",
       "Name: director, dtype: object"
      ]
     },
     "execution_count": 22,
     "metadata": {},
     "output_type": "execute_result"
    }
   ],
   "source": [
    "df.director.head()"
   ]
  },
  {
   "cell_type": "code",
   "execution_count": 23,
   "id": "deccc365",
   "metadata": {},
   "outputs": [
    {
     "data": {
      "text/plain": [
       "(4528, 2634, 6173)"
      ]
     },
     "execution_count": 23,
     "metadata": {},
     "output_type": "execute_result"
    }
   ],
   "source": [
    "df.director.nunique(), df.director.isnull().sum(), df.director.count()"
   ]
  },
  {
   "cell_type": "code",
   "execution_count": 24,
   "id": "91f8d1a6",
   "metadata": {},
   "outputs": [
    {
     "data": {
      "text/plain": [
       "Rajiv Chilaka                   19\n",
       "Raúl Campos, Jan Suter          18\n",
       "Suhas Kadav                     16\n",
       "Marcus Raboy                    16\n",
       "Jay Karas                       14\n",
       "                                ..\n",
       "Saandeep Patel                   1\n",
       "John Patrick Shanley             1\n",
       "Reinhard Klooss                  1\n",
       "Denis Hennelly, Casey Suchan     1\n",
       "Ah Loong                         1\n",
       "Name: director, Length: 4528, dtype: int64"
      ]
     },
     "execution_count": 24,
     "metadata": {},
     "output_type": "execute_result"
    }
   ],
   "source": [
    "df.director.value_counts()"
   ]
  },
  {
   "cell_type": "code",
   "execution_count": 25,
   "id": "a50cfd08",
   "metadata": {},
   "outputs": [
    {
     "data": {
      "text/html": [
       "<div>\n",
       "<style scoped>\n",
       "    .dataframe tbody tr th:only-of-type {\n",
       "        vertical-align: middle;\n",
       "    }\n",
       "\n",
       "    .dataframe tbody tr th {\n",
       "        vertical-align: top;\n",
       "    }\n",
       "\n",
       "    .dataframe thead th {\n",
       "        text-align: right;\n",
       "    }\n",
       "</style>\n",
       "<table border=\"1\" class=\"dataframe\">\n",
       "  <thead>\n",
       "    <tr style=\"text-align: right;\">\n",
       "      <th></th>\n",
       "      <th>show_id</th>\n",
       "      <th>type</th>\n",
       "      <th>title</th>\n",
       "      <th>director</th>\n",
       "      <th>cast</th>\n",
       "      <th>country</th>\n",
       "      <th>date_added</th>\n",
       "      <th>release_year</th>\n",
       "      <th>rating</th>\n",
       "      <th>duration</th>\n",
       "      <th>listed_in</th>\n",
       "      <th>description</th>\n",
       "    </tr>\n",
       "  </thead>\n",
       "  <tbody>\n",
       "    <tr>\n",
       "      <th>406</th>\n",
       "      <td>s407</td>\n",
       "      <td>Movie</td>\n",
       "      <td>Chhota Bheem - Neeli Pahaadi</td>\n",
       "      <td>Rajiv Chilaka</td>\n",
       "      <td>Vatsal Dubey, Julie Tejwani, Rupa Bhimani, Jig...</td>\n",
       "      <td>NaN</td>\n",
       "      <td>July 22, 2021</td>\n",
       "      <td>2013</td>\n",
       "      <td>TV-Y7</td>\n",
       "      <td>64 min</td>\n",
       "      <td>Children &amp; Family Movies</td>\n",
       "      <td>Things get spooky when Bheem and his buddies t...</td>\n",
       "    </tr>\n",
       "    <tr>\n",
       "      <th>407</th>\n",
       "      <td>s408</td>\n",
       "      <td>Movie</td>\n",
       "      <td>Chhota Bheem &amp; Ganesh</td>\n",
       "      <td>Rajiv Chilaka</td>\n",
       "      <td>Vatsal Dubey, Julie Tejwani, Rupa Bhimani, Jig...</td>\n",
       "      <td>NaN</td>\n",
       "      <td>July 22, 2021</td>\n",
       "      <td>2009</td>\n",
       "      <td>TV-Y7</td>\n",
       "      <td>68 min</td>\n",
       "      <td>Children &amp; Family Movies</td>\n",
       "      <td>Bheem and Lord Ganesha join forces to save Dho...</td>\n",
       "    </tr>\n",
       "    <tr>\n",
       "      <th>408</th>\n",
       "      <td>s409</td>\n",
       "      <td>Movie</td>\n",
       "      <td>Chhota Bheem &amp; Krishna: Mayanagari</td>\n",
       "      <td>Rajiv Chilaka</td>\n",
       "      <td>Vatsal Dubey, Julie Tejwani, Rupa Bhimani, Jig...</td>\n",
       "      <td>NaN</td>\n",
       "      <td>July 22, 2021</td>\n",
       "      <td>2011</td>\n",
       "      <td>TV-Y7</td>\n",
       "      <td>67 min</td>\n",
       "      <td>Children &amp; Family Movies</td>\n",
       "      <td>Young lord Krishna has fallen for demoness Maa...</td>\n",
       "    </tr>\n",
       "    <tr>\n",
       "      <th>409</th>\n",
       "      <td>s410</td>\n",
       "      <td>Movie</td>\n",
       "      <td>Chhota Bheem &amp; Krishna: Pataliputra- City of t...</td>\n",
       "      <td>Rajiv Chilaka</td>\n",
       "      <td>Vatsal Dubey, Julie Tejwani, Rupa Bhimani, Jig...</td>\n",
       "      <td>NaN</td>\n",
       "      <td>July 22, 2021</td>\n",
       "      <td>2010</td>\n",
       "      <td>TV-Y7</td>\n",
       "      <td>66 min</td>\n",
       "      <td>Children &amp; Family Movies</td>\n",
       "      <td>Krishna needs Bheem’s help: The ruined city of...</td>\n",
       "    </tr>\n",
       "    <tr>\n",
       "      <th>410</th>\n",
       "      <td>s411</td>\n",
       "      <td>Movie</td>\n",
       "      <td>Chhota Bheem And The Broken Amulet</td>\n",
       "      <td>Rajiv Chilaka</td>\n",
       "      <td>Vatsal Dubey, Julie Tejwani, Rupa Bhimani, Jig...</td>\n",
       "      <td>India</td>\n",
       "      <td>July 22, 2021</td>\n",
       "      <td>2013</td>\n",
       "      <td>TV-Y7</td>\n",
       "      <td>64 min</td>\n",
       "      <td>Children &amp; Family Movies</td>\n",
       "      <td>When a stranger tries to steal an amulet from ...</td>\n",
       "    </tr>\n",
       "    <tr>\n",
       "      <th>411</th>\n",
       "      <td>s412</td>\n",
       "      <td>Movie</td>\n",
       "      <td>Chhota Bheem And The Crown of Valhalla</td>\n",
       "      <td>Rajiv Chilaka</td>\n",
       "      <td>Vatsal Dubey, Julie Tejwani, Rupa Bhimani, Jig...</td>\n",
       "      <td>NaN</td>\n",
       "      <td>July 22, 2021</td>\n",
       "      <td>2013</td>\n",
       "      <td>TV-Y7</td>\n",
       "      <td>64 min</td>\n",
       "      <td>Children &amp; Family Movies</td>\n",
       "      <td>To save the kingdom of Valhalla from invasion ...</td>\n",
       "    </tr>\n",
       "    <tr>\n",
       "      <th>412</th>\n",
       "      <td>s413</td>\n",
       "      <td>Movie</td>\n",
       "      <td>Chhota Bheem and the Incan Adventure</td>\n",
       "      <td>Rajiv Chilaka</td>\n",
       "      <td>Vatsal Dubey, Julie Tejwani, Rupa Bhimani, Jig...</td>\n",
       "      <td>NaN</td>\n",
       "      <td>July 22, 2021</td>\n",
       "      <td>2013</td>\n",
       "      <td>TV-Y7</td>\n",
       "      <td>65 min</td>\n",
       "      <td>Children &amp; Family Movies</td>\n",
       "      <td>When Dholakpur’s princess is kidnapped, Bheem ...</td>\n",
       "    </tr>\n",
       "    <tr>\n",
       "      <th>413</th>\n",
       "      <td>s414</td>\n",
       "      <td>Movie</td>\n",
       "      <td>Chhota Bheem and The ShiNobi Secret</td>\n",
       "      <td>Rajiv Chilaka</td>\n",
       "      <td>Vatsal Dubey, Julie Tejwani, Rupa Bhimani, Jig...</td>\n",
       "      <td>NaN</td>\n",
       "      <td>July 22, 2021</td>\n",
       "      <td>2013</td>\n",
       "      <td>TV-Y7</td>\n",
       "      <td>64 min</td>\n",
       "      <td>Children &amp; Family Movies</td>\n",
       "      <td>After learning of a samurai village under thre...</td>\n",
       "    </tr>\n",
       "    <tr>\n",
       "      <th>414</th>\n",
       "      <td>s415</td>\n",
       "      <td>Movie</td>\n",
       "      <td>Chhota Bheem Aur Hanuman</td>\n",
       "      <td>Rajiv Chilaka</td>\n",
       "      <td>Vatsal Dubey, Julie Tejwani, Rupa Bhimani, Jig...</td>\n",
       "      <td>NaN</td>\n",
       "      <td>July 22, 2021</td>\n",
       "      <td>2012</td>\n",
       "      <td>TV-Y7</td>\n",
       "      <td>68 min</td>\n",
       "      <td>Children &amp; Family Movies</td>\n",
       "      <td>When two evil entities kidnap a princess in a ...</td>\n",
       "    </tr>\n",
       "    <tr>\n",
       "      <th>415</th>\n",
       "      <td>s416</td>\n",
       "      <td>Movie</td>\n",
       "      <td>Chhota Bheem aur Krishna</td>\n",
       "      <td>Rajiv Chilaka</td>\n",
       "      <td>Vatsal Dubey, Julie Tejwani, Rupa Bhimani, Jig...</td>\n",
       "      <td>India</td>\n",
       "      <td>July 22, 2021</td>\n",
       "      <td>2009</td>\n",
       "      <td>TV-Y7</td>\n",
       "      <td>68 min</td>\n",
       "      <td>Children &amp; Family Movies</td>\n",
       "      <td>Centuries after the end of a conqueror's rule,...</td>\n",
       "    </tr>\n",
       "    <tr>\n",
       "      <th>416</th>\n",
       "      <td>s417</td>\n",
       "      <td>Movie</td>\n",
       "      <td>Chhota Bheem aur Krishna vs Zimbara</td>\n",
       "      <td>Rajiv Chilaka</td>\n",
       "      <td>Vatsal Dubey, Julie Tejwani, Rupa Bhimani, Jig...</td>\n",
       "      <td>NaN</td>\n",
       "      <td>July 22, 2021</td>\n",
       "      <td>2013</td>\n",
       "      <td>TV-Y7</td>\n",
       "      <td>64 min</td>\n",
       "      <td>Children &amp; Family Movies</td>\n",
       "      <td>A demon of darkness is plotting world dominati...</td>\n",
       "    </tr>\n",
       "    <tr>\n",
       "      <th>419</th>\n",
       "      <td>s420</td>\n",
       "      <td>Movie</td>\n",
       "      <td>Chhota Bheem: Bheem vs Aliens</td>\n",
       "      <td>Rajiv Chilaka</td>\n",
       "      <td>Vatsal Dubey, Julie Tejwani, Rupa Bhimani, Jig...</td>\n",
       "      <td>NaN</td>\n",
       "      <td>July 22, 2021</td>\n",
       "      <td>2010</td>\n",
       "      <td>TV-Y7</td>\n",
       "      <td>69 min</td>\n",
       "      <td>Children &amp; Family Movies, Sports Movies</td>\n",
       "      <td>Space invaders have kidnapped Dholakpur’s king...</td>\n",
       "    </tr>\n",
       "    <tr>\n",
       "      <th>420</th>\n",
       "      <td>s421</td>\n",
       "      <td>Movie</td>\n",
       "      <td>Chhota Bheem: Dholakpur to Kathmandu</td>\n",
       "      <td>Rajiv Chilaka</td>\n",
       "      <td>Vatsal Dubey, Julie Tejwani, Rupa Bhimani, Jig...</td>\n",
       "      <td>NaN</td>\n",
       "      <td>July 22, 2021</td>\n",
       "      <td>2012</td>\n",
       "      <td>TV-Y7</td>\n",
       "      <td>70 min</td>\n",
       "      <td>Children &amp; Family Movies</td>\n",
       "      <td>Bheem’s holiday in Nepal takes an unexpected t...</td>\n",
       "    </tr>\n",
       "    <tr>\n",
       "      <th>422</th>\n",
       "      <td>s423</td>\n",
       "      <td>Movie</td>\n",
       "      <td>Chhota Bheem: Journey to Petra</td>\n",
       "      <td>Rajiv Chilaka</td>\n",
       "      <td>Vatsal Dubey, Julie Tejwani, Rupa Bhimani, Jig...</td>\n",
       "      <td>NaN</td>\n",
       "      <td>July 22, 2021</td>\n",
       "      <td>2011</td>\n",
       "      <td>TV-Y7</td>\n",
       "      <td>68 min</td>\n",
       "      <td>Children &amp; Family Movies</td>\n",
       "      <td>The king has been away to meet an old friend, ...</td>\n",
       "    </tr>\n",
       "    <tr>\n",
       "      <th>423</th>\n",
       "      <td>s424</td>\n",
       "      <td>Movie</td>\n",
       "      <td>Chhota Bheem: Master of Shaolin</td>\n",
       "      <td>Rajiv Chilaka</td>\n",
       "      <td>Pooja Punabi, Mausam, Julie Tejwani, Rupa Bhim...</td>\n",
       "      <td>NaN</td>\n",
       "      <td>July 22, 2021</td>\n",
       "      <td>2011</td>\n",
       "      <td>TV-Y7</td>\n",
       "      <td>74 min</td>\n",
       "      <td>Children &amp; Family Movies</td>\n",
       "      <td>Summoned by a monk to help reclaim a temple fr...</td>\n",
       "    </tr>\n",
       "    <tr>\n",
       "      <th>424</th>\n",
       "      <td>s425</td>\n",
       "      <td>Movie</td>\n",
       "      <td>Chhota Bheem: The Rise of Kirmada</td>\n",
       "      <td>Rajiv Chilaka</td>\n",
       "      <td>Vatsal Dubey, Julie Tejwani, Rupa Bhimani, Jig...</td>\n",
       "      <td>NaN</td>\n",
       "      <td>July 22, 2021</td>\n",
       "      <td>2012</td>\n",
       "      <td>TV-Y7</td>\n",
       "      <td>68 min</td>\n",
       "      <td>Children &amp; Family Movies</td>\n",
       "      <td>Bheem and young lord Krishna team up to protec...</td>\n",
       "    </tr>\n",
       "    <tr>\n",
       "      <th>2717</th>\n",
       "      <td>s2718</td>\n",
       "      <td>Movie</td>\n",
       "      <td>Chhota Bheem and the Curse of Damyaan</td>\n",
       "      <td>Rajiv Chilaka</td>\n",
       "      <td>Kaustav Ghosh, Jigna Bhardwaj, Chutki, Rajesh ...</td>\n",
       "      <td>India</td>\n",
       "      <td>April 1, 2020</td>\n",
       "      <td>2012</td>\n",
       "      <td>TV-Y7</td>\n",
       "      <td>87 min</td>\n",
       "      <td>Children &amp; Family Movies</td>\n",
       "      <td>An evil demon who traded his freedom for immor...</td>\n",
       "    </tr>\n",
       "    <tr>\n",
       "      <th>6297</th>\n",
       "      <td>s6298</td>\n",
       "      <td>Movie</td>\n",
       "      <td>Bheemayan</td>\n",
       "      <td>Rajiv Chilaka</td>\n",
       "      <td>NaN</td>\n",
       "      <td>NaN</td>\n",
       "      <td>May 10, 2019</td>\n",
       "      <td>2018</td>\n",
       "      <td>TV-Y</td>\n",
       "      <td>63 min</td>\n",
       "      <td>Children &amp; Family Movies</td>\n",
       "      <td>It's Diwali! To celebrate, Chhota Bheem and hi...</td>\n",
       "    </tr>\n",
       "    <tr>\n",
       "      <th>6645</th>\n",
       "      <td>s6646</td>\n",
       "      <td>Movie</td>\n",
       "      <td>Dragonkala Ka Rahasya</td>\n",
       "      <td>Rajiv Chilaka</td>\n",
       "      <td>NaN</td>\n",
       "      <td>NaN</td>\n",
       "      <td>June 18, 2019</td>\n",
       "      <td>2018</td>\n",
       "      <td>TV-Y</td>\n",
       "      <td>68 min</td>\n",
       "      <td>Children &amp; Family Movies</td>\n",
       "      <td>Bheem helps to reopen Dragonpur's abandoned ma...</td>\n",
       "    </tr>\n",
       "  </tbody>\n",
       "</table>\n",
       "</div>"
      ],
      "text/plain": [
       "     show_id   type                                              title  \\\n",
       "406     s407  Movie                       Chhota Bheem - Neeli Pahaadi   \n",
       "407     s408  Movie                              Chhota Bheem & Ganesh   \n",
       "408     s409  Movie                 Chhota Bheem & Krishna: Mayanagari   \n",
       "409     s410  Movie  Chhota Bheem & Krishna: Pataliputra- City of t...   \n",
       "410     s411  Movie                 Chhota Bheem And The Broken Amulet   \n",
       "411     s412  Movie             Chhota Bheem And The Crown of Valhalla   \n",
       "412     s413  Movie               Chhota Bheem and the Incan Adventure   \n",
       "413     s414  Movie                Chhota Bheem and The ShiNobi Secret   \n",
       "414     s415  Movie                           Chhota Bheem Aur Hanuman   \n",
       "415     s416  Movie                           Chhota Bheem aur Krishna   \n",
       "416     s417  Movie                Chhota Bheem aur Krishna vs Zimbara   \n",
       "419     s420  Movie                      Chhota Bheem: Bheem vs Aliens   \n",
       "420     s421  Movie               Chhota Bheem: Dholakpur to Kathmandu   \n",
       "422     s423  Movie                     Chhota Bheem: Journey to Petra   \n",
       "423     s424  Movie                    Chhota Bheem: Master of Shaolin   \n",
       "424     s425  Movie                  Chhota Bheem: The Rise of Kirmada   \n",
       "2717   s2718  Movie              Chhota Bheem and the Curse of Damyaan   \n",
       "6297   s6298  Movie                                          Bheemayan   \n",
       "6645   s6646  Movie                              Dragonkala Ka Rahasya   \n",
       "\n",
       "           director                                               cast  \\\n",
       "406   Rajiv Chilaka  Vatsal Dubey, Julie Tejwani, Rupa Bhimani, Jig...   \n",
       "407   Rajiv Chilaka  Vatsal Dubey, Julie Tejwani, Rupa Bhimani, Jig...   \n",
       "408   Rajiv Chilaka  Vatsal Dubey, Julie Tejwani, Rupa Bhimani, Jig...   \n",
       "409   Rajiv Chilaka  Vatsal Dubey, Julie Tejwani, Rupa Bhimani, Jig...   \n",
       "410   Rajiv Chilaka  Vatsal Dubey, Julie Tejwani, Rupa Bhimani, Jig...   \n",
       "411   Rajiv Chilaka  Vatsal Dubey, Julie Tejwani, Rupa Bhimani, Jig...   \n",
       "412   Rajiv Chilaka  Vatsal Dubey, Julie Tejwani, Rupa Bhimani, Jig...   \n",
       "413   Rajiv Chilaka  Vatsal Dubey, Julie Tejwani, Rupa Bhimani, Jig...   \n",
       "414   Rajiv Chilaka  Vatsal Dubey, Julie Tejwani, Rupa Bhimani, Jig...   \n",
       "415   Rajiv Chilaka  Vatsal Dubey, Julie Tejwani, Rupa Bhimani, Jig...   \n",
       "416   Rajiv Chilaka  Vatsal Dubey, Julie Tejwani, Rupa Bhimani, Jig...   \n",
       "419   Rajiv Chilaka  Vatsal Dubey, Julie Tejwani, Rupa Bhimani, Jig...   \n",
       "420   Rajiv Chilaka  Vatsal Dubey, Julie Tejwani, Rupa Bhimani, Jig...   \n",
       "422   Rajiv Chilaka  Vatsal Dubey, Julie Tejwani, Rupa Bhimani, Jig...   \n",
       "423   Rajiv Chilaka  Pooja Punabi, Mausam, Julie Tejwani, Rupa Bhim...   \n",
       "424   Rajiv Chilaka  Vatsal Dubey, Julie Tejwani, Rupa Bhimani, Jig...   \n",
       "2717  Rajiv Chilaka  Kaustav Ghosh, Jigna Bhardwaj, Chutki, Rajesh ...   \n",
       "6297  Rajiv Chilaka                                                NaN   \n",
       "6645  Rajiv Chilaka                                                NaN   \n",
       "\n",
       "     country     date_added  release_year rating duration  \\\n",
       "406      NaN  July 22, 2021          2013  TV-Y7   64 min   \n",
       "407      NaN  July 22, 2021          2009  TV-Y7   68 min   \n",
       "408      NaN  July 22, 2021          2011  TV-Y7   67 min   \n",
       "409      NaN  July 22, 2021          2010  TV-Y7   66 min   \n",
       "410    India  July 22, 2021          2013  TV-Y7   64 min   \n",
       "411      NaN  July 22, 2021          2013  TV-Y7   64 min   \n",
       "412      NaN  July 22, 2021          2013  TV-Y7   65 min   \n",
       "413      NaN  July 22, 2021          2013  TV-Y7   64 min   \n",
       "414      NaN  July 22, 2021          2012  TV-Y7   68 min   \n",
       "415    India  July 22, 2021          2009  TV-Y7   68 min   \n",
       "416      NaN  July 22, 2021          2013  TV-Y7   64 min   \n",
       "419      NaN  July 22, 2021          2010  TV-Y7   69 min   \n",
       "420      NaN  July 22, 2021          2012  TV-Y7   70 min   \n",
       "422      NaN  July 22, 2021          2011  TV-Y7   68 min   \n",
       "423      NaN  July 22, 2021          2011  TV-Y7   74 min   \n",
       "424      NaN  July 22, 2021          2012  TV-Y7   68 min   \n",
       "2717   India  April 1, 2020          2012  TV-Y7   87 min   \n",
       "6297     NaN   May 10, 2019          2018   TV-Y   63 min   \n",
       "6645     NaN  June 18, 2019          2018   TV-Y   68 min   \n",
       "\n",
       "                                    listed_in  \\\n",
       "406                  Children & Family Movies   \n",
       "407                  Children & Family Movies   \n",
       "408                  Children & Family Movies   \n",
       "409                  Children & Family Movies   \n",
       "410                  Children & Family Movies   \n",
       "411                  Children & Family Movies   \n",
       "412                  Children & Family Movies   \n",
       "413                  Children & Family Movies   \n",
       "414                  Children & Family Movies   \n",
       "415                  Children & Family Movies   \n",
       "416                  Children & Family Movies   \n",
       "419   Children & Family Movies, Sports Movies   \n",
       "420                  Children & Family Movies   \n",
       "422                  Children & Family Movies   \n",
       "423                  Children & Family Movies   \n",
       "424                  Children & Family Movies   \n",
       "2717                 Children & Family Movies   \n",
       "6297                 Children & Family Movies   \n",
       "6645                 Children & Family Movies   \n",
       "\n",
       "                                            description  \n",
       "406   Things get spooky when Bheem and his buddies t...  \n",
       "407   Bheem and Lord Ganesha join forces to save Dho...  \n",
       "408   Young lord Krishna has fallen for demoness Maa...  \n",
       "409   Krishna needs Bheem’s help: The ruined city of...  \n",
       "410   When a stranger tries to steal an amulet from ...  \n",
       "411   To save the kingdom of Valhalla from invasion ...  \n",
       "412   When Dholakpur’s princess is kidnapped, Bheem ...  \n",
       "413   After learning of a samurai village under thre...  \n",
       "414   When two evil entities kidnap a princess in a ...  \n",
       "415   Centuries after the end of a conqueror's rule,...  \n",
       "416   A demon of darkness is plotting world dominati...  \n",
       "419   Space invaders have kidnapped Dholakpur’s king...  \n",
       "420   Bheem’s holiday in Nepal takes an unexpected t...  \n",
       "422   The king has been away to meet an old friend, ...  \n",
       "423   Summoned by a monk to help reclaim a temple fr...  \n",
       "424   Bheem and young lord Krishna team up to protec...  \n",
       "2717  An evil demon who traded his freedom for immor...  \n",
       "6297  It's Diwali! To celebrate, Chhota Bheem and hi...  \n",
       "6645  Bheem helps to reopen Dragonpur's abandoned ma...  "
      ]
     },
     "execution_count": 25,
     "metadata": {},
     "output_type": "execute_result"
    }
   ],
   "source": [
    "df.groupby('director').get_group(name='Rajiv Chilaka')"
   ]
  },
  {
   "cell_type": "markdown",
   "id": "0b5da580",
   "metadata": {},
   "source": [
    "### cast"
   ]
  },
  {
   "cell_type": "markdown",
   "id": "5ba2cd9e",
   "metadata": {},
   "source": [
    "### country"
   ]
  },
  {
   "cell_type": "markdown",
   "id": "769e3f75",
   "metadata": {},
   "source": [
    "### date_added"
   ]
  },
  {
   "cell_type": "markdown",
   "id": "5dfb2380",
   "metadata": {},
   "source": [
    "### release_year"
   ]
  },
  {
   "cell_type": "markdown",
   "id": "994608e4",
   "metadata": {},
   "source": [
    "### rating"
   ]
  },
  {
   "cell_type": "markdown",
   "id": "4649e21e",
   "metadata": {},
   "source": [
    "### duration"
   ]
  },
  {
   "cell_type": "markdown",
   "id": "d6d00285",
   "metadata": {},
   "source": [
    "### listed_in"
   ]
  },
  {
   "cell_type": "markdown",
   "id": "2a333327",
   "metadata": {},
   "source": [
    "### description"
   ]
  },
  {
   "cell_type": "code",
   "execution_count": null,
   "id": "22e1f418",
   "metadata": {},
   "outputs": [],
   "source": []
  }
 ],
 "metadata": {
  "kernelspec": {
   "display_name": "Python 3",
   "language": "python",
   "name": "python3"
  },
  "language_info": {
   "codemirror_mode": {
    "name": "ipython",
    "version": 3
   },
   "file_extension": ".py",
   "mimetype": "text/x-python",
   "name": "python",
   "nbconvert_exporter": "python",
   "pygments_lexer": "ipython3",
   "version": "3.8.8"
  }
 },
 "nbformat": 4,
 "nbformat_minor": 5
}

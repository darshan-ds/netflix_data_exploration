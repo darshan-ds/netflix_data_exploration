{
 "cells": [
  {
   "cell_type": "markdown",
   "id": "8f78ba11",
   "metadata": {},
   "source": [
    "The exploration should have a goal. As you explore the data, keep in mind that you want to answer which type of shows to produce and how to grow the business.\n",
    "Ensure each recommendation is backed by data. The company is looking for data-driven insights, not personal opinions or anecdotes.\n",
    "Assume that you are presenting your findings to business executives who have only a basic understanding of data science. Avoid unnecessary technical jargon.\n",
    "Start by exploring a few questions: What type of content is available in different countries?\n",
    "How has the number of movies released per year changed over the last 20-30 years?\n",
    "Comparison of tv shows vs. movies.\n",
    "What is the best time to launch a TV show?\n",
    "Analysis of actors/directors of different types of shows/movies.\n",
    "Does Netflix has more focus on TV Shows than movies in recent years\n",
    "Understanding what content is available in different countries"
   ]
  },
  {
   "cell_type": "markdown",
   "id": "c28b4a22",
   "metadata": {},
   "source": [
    "1. Defining Problem Statement and Analysing basic metrics (10 Points)\n",
    "\n",
    "2. Observations on the shape of data, data types of all the attributes, conversion of categorical attributes to 'category' (If required), missing value detection, statistical summary (10 Points)\n",
    "\n",
    "3. Non-Graphical Analysis: Value counts and unique attributes ​​(10 Points)\n",
    "\n",
    "4. Visual Analysis - Univariate, Bivariate after pre-processing of the data\n",
    "\n",
    "Note: Pre-processing involves unnesting of the data in columns like Actor, Director, Country\n",
    "\n",
    "4.1 For continuous variable(s): Distplot, countplot, histogram for univariate analysis (10 Points)\n",
    "\n",
    "4.2 For categorical variable(s): Boxplot (10 Points)\n",
    "\n",
    "4.3 For correlation: Heatmaps, Pairplots (10 Points)\n",
    "\n",
    "5. Missing Value & Outlier check (Treatment optional) (10 Points)\n",
    "\n",
    "6. Insights based on Non-Graphical and Visual Analysis (10 Points)\n",
    "\n",
    "6.1 Comments on the range of attributes\n",
    "\n",
    "6.2 Comments on the distribution of the variables and relationship between them\n",
    "\n",
    "6.3 Comments for each univariate and bivariate plot\n",
    "\n",
    "7. Business Insights (10 Points) - Should include patterns observed in the data along with what you can infer from it\n",
    "\n",
    "8. Recommendations (10 Points) - Actionable items for business. No technical jargon. No complications. Simple action items that everyone can understand"
   ]
  },
  {
   "cell_type": "markdown",
   "id": "dcff0a60",
   "metadata": {},
   "source": [
    "# Netflix Analysis"
   ]
  },
  {
   "cell_type": "markdown",
   "id": "1da863a8",
   "metadata": {},
   "source": [
    "__Netlix, Inc__. is an American technology and media services provider and production\n",
    "company headquartered in __Los Gatos, California__. Netlix was founded in 1997 by __Reed\n",
    "Hastings__ and __Marc Randolph__ in Scotts Valley, California. The company’s primary business is its\n",
    "subscription-based streaming service, which offers online streaming of a library of films and\n",
    "television series, including those produced in-house."
   ]
  },
  {
   "cell_type": "code",
   "execution_count": 41,
   "id": "55586833",
   "metadata": {},
   "outputs": [],
   "source": [
    "# Lets start by importing some basic libraries\n",
    "\n",
    "import numpy as np\n",
    "import pandas as pd\n",
    "import matplotlib.pyplot as plt\n",
    "import seaborn as sns\n",
    "\n",
    "\n",
    "import warnings\n",
    "warnings.filterwarnings('ignore')"
   ]
  },
  {
   "cell_type": "code",
   "execution_count": 2,
   "id": "74f9d5c0",
   "metadata": {},
   "outputs": [],
   "source": [
    "# Read the csv file into a variable\n",
    "\n",
    "df = pd.read_csv('netflix.csv')"
   ]
  },
  {
   "cell_type": "markdown",
   "id": "313519d9",
   "metadata": {},
   "source": [
    "---"
   ]
  },
  {
   "cell_type": "markdown",
   "id": "ea844b21",
   "metadata": {},
   "source": [
    "## 1. Defining Problem Statement and Analysing basic metrics"
   ]
  },
  {
   "cell_type": "markdown",
   "id": "ac2a1cc4",
   "metadata": {},
   "source": [
    "__Problem Statement__ : From the given data find out which type of shows to produce and how to grow the business."
   ]
  },
  {
   "cell_type": "markdown",
   "id": "7d8022d4",
   "metadata": {},
   "source": [
    "__Basic Metric__ : We need to set a metric which best captures how to measure if the business is growing or falling. Since we don't have a factual field, we use dimensions to create a metric. In this analysis I am using ***most repeated*** as the metric for evaluation."
   ]
  },
  {
   "cell_type": "markdown",
   "id": "d6ef9386",
   "metadata": {},
   "source": [
    "---"
   ]
  },
  {
   "cell_type": "markdown",
   "id": "aaf2f78f",
   "metadata": {},
   "source": [
    "## 2. Observations on the shape of data, data types of all the attributes, conversion of categorical attributes to 'category' (If required), missing value detection, statistical summary <u>*(Pre-processing also included)*<u>"
   ]
  },
  {
   "cell_type": "code",
   "execution_count": 3,
   "id": "ffc7d9ad",
   "metadata": {},
   "outputs": [
    {
     "data": {
      "text/html": [
       "<div>\n",
       "<style scoped>\n",
       "    .dataframe tbody tr th:only-of-type {\n",
       "        vertical-align: middle;\n",
       "    }\n",
       "\n",
       "    .dataframe tbody tr th {\n",
       "        vertical-align: top;\n",
       "    }\n",
       "\n",
       "    .dataframe thead th {\n",
       "        text-align: right;\n",
       "    }\n",
       "</style>\n",
       "<table border=\"1\" class=\"dataframe\">\n",
       "  <thead>\n",
       "    <tr style=\"text-align: right;\">\n",
       "      <th></th>\n",
       "      <th>show_id</th>\n",
       "      <th>type</th>\n",
       "      <th>title</th>\n",
       "      <th>director</th>\n",
       "      <th>cast</th>\n",
       "      <th>country</th>\n",
       "      <th>date_added</th>\n",
       "      <th>release_year</th>\n",
       "      <th>rating</th>\n",
       "      <th>duration</th>\n",
       "      <th>listed_in</th>\n",
       "      <th>description</th>\n",
       "    </tr>\n",
       "  </thead>\n",
       "  <tbody>\n",
       "    <tr>\n",
       "      <th>0</th>\n",
       "      <td>s1</td>\n",
       "      <td>Movie</td>\n",
       "      <td>Dick Johnson Is Dead</td>\n",
       "      <td>Kirsten Johnson</td>\n",
       "      <td>NaN</td>\n",
       "      <td>United States</td>\n",
       "      <td>September 25, 2021</td>\n",
       "      <td>2020</td>\n",
       "      <td>PG-13</td>\n",
       "      <td>90 min</td>\n",
       "      <td>Documentaries</td>\n",
       "      <td>As her father nears the end of his life, filmm...</td>\n",
       "    </tr>\n",
       "    <tr>\n",
       "      <th>1</th>\n",
       "      <td>s2</td>\n",
       "      <td>TV Show</td>\n",
       "      <td>Blood &amp; Water</td>\n",
       "      <td>NaN</td>\n",
       "      <td>Ama Qamata, Khosi Ngema, Gail Mabalane, Thaban...</td>\n",
       "      <td>South Africa</td>\n",
       "      <td>September 24, 2021</td>\n",
       "      <td>2021</td>\n",
       "      <td>TV-MA</td>\n",
       "      <td>2 Seasons</td>\n",
       "      <td>International TV Shows, TV Dramas, TV Mysteries</td>\n",
       "      <td>After crossing paths at a party, a Cape Town t...</td>\n",
       "    </tr>\n",
       "    <tr>\n",
       "      <th>2</th>\n",
       "      <td>s3</td>\n",
       "      <td>TV Show</td>\n",
       "      <td>Ganglands</td>\n",
       "      <td>Julien Leclercq</td>\n",
       "      <td>Sami Bouajila, Tracy Gotoas, Samuel Jouy, Nabi...</td>\n",
       "      <td>NaN</td>\n",
       "      <td>September 24, 2021</td>\n",
       "      <td>2021</td>\n",
       "      <td>TV-MA</td>\n",
       "      <td>1 Season</td>\n",
       "      <td>Crime TV Shows, International TV Shows, TV Act...</td>\n",
       "      <td>To protect his family from a powerful drug lor...</td>\n",
       "    </tr>\n",
       "    <tr>\n",
       "      <th>3</th>\n",
       "      <td>s4</td>\n",
       "      <td>TV Show</td>\n",
       "      <td>Jailbirds New Orleans</td>\n",
       "      <td>NaN</td>\n",
       "      <td>NaN</td>\n",
       "      <td>NaN</td>\n",
       "      <td>September 24, 2021</td>\n",
       "      <td>2021</td>\n",
       "      <td>TV-MA</td>\n",
       "      <td>1 Season</td>\n",
       "      <td>Docuseries, Reality TV</td>\n",
       "      <td>Feuds, flirtations and toilet talk go down amo...</td>\n",
       "    </tr>\n",
       "    <tr>\n",
       "      <th>4</th>\n",
       "      <td>s5</td>\n",
       "      <td>TV Show</td>\n",
       "      <td>Kota Factory</td>\n",
       "      <td>NaN</td>\n",
       "      <td>Mayur More, Jitendra Kumar, Ranjan Raj, Alam K...</td>\n",
       "      <td>India</td>\n",
       "      <td>September 24, 2021</td>\n",
       "      <td>2021</td>\n",
       "      <td>TV-MA</td>\n",
       "      <td>2 Seasons</td>\n",
       "      <td>International TV Shows, Romantic TV Shows, TV ...</td>\n",
       "      <td>In a city of coaching centers known to train I...</td>\n",
       "    </tr>\n",
       "  </tbody>\n",
       "</table>\n",
       "</div>"
      ],
      "text/plain": [
       "  show_id     type                  title         director  \\\n",
       "0      s1    Movie   Dick Johnson Is Dead  Kirsten Johnson   \n",
       "1      s2  TV Show          Blood & Water              NaN   \n",
       "2      s3  TV Show              Ganglands  Julien Leclercq   \n",
       "3      s4  TV Show  Jailbirds New Orleans              NaN   \n",
       "4      s5  TV Show           Kota Factory              NaN   \n",
       "\n",
       "                                                cast        country  \\\n",
       "0                                                NaN  United States   \n",
       "1  Ama Qamata, Khosi Ngema, Gail Mabalane, Thaban...   South Africa   \n",
       "2  Sami Bouajila, Tracy Gotoas, Samuel Jouy, Nabi...            NaN   \n",
       "3                                                NaN            NaN   \n",
       "4  Mayur More, Jitendra Kumar, Ranjan Raj, Alam K...          India   \n",
       "\n",
       "           date_added  release_year rating   duration  \\\n",
       "0  September 25, 2021          2020  PG-13     90 min   \n",
       "1  September 24, 2021          2021  TV-MA  2 Seasons   \n",
       "2  September 24, 2021          2021  TV-MA   1 Season   \n",
       "3  September 24, 2021          2021  TV-MA   1 Season   \n",
       "4  September 24, 2021          2021  TV-MA  2 Seasons   \n",
       "\n",
       "                                           listed_in  \\\n",
       "0                                      Documentaries   \n",
       "1    International TV Shows, TV Dramas, TV Mysteries   \n",
       "2  Crime TV Shows, International TV Shows, TV Act...   \n",
       "3                             Docuseries, Reality TV   \n",
       "4  International TV Shows, Romantic TV Shows, TV ...   \n",
       "\n",
       "                                         description  \n",
       "0  As her father nears the end of his life, filmm...  \n",
       "1  After crossing paths at a party, a Cape Town t...  \n",
       "2  To protect his family from a powerful drug lor...  \n",
       "3  Feuds, flirtations and toilet talk go down amo...  \n",
       "4  In a city of coaching centers known to train I...  "
      ]
     },
     "execution_count": 3,
     "metadata": {},
     "output_type": "execute_result"
    }
   ],
   "source": [
    "# Lets see how the data looks like\n",
    "\n",
    "df.head() # first 5 rows in the dataset"
   ]
  },
  {
   "cell_type": "code",
   "execution_count": 4,
   "id": "c7963a56",
   "metadata": {},
   "outputs": [
    {
     "data": {
      "text/plain": [
       "(8807, 12)"
      ]
     },
     "execution_count": 4,
     "metadata": {},
     "output_type": "execute_result"
    }
   ],
   "source": [
    "# Lets look at the shape of the data\n",
    "\n",
    "df.shape\n",
    "# There are 8807 rows and 12 columns in this dataset"
   ]
  },
  {
   "cell_type": "code",
   "execution_count": 5,
   "id": "bf67dc61",
   "metadata": {},
   "outputs": [
    {
     "name": "stdout",
     "output_type": "stream",
     "text": [
      "<class 'pandas.core.frame.DataFrame'>\n",
      "RangeIndex: 8807 entries, 0 to 8806\n",
      "Data columns (total 12 columns):\n",
      " #   Column        Non-Null Count  Dtype \n",
      "---  ------        --------------  ----- \n",
      " 0   show_id       8807 non-null   object\n",
      " 1   type          8807 non-null   object\n",
      " 2   title         8807 non-null   object\n",
      " 3   director      6173 non-null   object\n",
      " 4   cast          7982 non-null   object\n",
      " 5   country       7976 non-null   object\n",
      " 6   date_added    8797 non-null   object\n",
      " 7   release_year  8807 non-null   int64 \n",
      " 8   rating        8803 non-null   object\n",
      " 9   duration      8804 non-null   object\n",
      " 10  listed_in     8807 non-null   object\n",
      " 11  description   8807 non-null   object\n",
      "dtypes: int64(1), object(11)\n",
      "memory usage: 825.8+ KB\n"
     ]
    }
   ],
   "source": [
    "# Lets look at the datatypes\n",
    "\n",
    "df.info()\n"
   ]
  },
  {
   "cell_type": "markdown",
   "id": "1cb3428c",
   "metadata": {},
   "source": [
    "> All the columns except release_year is of object datatype, where release_year is of integer datatype"
   ]
  },
  {
   "cell_type": "code",
   "execution_count": 6,
   "id": "830b0403",
   "metadata": {},
   "outputs": [
    {
     "data": {
      "text/html": [
       "<div>\n",
       "<style scoped>\n",
       "    .dataframe tbody tr th:only-of-type {\n",
       "        vertical-align: middle;\n",
       "    }\n",
       "\n",
       "    .dataframe tbody tr th {\n",
       "        vertical-align: top;\n",
       "    }\n",
       "\n",
       "    .dataframe thead th {\n",
       "        text-align: right;\n",
       "    }\n",
       "</style>\n",
       "<table border=\"1\" class=\"dataframe\">\n",
       "  <thead>\n",
       "    <tr style=\"text-align: right;\">\n",
       "      <th></th>\n",
       "      <th>release_year</th>\n",
       "    </tr>\n",
       "  </thead>\n",
       "  <tbody>\n",
       "    <tr>\n",
       "      <th>count</th>\n",
       "      <td>8807.000000</td>\n",
       "    </tr>\n",
       "    <tr>\n",
       "      <th>mean</th>\n",
       "      <td>2014.180198</td>\n",
       "    </tr>\n",
       "    <tr>\n",
       "      <th>std</th>\n",
       "      <td>8.819312</td>\n",
       "    </tr>\n",
       "    <tr>\n",
       "      <th>min</th>\n",
       "      <td>1925.000000</td>\n",
       "    </tr>\n",
       "    <tr>\n",
       "      <th>25%</th>\n",
       "      <td>2013.000000</td>\n",
       "    </tr>\n",
       "    <tr>\n",
       "      <th>50%</th>\n",
       "      <td>2017.000000</td>\n",
       "    </tr>\n",
       "    <tr>\n",
       "      <th>75%</th>\n",
       "      <td>2019.000000</td>\n",
       "    </tr>\n",
       "    <tr>\n",
       "      <th>max</th>\n",
       "      <td>2021.000000</td>\n",
       "    </tr>\n",
       "  </tbody>\n",
       "</table>\n",
       "</div>"
      ],
      "text/plain": [
       "       release_year\n",
       "count   8807.000000\n",
       "mean    2014.180198\n",
       "std        8.819312\n",
       "min     1925.000000\n",
       "25%     2013.000000\n",
       "50%     2017.000000\n",
       "75%     2019.000000\n",
       "max     2021.000000"
      ]
     },
     "execution_count": 6,
     "metadata": {},
     "output_type": "execute_result"
    }
   ],
   "source": [
    "df.describe() # default behaviour of describe is only for numeric datatype"
   ]
  },
  {
   "cell_type": "markdown",
   "id": "12f9d0c2",
   "metadata": {},
   "source": [
    "> The data contains movies/TVshows which were released from 1925 to 2021"
   ]
  },
  {
   "cell_type": "code",
   "execution_count": 7,
   "id": "a0ee9033",
   "metadata": {},
   "outputs": [
    {
     "data": {
      "text/html": [
       "<div>\n",
       "<style scoped>\n",
       "    .dataframe tbody tr th:only-of-type {\n",
       "        vertical-align: middle;\n",
       "    }\n",
       "\n",
       "    .dataframe tbody tr th {\n",
       "        vertical-align: top;\n",
       "    }\n",
       "\n",
       "    .dataframe thead th {\n",
       "        text-align: right;\n",
       "    }\n",
       "</style>\n",
       "<table border=\"1\" class=\"dataframe\">\n",
       "  <thead>\n",
       "    <tr style=\"text-align: right;\">\n",
       "      <th></th>\n",
       "      <th>show_id</th>\n",
       "      <th>type</th>\n",
       "      <th>title</th>\n",
       "      <th>director</th>\n",
       "      <th>cast</th>\n",
       "      <th>country</th>\n",
       "      <th>date_added</th>\n",
       "      <th>rating</th>\n",
       "      <th>duration</th>\n",
       "      <th>listed_in</th>\n",
       "      <th>description</th>\n",
       "    </tr>\n",
       "  </thead>\n",
       "  <tbody>\n",
       "    <tr>\n",
       "      <th>count</th>\n",
       "      <td>8807</td>\n",
       "      <td>8807</td>\n",
       "      <td>8807</td>\n",
       "      <td>6173</td>\n",
       "      <td>7982</td>\n",
       "      <td>7976</td>\n",
       "      <td>8797</td>\n",
       "      <td>8803</td>\n",
       "      <td>8804</td>\n",
       "      <td>8807</td>\n",
       "      <td>8807</td>\n",
       "    </tr>\n",
       "    <tr>\n",
       "      <th>unique</th>\n",
       "      <td>8807</td>\n",
       "      <td>2</td>\n",
       "      <td>8807</td>\n",
       "      <td>4528</td>\n",
       "      <td>7692</td>\n",
       "      <td>748</td>\n",
       "      <td>1767</td>\n",
       "      <td>17</td>\n",
       "      <td>220</td>\n",
       "      <td>514</td>\n",
       "      <td>8775</td>\n",
       "    </tr>\n",
       "    <tr>\n",
       "      <th>top</th>\n",
       "      <td>s6740</td>\n",
       "      <td>Movie</td>\n",
       "      <td>My Ex-Ex</td>\n",
       "      <td>Rajiv Chilaka</td>\n",
       "      <td>David Attenborough</td>\n",
       "      <td>United States</td>\n",
       "      <td>January 1, 2020</td>\n",
       "      <td>TV-MA</td>\n",
       "      <td>1 Season</td>\n",
       "      <td>Dramas, International Movies</td>\n",
       "      <td>Paranormal activity at a lush, abandoned prope...</td>\n",
       "    </tr>\n",
       "    <tr>\n",
       "      <th>freq</th>\n",
       "      <td>1</td>\n",
       "      <td>6131</td>\n",
       "      <td>1</td>\n",
       "      <td>19</td>\n",
       "      <td>19</td>\n",
       "      <td>2818</td>\n",
       "      <td>109</td>\n",
       "      <td>3207</td>\n",
       "      <td>1793</td>\n",
       "      <td>362</td>\n",
       "      <td>4</td>\n",
       "    </tr>\n",
       "  </tbody>\n",
       "</table>\n",
       "</div>"
      ],
      "text/plain": [
       "       show_id   type     title       director                cast  \\\n",
       "count     8807   8807      8807           6173                7982   \n",
       "unique    8807      2      8807           4528                7692   \n",
       "top      s6740  Movie  My Ex-Ex  Rajiv Chilaka  David Attenborough   \n",
       "freq         1   6131         1             19                  19   \n",
       "\n",
       "              country       date_added rating  duration  \\\n",
       "count            7976             8797   8803      8804   \n",
       "unique            748             1767     17       220   \n",
       "top     United States  January 1, 2020  TV-MA  1 Season   \n",
       "freq             2818              109   3207      1793   \n",
       "\n",
       "                           listed_in  \\\n",
       "count                           8807   \n",
       "unique                           514   \n",
       "top     Dramas, International Movies   \n",
       "freq                             362   \n",
       "\n",
       "                                              description  \n",
       "count                                                8807  \n",
       "unique                                               8775  \n",
       "top     Paranormal activity at a lush, abandoned prope...  \n",
       "freq                                                    4  "
      ]
     },
     "execution_count": 7,
     "metadata": {},
     "output_type": "execute_result"
    }
   ],
   "source": [
    "df.describe(include='O') # include='O' will describe the object datatype columns\n"
   ]
  },
  {
   "cell_type": "markdown",
   "id": "e734dfcd",
   "metadata": {},
   "source": [
    "> - We can see there are 2 netflix types, with 8807 titles which were directed by 4528 directors.\n",
    "> - Movies/TVshows of 748 countries are listed in this dataset.\n",
    "> - We can also see that 2818 movies/tvshows were\n",
    "> made in United States."
   ]
  },
  {
   "cell_type": "code",
   "execution_count": 8,
   "id": "a98afcb1",
   "metadata": {},
   "outputs": [
    {
     "data": {
      "text/plain": [
       "show_id          0.000000\n",
       "type             0.000000\n",
       "title            0.000000\n",
       "director        42.669691\n",
       "cast            10.335755\n",
       "country         10.418756\n",
       "date_added       0.113675\n",
       "release_year     0.000000\n",
       "rating           0.045439\n",
       "duration         0.034075\n",
       "listed_in        0.000000\n",
       "description      0.000000\n",
       "dtype: float64"
      ]
     },
     "execution_count": 8,
     "metadata": {},
     "output_type": "execute_result"
    }
   ],
   "source": [
    "# Lets check the percent of missing values\n",
    "\n",
    "df.isnull().sum()/df.count() * 100"
   ]
  },
  {
   "cell_type": "markdown",
   "id": "bc9fc2a3",
   "metadata": {},
   "source": [
    "> __Director__ field has the most missing values - 42.6%"
   ]
  },
  {
   "cell_type": "code",
   "execution_count": 10,
   "id": "17a185fc",
   "metadata": {},
   "outputs": [
    {
     "data": {
      "text/plain": [
       "array(['Movie', 'TV Show'], dtype=object)"
      ]
     },
     "execution_count": 10,
     "metadata": {},
     "output_type": "execute_result"
    }
   ],
   "source": [
    "# Lets check what types of shows are in the dataset\n",
    "\n",
    "df.type.unique()"
   ]
  },
  {
   "cell_type": "code",
   "execution_count": 11,
   "id": "a073520a",
   "metadata": {},
   "outputs": [
    {
     "data": {
      "text/plain": [
       "Movie      69.615079\n",
       "TV Show    30.384921\n",
       "Name: type, dtype: float64"
      ]
     },
     "execution_count": 11,
     "metadata": {},
     "output_type": "execute_result"
    }
   ],
   "source": [
    "# How is these types distributed\n",
    "\n",
    "df['type'].value_counts(normalize=True) * 100"
   ]
  },
  {
   "cell_type": "markdown",
   "id": "023ba555",
   "metadata": {},
   "source": [
    "> __69.6%__ of shows are <u> Movies </u> and __30.3%__ of shows are <u>TV Shows</u>.\n",
    ">\n",
    "> *We can see Most of the content in Netflix are __Movies__*"
   ]
  },
  {
   "cell_type": "markdown",
   "id": "10931740",
   "metadata": {},
   "source": [
    "### Pre-processing"
   ]
  },
  {
   "cell_type": "markdown",
   "id": "2d632cb0",
   "metadata": {},
   "source": [
    "- We can see that the following columns are nested in the dataframe\n",
    "    1. director\n",
    "    2. cast\n",
    "    3. country\n",
    "    4. listed_in"
   ]
  },
  {
   "cell_type": "code",
   "execution_count": 45,
   "id": "214770ec",
   "metadata": {},
   "outputs": [],
   "source": [
    "# Function to split the values at comma\n",
    "\n",
    "def split_nested(x):\n",
    "    return str(x).split(',')"
   ]
  },
  {
   "cell_type": "markdown",
   "id": "03a9be5f",
   "metadata": {},
   "source": [
    "#### Un-nesting Director column"
   ]
  },
  {
   "cell_type": "code",
   "execution_count": 58,
   "id": "8e426a33",
   "metadata": {},
   "outputs": [
    {
     "data": {
      "text/html": [
       "<div>\n",
       "<style scoped>\n",
       "    .dataframe tbody tr th:only-of-type {\n",
       "        vertical-align: middle;\n",
       "    }\n",
       "\n",
       "    .dataframe tbody tr th {\n",
       "        vertical-align: top;\n",
       "    }\n",
       "\n",
       "    .dataframe thead th {\n",
       "        text-align: right;\n",
       "    }\n",
       "</style>\n",
       "<table border=\"1\" class=\"dataframe\">\n",
       "  <thead>\n",
       "    <tr style=\"text-align: right;\">\n",
       "      <th></th>\n",
       "      <th>title</th>\n",
       "      <th>Director</th>\n",
       "    </tr>\n",
       "  </thead>\n",
       "  <tbody>\n",
       "    <tr>\n",
       "      <th>0</th>\n",
       "      <td>Dick Johnson Is Dead</td>\n",
       "      <td>Kirsten Johnson</td>\n",
       "    </tr>\n",
       "    <tr>\n",
       "      <th>1</th>\n",
       "      <td>Blood &amp; Water</td>\n",
       "      <td>nan</td>\n",
       "    </tr>\n",
       "    <tr>\n",
       "      <th>2</th>\n",
       "      <td>Ganglands</td>\n",
       "      <td>Julien Leclercq</td>\n",
       "    </tr>\n",
       "    <tr>\n",
       "      <th>3</th>\n",
       "      <td>Jailbirds New Orleans</td>\n",
       "      <td>nan</td>\n",
       "    </tr>\n",
       "    <tr>\n",
       "      <th>4</th>\n",
       "      <td>Kota Factory</td>\n",
       "      <td>nan</td>\n",
       "    </tr>\n",
       "    <tr>\n",
       "      <th>5</th>\n",
       "      <td>Midnight Mass</td>\n",
       "      <td>Mike Flanagan</td>\n",
       "    </tr>\n",
       "    <tr>\n",
       "      <th>6</th>\n",
       "      <td>My Little Pony: A New Generation</td>\n",
       "      <td>Robert Cullen</td>\n",
       "    </tr>\n",
       "    <tr>\n",
       "      <th>7</th>\n",
       "      <td>My Little Pony: A New Generation</td>\n",
       "      <td>José Luis Ucha</td>\n",
       "    </tr>\n",
       "    <tr>\n",
       "      <th>8</th>\n",
       "      <td>Sankofa</td>\n",
       "      <td>Haile Gerima</td>\n",
       "    </tr>\n",
       "    <tr>\n",
       "      <th>9</th>\n",
       "      <td>The Great British Baking Show</td>\n",
       "      <td>Andy Devonshire</td>\n",
       "    </tr>\n",
       "    <tr>\n",
       "      <th>10</th>\n",
       "      <td>The Starling</td>\n",
       "      <td>Theodore Melfi</td>\n",
       "    </tr>\n",
       "    <tr>\n",
       "      <th>11</th>\n",
       "      <td>Vendetta: Truth, Lies and The Mafia</td>\n",
       "      <td>nan</td>\n",
       "    </tr>\n",
       "    <tr>\n",
       "      <th>12</th>\n",
       "      <td>Bangkok Breaking</td>\n",
       "      <td>Kongkiat Komesiri</td>\n",
       "    </tr>\n",
       "    <tr>\n",
       "      <th>13</th>\n",
       "      <td>Je Suis Karl</td>\n",
       "      <td>Christian Schwochow</td>\n",
       "    </tr>\n",
       "    <tr>\n",
       "      <th>14</th>\n",
       "      <td>Confessions of an Invisible Girl</td>\n",
       "      <td>Bruno Garotti</td>\n",
       "    </tr>\n",
       "    <tr>\n",
       "      <th>15</th>\n",
       "      <td>Crime Stories: India Detectives</td>\n",
       "      <td>nan</td>\n",
       "    </tr>\n",
       "    <tr>\n",
       "      <th>16</th>\n",
       "      <td>Dear White People</td>\n",
       "      <td>nan</td>\n",
       "    </tr>\n",
       "    <tr>\n",
       "      <th>17</th>\n",
       "      <td>Europe's Most Dangerous Man: Otto Skorzeny in Spain</td>\n",
       "      <td>Pedro de Echave García</td>\n",
       "    </tr>\n",
       "    <tr>\n",
       "      <th>18</th>\n",
       "      <td>Europe's Most Dangerous Man: Otto Skorzeny in Spain</td>\n",
       "      <td>Pablo Azorín Williams</td>\n",
       "    </tr>\n",
       "    <tr>\n",
       "      <th>19</th>\n",
       "      <td>Falsa identidad</td>\n",
       "      <td>nan</td>\n",
       "    </tr>\n",
       "  </tbody>\n",
       "</table>\n",
       "</div>"
      ],
      "text/plain": [
       "                                                  title  \\\n",
       "0                                  Dick Johnson Is Dead   \n",
       "1                                         Blood & Water   \n",
       "2                                             Ganglands   \n",
       "3                                 Jailbirds New Orleans   \n",
       "4                                          Kota Factory   \n",
       "5                                         Midnight Mass   \n",
       "6                      My Little Pony: A New Generation   \n",
       "7                      My Little Pony: A New Generation   \n",
       "8                                               Sankofa   \n",
       "9                         The Great British Baking Show   \n",
       "10                                         The Starling   \n",
       "11                  Vendetta: Truth, Lies and The Mafia   \n",
       "12                                     Bangkok Breaking   \n",
       "13                                         Je Suis Karl   \n",
       "14                     Confessions of an Invisible Girl   \n",
       "15                      Crime Stories: India Detectives   \n",
       "16                                    Dear White People   \n",
       "17  Europe's Most Dangerous Man: Otto Skorzeny in Spain   \n",
       "18  Europe's Most Dangerous Man: Otto Skorzeny in Spain   \n",
       "19                                      Falsa identidad   \n",
       "\n",
       "                  Director  \n",
       "0          Kirsten Johnson  \n",
       "1                      nan  \n",
       "2          Julien Leclercq  \n",
       "3                      nan  \n",
       "4                      nan  \n",
       "5            Mike Flanagan  \n",
       "6            Robert Cullen  \n",
       "7           José Luis Ucha  \n",
       "8             Haile Gerima  \n",
       "9          Andy Devonshire  \n",
       "10          Theodore Melfi  \n",
       "11                     nan  \n",
       "12       Kongkiat Komesiri  \n",
       "13     Christian Schwochow  \n",
       "14           Bruno Garotti  \n",
       "15                     nan  \n",
       "16                     nan  \n",
       "17  Pedro de Echave García  \n",
       "18   Pablo Azorín Williams  \n",
       "19                     nan  "
      ]
     },
     "execution_count": 58,
     "metadata": {},
     "output_type": "execute_result"
    }
   ],
   "source": [
    "# Split the values in director column and convert it to a list\n",
    "dir_split = df['director'].apply(split_nested).tolist()\n",
    "\n",
    "# Create a dataframe with the output and give the title as index\n",
    "dir_df = pd.DataFrame(dir_split, index=df['title'])\n",
    "\n",
    "# Stack them together to avoid extra unnecessary columns\n",
    "dir_df = dir_df.stack()\n",
    "\n",
    "# Reset the title index as column\n",
    "dir_df = pd.DataFrame(dir_df.reset_index())\n",
    "\n",
    "# Rename Director column\n",
    "dir_df.rename(columns={0:'Director'}, inplace=True)\n",
    "\n",
    "# Drop the level_1 column as it is not necessary\n",
    "dir_df.drop(['level_1'], axis=1, inplace=True)\n",
    "\n",
    "# Lets look at the new dataframe\n",
    "dir_df.head(20)"
   ]
  },
  {
   "cell_type": "markdown",
   "id": "af8225f8",
   "metadata": {},
   "source": [
    "#### Un-nesting Cast column"
   ]
  },
  {
   "cell_type": "code",
   "execution_count": 60,
   "id": "342fd9fa",
   "metadata": {},
   "outputs": [
    {
     "data": {
      "text/html": [
       "<div>\n",
       "<style scoped>\n",
       "    .dataframe tbody tr th:only-of-type {\n",
       "        vertical-align: middle;\n",
       "    }\n",
       "\n",
       "    .dataframe tbody tr th {\n",
       "        vertical-align: top;\n",
       "    }\n",
       "\n",
       "    .dataframe thead th {\n",
       "        text-align: right;\n",
       "    }\n",
       "</style>\n",
       "<table border=\"1\" class=\"dataframe\">\n",
       "  <thead>\n",
       "    <tr style=\"text-align: right;\">\n",
       "      <th></th>\n",
       "      <th>title</th>\n",
       "      <th>Cast</th>\n",
       "    </tr>\n",
       "  </thead>\n",
       "  <tbody>\n",
       "    <tr>\n",
       "      <th>0</th>\n",
       "      <td>Dick Johnson Is Dead</td>\n",
       "      <td>nan</td>\n",
       "    </tr>\n",
       "    <tr>\n",
       "      <th>1</th>\n",
       "      <td>Blood &amp; Water</td>\n",
       "      <td>Ama Qamata</td>\n",
       "    </tr>\n",
       "    <tr>\n",
       "      <th>2</th>\n",
       "      <td>Blood &amp; Water</td>\n",
       "      <td>Khosi Ngema</td>\n",
       "    </tr>\n",
       "    <tr>\n",
       "      <th>3</th>\n",
       "      <td>Blood &amp; Water</td>\n",
       "      <td>Gail Mabalane</td>\n",
       "    </tr>\n",
       "    <tr>\n",
       "      <th>4</th>\n",
       "      <td>Blood &amp; Water</td>\n",
       "      <td>Thabang Molaba</td>\n",
       "    </tr>\n",
       "    <tr>\n",
       "      <th>5</th>\n",
       "      <td>Blood &amp; Water</td>\n",
       "      <td>Dillon Windvogel</td>\n",
       "    </tr>\n",
       "    <tr>\n",
       "      <th>6</th>\n",
       "      <td>Blood &amp; Water</td>\n",
       "      <td>Natasha Thahane</td>\n",
       "    </tr>\n",
       "    <tr>\n",
       "      <th>7</th>\n",
       "      <td>Blood &amp; Water</td>\n",
       "      <td>Arno Greeff</td>\n",
       "    </tr>\n",
       "    <tr>\n",
       "      <th>8</th>\n",
       "      <td>Blood &amp; Water</td>\n",
       "      <td>Xolile Tshabalala</td>\n",
       "    </tr>\n",
       "    <tr>\n",
       "      <th>9</th>\n",
       "      <td>Blood &amp; Water</td>\n",
       "      <td>Getmore Sithole</td>\n",
       "    </tr>\n",
       "  </tbody>\n",
       "</table>\n",
       "</div>"
      ],
      "text/plain": [
       "                  title                Cast\n",
       "0  Dick Johnson Is Dead                 nan\n",
       "1         Blood & Water          Ama Qamata\n",
       "2         Blood & Water         Khosi Ngema\n",
       "3         Blood & Water       Gail Mabalane\n",
       "4         Blood & Water      Thabang Molaba\n",
       "5         Blood & Water    Dillon Windvogel\n",
       "6         Blood & Water     Natasha Thahane\n",
       "7         Blood & Water         Arno Greeff\n",
       "8         Blood & Water   Xolile Tshabalala\n",
       "9         Blood & Water     Getmore Sithole"
      ]
     },
     "execution_count": 60,
     "metadata": {},
     "output_type": "execute_result"
    }
   ],
   "source": [
    "cast_split = df['cast'].apply(split_nested).tolist()\n",
    "cast_df = pd.DataFrame(cast_split, index=df['title'])\n",
    "cast_df = cast_df.stack()\n",
    "cast_df = pd.DataFrame(cast_df.reset_index())\n",
    "cast_df.rename(columns={0:'Cast'}, inplace=True)\n",
    "cast_df.drop(['level_1'], axis=1, inplace=True)\n",
    "cast_df.head(10)"
   ]
  },
  {
   "cell_type": "markdown",
   "id": "e8d5bedd",
   "metadata": {},
   "source": [
    "#### Un-nesting listed_in column"
   ]
  },
  {
   "cell_type": "code",
   "execution_count": 61,
   "id": "0d3312da",
   "metadata": {},
   "outputs": [
    {
     "data": {
      "text/html": [
       "<div>\n",
       "<style scoped>\n",
       "    .dataframe tbody tr th:only-of-type {\n",
       "        vertical-align: middle;\n",
       "    }\n",
       "\n",
       "    .dataframe tbody tr th {\n",
       "        vertical-align: top;\n",
       "    }\n",
       "\n",
       "    .dataframe thead th {\n",
       "        text-align: right;\n",
       "    }\n",
       "</style>\n",
       "<table border=\"1\" class=\"dataframe\">\n",
       "  <thead>\n",
       "    <tr style=\"text-align: right;\">\n",
       "      <th></th>\n",
       "      <th>title</th>\n",
       "      <th>Genre</th>\n",
       "    </tr>\n",
       "  </thead>\n",
       "  <tbody>\n",
       "    <tr>\n",
       "      <th>0</th>\n",
       "      <td>Dick Johnson Is Dead</td>\n",
       "      <td>Documentaries</td>\n",
       "    </tr>\n",
       "    <tr>\n",
       "      <th>1</th>\n",
       "      <td>Blood &amp; Water</td>\n",
       "      <td>International TV Shows</td>\n",
       "    </tr>\n",
       "    <tr>\n",
       "      <th>2</th>\n",
       "      <td>Blood &amp; Water</td>\n",
       "      <td>TV Dramas</td>\n",
       "    </tr>\n",
       "    <tr>\n",
       "      <th>3</th>\n",
       "      <td>Blood &amp; Water</td>\n",
       "      <td>TV Mysteries</td>\n",
       "    </tr>\n",
       "    <tr>\n",
       "      <th>4</th>\n",
       "      <td>Ganglands</td>\n",
       "      <td>Crime TV Shows</td>\n",
       "    </tr>\n",
       "    <tr>\n",
       "      <th>5</th>\n",
       "      <td>Ganglands</td>\n",
       "      <td>International TV Shows</td>\n",
       "    </tr>\n",
       "    <tr>\n",
       "      <th>6</th>\n",
       "      <td>Ganglands</td>\n",
       "      <td>TV Action &amp; Adventure</td>\n",
       "    </tr>\n",
       "    <tr>\n",
       "      <th>7</th>\n",
       "      <td>Jailbirds New Orleans</td>\n",
       "      <td>Docuseries</td>\n",
       "    </tr>\n",
       "    <tr>\n",
       "      <th>8</th>\n",
       "      <td>Jailbirds New Orleans</td>\n",
       "      <td>Reality TV</td>\n",
       "    </tr>\n",
       "    <tr>\n",
       "      <th>9</th>\n",
       "      <td>Kota Factory</td>\n",
       "      <td>International TV Shows</td>\n",
       "    </tr>\n",
       "  </tbody>\n",
       "</table>\n",
       "</div>"
      ],
      "text/plain": [
       "                   title                    Genre\n",
       "0   Dick Johnson Is Dead            Documentaries\n",
       "1          Blood & Water   International TV Shows\n",
       "2          Blood & Water                TV Dramas\n",
       "3          Blood & Water             TV Mysteries\n",
       "4              Ganglands           Crime TV Shows\n",
       "5              Ganglands   International TV Shows\n",
       "6              Ganglands    TV Action & Adventure\n",
       "7  Jailbirds New Orleans               Docuseries\n",
       "8  Jailbirds New Orleans               Reality TV\n",
       "9           Kota Factory   International TV Shows"
      ]
     },
     "execution_count": 61,
     "metadata": {},
     "output_type": "execute_result"
    }
   ],
   "source": [
    "listed_in_split = df['listed_in'].apply(split_nested).tolist()\n",
    "listed_in_df = pd.DataFrame(listed_in_split, index=df['title'])\n",
    "listed_in_df = listed_in_df.stack()\n",
    "listed_in_df = pd.DataFrame(listed_in_df.reset_index())\n",
    "listed_in_df.rename(columns={0:'Genre'}, inplace=True)\n",
    "listed_in_df.drop(['level_1'], axis=1, inplace=True)\n",
    "listed_in_df.head(10)"
   ]
  },
  {
   "cell_type": "markdown",
   "id": "c2a6ee8f",
   "metadata": {},
   "source": [
    "#### Un-nesting countries"
   ]
  },
  {
   "cell_type": "code",
   "execution_count": 62,
   "id": "ff427c24",
   "metadata": {},
   "outputs": [
    {
     "data": {
      "text/html": [
       "<div>\n",
       "<style scoped>\n",
       "    .dataframe tbody tr th:only-of-type {\n",
       "        vertical-align: middle;\n",
       "    }\n",
       "\n",
       "    .dataframe tbody tr th {\n",
       "        vertical-align: top;\n",
       "    }\n",
       "\n",
       "    .dataframe thead th {\n",
       "        text-align: right;\n",
       "    }\n",
       "</style>\n",
       "<table border=\"1\" class=\"dataframe\">\n",
       "  <thead>\n",
       "    <tr style=\"text-align: right;\">\n",
       "      <th></th>\n",
       "      <th>title</th>\n",
       "      <th>Country</th>\n",
       "    </tr>\n",
       "  </thead>\n",
       "  <tbody>\n",
       "    <tr>\n",
       "      <th>0</th>\n",
       "      <td>Dick Johnson Is Dead</td>\n",
       "      <td>United States</td>\n",
       "    </tr>\n",
       "    <tr>\n",
       "      <th>1</th>\n",
       "      <td>Blood &amp; Water</td>\n",
       "      <td>South Africa</td>\n",
       "    </tr>\n",
       "    <tr>\n",
       "      <th>2</th>\n",
       "      <td>Ganglands</td>\n",
       "      <td>nan</td>\n",
       "    </tr>\n",
       "    <tr>\n",
       "      <th>3</th>\n",
       "      <td>Jailbirds New Orleans</td>\n",
       "      <td>nan</td>\n",
       "    </tr>\n",
       "    <tr>\n",
       "      <th>4</th>\n",
       "      <td>Kota Factory</td>\n",
       "      <td>India</td>\n",
       "    </tr>\n",
       "    <tr>\n",
       "      <th>5</th>\n",
       "      <td>Midnight Mass</td>\n",
       "      <td>nan</td>\n",
       "    </tr>\n",
       "    <tr>\n",
       "      <th>6</th>\n",
       "      <td>My Little Pony: A New Generation</td>\n",
       "      <td>nan</td>\n",
       "    </tr>\n",
       "    <tr>\n",
       "      <th>7</th>\n",
       "      <td>Sankofa</td>\n",
       "      <td>United States</td>\n",
       "    </tr>\n",
       "    <tr>\n",
       "      <th>8</th>\n",
       "      <td>Sankofa</td>\n",
       "      <td>Ghana</td>\n",
       "    </tr>\n",
       "    <tr>\n",
       "      <th>9</th>\n",
       "      <td>Sankofa</td>\n",
       "      <td>Burkina Faso</td>\n",
       "    </tr>\n",
       "  </tbody>\n",
       "</table>\n",
       "</div>"
      ],
      "text/plain": [
       "                              title        Country\n",
       "0              Dick Johnson Is Dead  United States\n",
       "1                     Blood & Water   South Africa\n",
       "2                         Ganglands            nan\n",
       "3             Jailbirds New Orleans            nan\n",
       "4                      Kota Factory          India\n",
       "5                     Midnight Mass            nan\n",
       "6  My Little Pony: A New Generation            nan\n",
       "7                           Sankofa  United States\n",
       "8                           Sankofa          Ghana\n",
       "9                           Sankofa   Burkina Faso"
      ]
     },
     "execution_count": 62,
     "metadata": {},
     "output_type": "execute_result"
    }
   ],
   "source": [
    "country_split = df['country'].apply(split_nested).tolist()\n",
    "country_df = pd.DataFrame(country_split, index=df['title'])\n",
    "country_df = country_df.stack()\n",
    "country_df = pd.DataFrame(country_df.reset_index())\n",
    "country_df.rename(columns={0:'Country'}, inplace=True)\n",
    "country_df.drop(['level_1'], axis=1, inplace=True)\n",
    "country_df.head(10)"
   ]
  },
  {
   "cell_type": "markdown",
   "id": "1bf8c3c4",
   "metadata": {},
   "source": [
    "#### Merging all the data together"
   ]
  },
  {
   "cell_type": "code",
   "execution_count": 63,
   "id": "3ae12bb1",
   "metadata": {},
   "outputs": [
    {
     "data": {
      "text/html": [
       "<div>\n",
       "<style scoped>\n",
       "    .dataframe tbody tr th:only-of-type {\n",
       "        vertical-align: middle;\n",
       "    }\n",
       "\n",
       "    .dataframe tbody tr th {\n",
       "        vertical-align: top;\n",
       "    }\n",
       "\n",
       "    .dataframe thead th {\n",
       "        text-align: right;\n",
       "    }\n",
       "</style>\n",
       "<table border=\"1\" class=\"dataframe\">\n",
       "  <thead>\n",
       "    <tr style=\"text-align: right;\">\n",
       "      <th></th>\n",
       "      <th>title</th>\n",
       "      <th>Director</th>\n",
       "      <th>Cast</th>\n",
       "      <th>Genre</th>\n",
       "      <th>Country</th>\n",
       "    </tr>\n",
       "  </thead>\n",
       "  <tbody>\n",
       "    <tr>\n",
       "      <th>0</th>\n",
       "      <td>Dick Johnson Is Dead</td>\n",
       "      <td>Kirsten Johnson</td>\n",
       "      <td>nan</td>\n",
       "      <td>Documentaries</td>\n",
       "      <td>United States</td>\n",
       "    </tr>\n",
       "    <tr>\n",
       "      <th>1</th>\n",
       "      <td>Blood &amp; Water</td>\n",
       "      <td>nan</td>\n",
       "      <td>Ama Qamata</td>\n",
       "      <td>International TV Shows</td>\n",
       "      <td>South Africa</td>\n",
       "    </tr>\n",
       "    <tr>\n",
       "      <th>2</th>\n",
       "      <td>Blood &amp; Water</td>\n",
       "      <td>nan</td>\n",
       "      <td>Ama Qamata</td>\n",
       "      <td>TV Dramas</td>\n",
       "      <td>South Africa</td>\n",
       "    </tr>\n",
       "    <tr>\n",
       "      <th>3</th>\n",
       "      <td>Blood &amp; Water</td>\n",
       "      <td>nan</td>\n",
       "      <td>Ama Qamata</td>\n",
       "      <td>TV Mysteries</td>\n",
       "      <td>South Africa</td>\n",
       "    </tr>\n",
       "    <tr>\n",
       "      <th>4</th>\n",
       "      <td>Blood &amp; Water</td>\n",
       "      <td>nan</td>\n",
       "      <td>Khosi Ngema</td>\n",
       "      <td>International TV Shows</td>\n",
       "      <td>South Africa</td>\n",
       "    </tr>\n",
       "  </tbody>\n",
       "</table>\n",
       "</div>"
      ],
      "text/plain": [
       "                  title         Director          Cast  \\\n",
       "0  Dick Johnson Is Dead  Kirsten Johnson           nan   \n",
       "1         Blood & Water              nan    Ama Qamata   \n",
       "2         Blood & Water              nan    Ama Qamata   \n",
       "3         Blood & Water              nan    Ama Qamata   \n",
       "4         Blood & Water              nan   Khosi Ngema   \n",
       "\n",
       "                    Genre        Country  \n",
       "0           Documentaries  United States  \n",
       "1  International TV Shows   South Africa  \n",
       "2               TV Dramas   South Africa  \n",
       "3            TV Mysteries   South Africa  \n",
       "4  International TV Shows   South Africa  "
      ]
     },
     "execution_count": 63,
     "metadata": {},
     "output_type": "execute_result"
    }
   ],
   "source": [
    "# We can use inner join to merge all the data together\n",
    "\n",
    "df_new = dir_df.merge(cast_df, \n",
    "             on=['title'], \n",
    "             how='inner').merge(listed_in_df, \n",
    "                                on=['title'], \n",
    "                                how='inner').merge(country_df, \n",
    "                                                   on=['title'], \n",
    "                                                   how='inner')\n",
    "df_new.head()"
   ]
  },
  {
   "cell_type": "code",
   "execution_count": 65,
   "id": "bc254968",
   "metadata": {},
   "outputs": [
    {
     "data": {
      "text/plain": [
       "(202065, 5)"
      ]
     },
     "execution_count": 65,
     "metadata": {},
     "output_type": "execute_result"
    }
   ],
   "source": [
    "df_new.shape"
   ]
  },
  {
   "cell_type": "markdown",
   "id": "f763d900",
   "metadata": {},
   "source": [
    "## 3. Non-Graphical Analysis: Value counts and unique attributes"
   ]
  },
  {
   "cell_type": "markdown",
   "id": "de216929",
   "metadata": {},
   "source": [
    "### *How many TV shows and Movies are there in the dataset?*"
   ]
  },
  {
   "cell_type": "code",
   "execution_count": 67,
   "id": "2319e7d9",
   "metadata": {},
   "outputs": [
    {
     "data": {
      "text/plain": [
       "Movie      6131\n",
       "TV Show    2676\n",
       "Name: type, dtype: int64"
      ]
     },
     "execution_count": 67,
     "metadata": {},
     "output_type": "execute_result"
    }
   ],
   "source": [
    "df.type.value_counts()"
   ]
  },
  {
   "cell_type": "markdown",
   "id": "c3575656",
   "metadata": {},
   "source": [
    "> There are __6131 Movies__ and __2676 TV shows__ available in the dataset"
   ]
  },
  {
   "cell_type": "markdown",
   "id": "8aa5efba",
   "metadata": {},
   "source": [
    "### *How many types of ratings are there and which one is the most common one?*"
   ]
  },
  {
   "cell_type": "code",
   "execution_count": 97,
   "id": "ab293735",
   "metadata": {},
   "outputs": [
    {
     "data": {
      "text/plain": [
       "TV-MA       3207\n",
       "TV-14       2160\n",
       "TV-PG        863\n",
       "R            799\n",
       "PG-13        490\n",
       "TV-Y7        334\n",
       "TV-Y         307\n",
       "PG           287\n",
       "TV-G         220\n",
       "NR            80\n",
       "G             41\n",
       "TV-Y7-FV       6\n",
       "UR             3\n",
       "NC-17          3\n",
       "66 min         1\n",
       "84 min         1\n",
       "74 min         1\n",
       "Name: rating, dtype: int64"
      ]
     },
     "execution_count": 97,
     "metadata": {},
     "output_type": "execute_result"
    }
   ],
   "source": [
    "df['rating'].value_counts()"
   ]
  },
  {
   "cell_type": "markdown",
   "id": "6d8d434c",
   "metadata": {},
   "source": [
    "> More than __3000__ shows on Netflix are focused towards __Matured Adults__"
   ]
  },
  {
   "cell_type": "markdown",
   "id": "ef5e6fc3",
   "metadata": {},
   "source": [
    "### *Which countries produced the shows and which country produced the most shows?*"
   ]
  },
  {
   "cell_type": "code",
   "execution_count": 100,
   "id": "765ed388",
   "metadata": {},
   "outputs": [
    {
     "data": {
      "text/plain": [
       "array(['United States', 'South Africa', 'nan', 'India', ' Ghana',\n",
       "       ' Burkina Faso', ' United Kingdom', ' Germany', ' Ethiopia',\n",
       "       'United Kingdom', 'Germany', ' Czech Republic', 'Mexico', 'Turkey',\n",
       "       'Australia', ' India', ' France', 'Finland', 'China', ' Canada',\n",
       "       ' United States', ' Japan', 'Nigeria', 'Japan', 'Spain', 'France',\n",
       "       'Belgium', 'South Korea', ' Singapore', ' Australia', ' Mexico',\n",
       "       ' Italy', ' Romania', 'Argentina', ' Venezuela', ' Hong Kong',\n",
       "       'Russia', 'Canada', 'Hong Kong', ' China', 'Italy', '',\n",
       "       ' South Korea', 'Ireland', ' Nepal', 'New Zealand', ' Brazil',\n",
       "       ' Greece', 'Jordan', 'Colombia', 'Switzerland', 'Israel', 'Brazil',\n",
       "       ' Spain', 'Taiwan', ' Nigeria', 'Bulgaria', ' Algeria', 'Poland',\n",
       "       ' Israel', 'Saudi Arabia', 'Thailand', 'Indonesia', 'Egypt',\n",
       "       ' Denmark', ' Switzerland', 'Kuwait', ' Netherlands', ' Belgium',\n",
       "       'Malaysia', ' New Zealand', 'Vietnam', ' Hungary', 'Sweden',\n",
       "       'Lebanon', 'Romania', ' Syria', 'Philippines', 'Iceland',\n",
       "       'Denmark', ' Indonesia', ' United Arab Emirates',\n",
       "       'United Arab Emirates', ' Colombia', 'Netherlands', ' Bulgaria',\n",
       "       'Norway', 'Syria', ' Lebanon', ' Qatar', 'Mauritius',\n",
       "       ' South Africa', 'Austria', ' Russia', 'Czech Republic', ' Taiwan',\n",
       "       'Cameroon', ' Palestine', 'Uruguay', ' Saudi Arabia', ' Poland',\n",
       "       'Kenya', ' Argentina', ' Chile', ' Thailand', 'Chile',\n",
       "       'Luxembourg', ' Cambodia', 'Bangladesh', 'Portugal', ' Ireland',\n",
       "       'Hungary', ' Cayman Islands', 'Senegal', ' Finland', ' Iceland',\n",
       "       'Singapore', ' Serbia', ' Malta', ' Luxembourg', ' Norway',\n",
       "       'Serbia', 'Namibia', ' Kenya', ' Angola', ' Philippines', 'Peru',\n",
       "       'Mozambique', 'Belarus', 'Ghana', ' Egypt', ' Jordan', 'Zimbabwe',\n",
       "       ' Turkey', 'Puerto Rico', 'Pakistan', 'Cyprus', ' Malaysia',\n",
       "       ' Sweden', ' Uruguay', ' Guatemala', ' Senegal', ' Portugal',\n",
       "       ' Peru', ' Iraq', ' Malawi', 'Paraguay', ' Pakistan', 'Croatia',\n",
       "       ' Iran', ' West Germany', ' Austria', ' Albania', 'Cambodia',\n",
       "       ' Kuwait', 'Georgia', 'Soviet Union', ' Soviet Union', 'Greece',\n",
       "       ' Morocco', ' Slovakia', 'West Germany', ' Ukraine', ' Bermuda',\n",
       "       ' Ecuador', 'Iran', ' Armenia', ' Mongolia', ' Bahamas',\n",
       "       ' Sri Lanka', ' Bangladesh', ' Zimbabwe', ' Latvia',\n",
       "       ' Liechtenstein', 'Venezuela', ' Cuba', ' Nicaragua', ' Croatia',\n",
       "       'Slovenia', ' Dominican Republic', ' Samoa', ' Azerbaijan',\n",
       "       ' Botswana', ' Vatican City', 'Guatemala', 'Ukraine', 'Jamaica',\n",
       "       ' Kazakhstan', ' Lithuania', ' Afghanistan', 'Somalia', ' Sudan',\n",
       "       ' Panama', ' Slovenia', ' Namibia', ' Uganda', ' East Germany',\n",
       "       ' Montenegro'], dtype=object)"
      ]
     },
     "execution_count": 100,
     "metadata": {},
     "output_type": "execute_result"
    }
   ],
   "source": [
    "# Total number of unique countries\n",
    "\n",
    "df_new.Country.unique()"
   ]
  },
  {
   "cell_type": "code",
   "execution_count": 101,
   "id": "02ae4561",
   "metadata": {},
   "outputs": [
    {
     "data": {
      "text/plain": [
       "United States     49868\n",
       "India             22139\n",
       "nan               11897\n",
       "United Kingdom     9733\n",
       " United States     9482\n",
       "                  ...  \n",
       "Greece                2\n",
       " Panama               2\n",
       " Uganda               1\n",
       " Nicaragua            1\n",
       " Kazakhstan           1\n",
       "Name: Country, Length: 198, dtype: int64"
      ]
     },
     "execution_count": 101,
     "metadata": {},
     "output_type": "execute_result"
    }
   ],
   "source": [
    "df_new.Country.value_counts()"
   ]
  },
  {
   "cell_type": "markdown",
   "id": "4b999b98",
   "metadata": {},
   "source": [
    "> __United States__ produced the most number of shows which is streaming in Netflix"
   ]
  },
  {
   "cell_type": "markdown",
   "id": "468416b1",
   "metadata": {},
   "source": [
    "### *Which Genres are most popular & least popular in Netflix?*"
   ]
  },
  {
   "cell_type": "code",
   "execution_count": 105,
   "id": "2950fdd3",
   "metadata": {},
   "outputs": [
    {
     "data": {
      "text/plain": [
       " International Movies    27141\n",
       "Dramas                   19657\n",
       "Comedies                 13894\n",
       "Action & Adventure       12216\n",
       " Dramas                  10149\n",
       "Name: Genre, dtype: int64"
      ]
     },
     "execution_count": 105,
     "metadata": {},
     "output_type": "execute_result"
    }
   ],
   "source": [
    "df_new.Genre.value_counts().head(5)"
   ]
  },
  {
   "cell_type": "code",
   "execution_count": 107,
   "id": "9c1ddb8e",
   "metadata": {},
   "outputs": [
    {
     "data": {
      "text/plain": [
       "Sports Movies           3\n",
       "LGBTQ Movies            5\n",
       "TV Sci-Fi & Fantasy     7\n",
       "Romantic Movies        20\n",
       " Stand-Up Comedy       24\n",
       "Name: Genre, dtype: int64"
      ]
     },
     "execution_count": 107,
     "metadata": {},
     "output_type": "execute_result"
    }
   ],
   "source": [
    "df_new.Genre.value_counts(ascending=True).head()"
   ]
  },
  {
   "cell_type": "markdown",
   "id": "1e9045fa",
   "metadata": {},
   "source": [
    "> Most popular Genre in Netflix is __International Movies__\n",
    ">\n",
    "> Least popular Genre in Netflix is __Sports Movies__"
   ]
  },
  {
   "cell_type": "markdown",
   "id": "8ac4fe28",
   "metadata": {},
   "source": [
    "### *Which director produced the most number of shows in Netflix?*"
   ]
  },
  {
   "cell_type": "code",
   "execution_count": 108,
   "id": "8c598c4c",
   "metadata": {},
   "outputs": [
    {
     "data": {
      "text/plain": [
       "nan                    50643\n",
       "Martin Scorsese          419\n",
       "Youssef Chahine          409\n",
       "Cathy Garcia-Molina      356\n",
       "Steven Spielberg         355\n",
       "Name: Director, dtype: int64"
      ]
     },
     "execution_count": 108,
     "metadata": {},
     "output_type": "execute_result"
    }
   ],
   "source": [
    "df_new.Director.value_counts().head()"
   ]
  },
  {
   "cell_type": "markdown",
   "id": "8a45daa4",
   "metadata": {},
   "source": [
    "> __Martin Scorsese__ is attributed to most number of shows in Netflix"
   ]
  },
  {
   "cell_type": "code",
   "execution_count": null,
   "id": "93134c45",
   "metadata": {},
   "outputs": [],
   "source": []
  },
  {
   "cell_type": "markdown",
   "id": "4050fe85",
   "metadata": {},
   "source": [
    "### Pre-processing(cont.)"
   ]
  },
  {
   "cell_type": "code",
   "execution_count": 183,
   "id": "22f71a1c",
   "metadata": {},
   "outputs": [
    {
     "data": {
      "text/html": [
       "<div>\n",
       "<style scoped>\n",
       "    .dataframe tbody tr th:only-of-type {\n",
       "        vertical-align: middle;\n",
       "    }\n",
       "\n",
       "    .dataframe tbody tr th {\n",
       "        vertical-align: top;\n",
       "    }\n",
       "\n",
       "    .dataframe thead th {\n",
       "        text-align: right;\n",
       "    }\n",
       "</style>\n",
       "<table border=\"1\" class=\"dataframe\">\n",
       "  <thead>\n",
       "    <tr style=\"text-align: right;\">\n",
       "      <th></th>\n",
       "      <th>show_id</th>\n",
       "      <th>type</th>\n",
       "      <th>title</th>\n",
       "      <th>date_added</th>\n",
       "      <th>release_year</th>\n",
       "      <th>rating</th>\n",
       "      <th>duration</th>\n",
       "      <th>description</th>\n",
       "      <th>Director</th>\n",
       "      <th>Cast</th>\n",
       "      <th>Genre</th>\n",
       "      <th>Country</th>\n",
       "    </tr>\n",
       "  </thead>\n",
       "  <tbody>\n",
       "    <tr>\n",
       "      <th>0</th>\n",
       "      <td>s1</td>\n",
       "      <td>Movie</td>\n",
       "      <td>Dick Johnson Is Dead</td>\n",
       "      <td>September 25, 2021</td>\n",
       "      <td>2020</td>\n",
       "      <td>PG-13</td>\n",
       "      <td>90 min</td>\n",
       "      <td>As her father nears the end of his life, filmmaker Kirsten Johnson stages his death in inventive...</td>\n",
       "      <td>Kirsten Johnson</td>\n",
       "      <td>nan</td>\n",
       "      <td>Documentaries</td>\n",
       "      <td>United States</td>\n",
       "    </tr>\n",
       "    <tr>\n",
       "      <th>1</th>\n",
       "      <td>s2</td>\n",
       "      <td>TV Show</td>\n",
       "      <td>Blood &amp; Water</td>\n",
       "      <td>September 24, 2021</td>\n",
       "      <td>2021</td>\n",
       "      <td>TV-MA</td>\n",
       "      <td>2 Seasons</td>\n",
       "      <td>After crossing paths at a party, a Cape Town teen sets out to prove whether a private-school swi...</td>\n",
       "      <td>nan</td>\n",
       "      <td>Ama Qamata</td>\n",
       "      <td>International TV Shows</td>\n",
       "      <td>South Africa</td>\n",
       "    </tr>\n",
       "  </tbody>\n",
       "</table>\n",
       "</div>"
      ],
      "text/plain": [
       "  show_id     type                 title          date_added  release_year  \\\n",
       "0      s1    Movie  Dick Johnson Is Dead  September 25, 2021          2020   \n",
       "1      s2  TV Show         Blood & Water  September 24, 2021          2021   \n",
       "\n",
       "  rating   duration  \\\n",
       "0  PG-13     90 min   \n",
       "1  TV-MA  2 Seasons   \n",
       "\n",
       "                                                                                           description  \\\n",
       "0  As her father nears the end of his life, filmmaker Kirsten Johnson stages his death in inventive...   \n",
       "1  After crossing paths at a party, a Cape Town teen sets out to prove whether a private-school swi...   \n",
       "\n",
       "          Director        Cast                   Genre        Country  \n",
       "0  Kirsten Johnson         nan           Documentaries  United States  \n",
       "1              nan  Ama Qamata  International TV Shows   South Africa  "
      ]
     },
     "execution_count": 183,
     "metadata": {},
     "output_type": "execute_result"
    }
   ],
   "source": [
    "# Lets join the main dataset with the un-nested dataset on title column\n",
    "\n",
    "df_all = df.merge(df_new, on=['title'], how='inner')\n",
    "df_all.drop(['director', 'cast', 'country', 'listed_in'],axis=1, inplace=True)\n",
    "df_all.head(2)"
   ]
  },
  {
   "cell_type": "code",
   "execution_count": 184,
   "id": "2a7130ce",
   "metadata": {},
   "outputs": [
    {
     "data": {
      "text/plain": [
       "(202065, 12)"
      ]
     },
     "execution_count": 184,
     "metadata": {},
     "output_type": "execute_result"
    }
   ],
   "source": [
    "df_all.shape"
   ]
  },
  {
   "cell_type": "code",
   "execution_count": 185,
   "id": "cdd6b88a",
   "metadata": {},
   "outputs": [],
   "source": [
    "df_all.drop_duplicates(inplace=True)"
   ]
  },
  {
   "cell_type": "code",
   "execution_count": 186,
   "id": "ee79ba68",
   "metadata": {},
   "outputs": [
    {
     "data": {
      "text/plain": [
       "(202058, 12)"
      ]
     },
     "execution_count": 186,
     "metadata": {},
     "output_type": "execute_result"
    }
   ],
   "source": [
    "df_all.shape"
   ]
  },
  {
   "cell_type": "code",
   "execution_count": 187,
   "id": "eb31c078",
   "metadata": {},
   "outputs": [
    {
     "data": {
      "text/html": [
       "<div>\n",
       "<style scoped>\n",
       "    .dataframe tbody tr th:only-of-type {\n",
       "        vertical-align: middle;\n",
       "    }\n",
       "\n",
       "    .dataframe tbody tr th {\n",
       "        vertical-align: top;\n",
       "    }\n",
       "\n",
       "    .dataframe thead th {\n",
       "        text-align: right;\n",
       "    }\n",
       "</style>\n",
       "<table border=\"1\" class=\"dataframe\">\n",
       "  <thead>\n",
       "    <tr style=\"text-align: right;\">\n",
       "      <th></th>\n",
       "      <th>title</th>\n",
       "      <th>date_added_month</th>\n",
       "      <th>date_added_day</th>\n",
       "      <th>date_added_year</th>\n",
       "    </tr>\n",
       "  </thead>\n",
       "  <tbody>\n",
       "    <tr>\n",
       "      <th>0</th>\n",
       "      <td>Dick Johnson Is Dead</td>\n",
       "      <td>September</td>\n",
       "      <td>25</td>\n",
       "      <td>2021</td>\n",
       "    </tr>\n",
       "    <tr>\n",
       "      <th>1</th>\n",
       "      <td>Blood &amp; Water</td>\n",
       "      <td>September</td>\n",
       "      <td>24</td>\n",
       "      <td>2021</td>\n",
       "    </tr>\n",
       "    <tr>\n",
       "      <th>2</th>\n",
       "      <td>Blood &amp; Water</td>\n",
       "      <td>September</td>\n",
       "      <td>24</td>\n",
       "      <td>2021</td>\n",
       "    </tr>\n",
       "    <tr>\n",
       "      <th>3</th>\n",
       "      <td>Blood &amp; Water</td>\n",
       "      <td>September</td>\n",
       "      <td>24</td>\n",
       "      <td>2021</td>\n",
       "    </tr>\n",
       "    <tr>\n",
       "      <th>4</th>\n",
       "      <td>Blood &amp; Water</td>\n",
       "      <td>September</td>\n",
       "      <td>24</td>\n",
       "      <td>2021</td>\n",
       "    </tr>\n",
       "  </tbody>\n",
       "</table>\n",
       "</div>"
      ],
      "text/plain": [
       "                  title date_added_month date_added_day date_added_year\n",
       "0  Dick Johnson Is Dead        September             25            2021\n",
       "1         Blood & Water        September             24            2021\n",
       "2         Blood & Water        September             24            2021\n",
       "3         Blood & Water        September             24            2021\n",
       "4         Blood & Water        September             24            2021"
      ]
     },
     "execution_count": 187,
     "metadata": {},
     "output_type": "execute_result"
    }
   ],
   "source": [
    "date_added_split = df_all['date_added'].str.strip().apply(lambda x: str(x).split(' ')).tolist()\n",
    "date_added_df = pd.DataFrame(date_added_split, index=df_all['title']).reset_index()\n",
    "date_added_df.rename(columns={\n",
    "    0 : 'date_added_month',\n",
    "    1 : 'date_added_day',\n",
    "    2 : 'date_added_year'\n",
    "}, inplace=True)\n",
    "date_added_df['date_added_day'] = date_added_df.date_added_day.str[:-1]\n",
    "date_added_df.head()"
   ]
  },
  {
   "cell_type": "code",
   "execution_count": 188,
   "id": "e6ac6b31",
   "metadata": {},
   "outputs": [
    {
     "data": {
      "text/html": [
       "<div>\n",
       "<style scoped>\n",
       "    .dataframe tbody tr th:only-of-type {\n",
       "        vertical-align: middle;\n",
       "    }\n",
       "\n",
       "    .dataframe tbody tr th {\n",
       "        vertical-align: top;\n",
       "    }\n",
       "\n",
       "    .dataframe thead th {\n",
       "        text-align: right;\n",
       "    }\n",
       "</style>\n",
       "<table border=\"1\" class=\"dataframe\">\n",
       "  <thead>\n",
       "    <tr style=\"text-align: right;\">\n",
       "      <th></th>\n",
       "      <th>show_id</th>\n",
       "      <th>type</th>\n",
       "      <th>title</th>\n",
       "      <th>release_year</th>\n",
       "      <th>rating</th>\n",
       "      <th>duration</th>\n",
       "      <th>description</th>\n",
       "      <th>Director</th>\n",
       "      <th>Cast</th>\n",
       "      <th>Genre</th>\n",
       "      <th>Country</th>\n",
       "      <th>date_added_month</th>\n",
       "      <th>date_added_day</th>\n",
       "      <th>date_added_year</th>\n",
       "    </tr>\n",
       "  </thead>\n",
       "  <tbody>\n",
       "    <tr>\n",
       "      <th>0</th>\n",
       "      <td>s1</td>\n",
       "      <td>Movie</td>\n",
       "      <td>Dick Johnson Is Dead</td>\n",
       "      <td>2020</td>\n",
       "      <td>PG-13</td>\n",
       "      <td>90 min</td>\n",
       "      <td>As her father nears the end of his life, filmmaker Kirsten Johnson stages his death in inventive...</td>\n",
       "      <td>Kirsten Johnson</td>\n",
       "      <td>nan</td>\n",
       "      <td>Documentaries</td>\n",
       "      <td>United States</td>\n",
       "      <td>September</td>\n",
       "      <td>25</td>\n",
       "      <td>2021</td>\n",
       "    </tr>\n",
       "    <tr>\n",
       "      <th>1</th>\n",
       "      <td>s2</td>\n",
       "      <td>TV Show</td>\n",
       "      <td>Blood &amp; Water</td>\n",
       "      <td>2021</td>\n",
       "      <td>TV-MA</td>\n",
       "      <td>2 Seasons</td>\n",
       "      <td>After crossing paths at a party, a Cape Town teen sets out to prove whether a private-school swi...</td>\n",
       "      <td>nan</td>\n",
       "      <td>Ama Qamata</td>\n",
       "      <td>International TV Shows</td>\n",
       "      <td>South Africa</td>\n",
       "      <td>September</td>\n",
       "      <td>24</td>\n",
       "      <td>2021</td>\n",
       "    </tr>\n",
       "    <tr>\n",
       "      <th>2</th>\n",
       "      <td>s2</td>\n",
       "      <td>TV Show</td>\n",
       "      <td>Blood &amp; Water</td>\n",
       "      <td>2021</td>\n",
       "      <td>TV-MA</td>\n",
       "      <td>2 Seasons</td>\n",
       "      <td>After crossing paths at a party, a Cape Town teen sets out to prove whether a private-school swi...</td>\n",
       "      <td>nan</td>\n",
       "      <td>Ama Qamata</td>\n",
       "      <td>International TV Shows</td>\n",
       "      <td>South Africa</td>\n",
       "      <td>September</td>\n",
       "      <td>24</td>\n",
       "      <td>2021</td>\n",
       "    </tr>\n",
       "    <tr>\n",
       "      <th>3</th>\n",
       "      <td>s2</td>\n",
       "      <td>TV Show</td>\n",
       "      <td>Blood &amp; Water</td>\n",
       "      <td>2021</td>\n",
       "      <td>TV-MA</td>\n",
       "      <td>2 Seasons</td>\n",
       "      <td>After crossing paths at a party, a Cape Town teen sets out to prove whether a private-school swi...</td>\n",
       "      <td>nan</td>\n",
       "      <td>Ama Qamata</td>\n",
       "      <td>International TV Shows</td>\n",
       "      <td>South Africa</td>\n",
       "      <td>September</td>\n",
       "      <td>24</td>\n",
       "      <td>2021</td>\n",
       "    </tr>\n",
       "    <tr>\n",
       "      <th>4</th>\n",
       "      <td>s2</td>\n",
       "      <td>TV Show</td>\n",
       "      <td>Blood &amp; Water</td>\n",
       "      <td>2021</td>\n",
       "      <td>TV-MA</td>\n",
       "      <td>2 Seasons</td>\n",
       "      <td>After crossing paths at a party, a Cape Town teen sets out to prove whether a private-school swi...</td>\n",
       "      <td>nan</td>\n",
       "      <td>Ama Qamata</td>\n",
       "      <td>International TV Shows</td>\n",
       "      <td>South Africa</td>\n",
       "      <td>September</td>\n",
       "      <td>24</td>\n",
       "      <td>2021</td>\n",
       "    </tr>\n",
       "  </tbody>\n",
       "</table>\n",
       "</div>"
      ],
      "text/plain": [
       "  show_id     type                 title  release_year rating   duration  \\\n",
       "0      s1    Movie  Dick Johnson Is Dead          2020  PG-13     90 min   \n",
       "1      s2  TV Show         Blood & Water          2021  TV-MA  2 Seasons   \n",
       "2      s2  TV Show         Blood & Water          2021  TV-MA  2 Seasons   \n",
       "3      s2  TV Show         Blood & Water          2021  TV-MA  2 Seasons   \n",
       "4      s2  TV Show         Blood & Water          2021  TV-MA  2 Seasons   \n",
       "\n",
       "                                                                                           description  \\\n",
       "0  As her father nears the end of his life, filmmaker Kirsten Johnson stages his death in inventive...   \n",
       "1  After crossing paths at a party, a Cape Town teen sets out to prove whether a private-school swi...   \n",
       "2  After crossing paths at a party, a Cape Town teen sets out to prove whether a private-school swi...   \n",
       "3  After crossing paths at a party, a Cape Town teen sets out to prove whether a private-school swi...   \n",
       "4  After crossing paths at a party, a Cape Town teen sets out to prove whether a private-school swi...   \n",
       "\n",
       "          Director        Cast                   Genre        Country  \\\n",
       "0  Kirsten Johnson         nan           Documentaries  United States   \n",
       "1              nan  Ama Qamata  International TV Shows   South Africa   \n",
       "2              nan  Ama Qamata  International TV Shows   South Africa   \n",
       "3              nan  Ama Qamata  International TV Shows   South Africa   \n",
       "4              nan  Ama Qamata  International TV Shows   South Africa   \n",
       "\n",
       "  date_added_month date_added_day date_added_year  \n",
       "0        September             25            2021  \n",
       "1        September             24            2021  \n",
       "2        September             24            2021  \n",
       "3        September             24            2021  \n",
       "4        September             24            2021  "
      ]
     },
     "execution_count": 188,
     "metadata": {},
     "output_type": "execute_result"
    }
   ],
   "source": [
    "df_all = df_all.merge(date_added_df, on=['title'], how='inner')\n",
    "df_all.drop('date_added', axis=1, inplace=True)\n",
    "df_all.head()"
   ]
  },
  {
   "cell_type": "code",
   "execution_count": 189,
   "id": "33b8bf69",
   "metadata": {},
   "outputs": [
    {
     "data": {
      "text/plain": [
       "(10956360, 14)"
      ]
     },
     "execution_count": 189,
     "metadata": {},
     "output_type": "execute_result"
    }
   ],
   "source": [
    "df_all.shape"
   ]
  },
  {
   "cell_type": "code",
   "execution_count": 190,
   "id": "3ff7cce9",
   "metadata": {},
   "outputs": [],
   "source": [
    "df_all.drop_duplicates(inplace=True)"
   ]
  },
  {
   "cell_type": "code",
   "execution_count": 191,
   "id": "47b121bc",
   "metadata": {},
   "outputs": [
    {
     "data": {
      "text/plain": [
       "(202058, 14)"
      ]
     },
     "execution_count": 191,
     "metadata": {},
     "output_type": "execute_result"
    }
   ],
   "source": [
    "df_all.shape"
   ]
  },
  {
   "cell_type": "markdown",
   "id": "0b5b636f",
   "metadata": {},
   "source": [
    "## 4. Visual Analysis - Univariate, Bivariate after pre-processing of the data"
   ]
  },
  {
   "cell_type": "code",
   "execution_count": null,
   "id": "f9da667a",
   "metadata": {},
   "outputs": [],
   "source": [
    "\n",
    "Note: Pre-processing involves unnesting of the data in columns like Actor, Director, Country\n",
    "\n",
    "4.1 For continuous variable(s): Distplot, countplot, histogram for univariate analysis (10 Points)\n",
    "\n",
    "4.2 For categorical variable(s): Boxplot (10 Points)\n",
    "\n",
    "4.3 For correlation: Heatmaps, Pairplots (10 Points)"
   ]
  },
  {
   "cell_type": "code",
   "execution_count": 197,
   "id": "e48e150e",
   "metadata": {},
   "outputs": [],
   "source": [
    "# Lets split the data into TV and Movies based on type\n",
    "\n",
    "\n",
    "tv = df_all[df_all['type']=='TV Show']\n",
    "movie = df_all[df_all['type']=='Movie']"
   ]
  },
  {
   "cell_type": "code",
   "execution_count": 198,
   "id": "33cc81e4",
   "metadata": {},
   "outputs": [
    {
     "data": {
      "text/html": [
       "<div>\n",
       "<style scoped>\n",
       "    .dataframe tbody tr th:only-of-type {\n",
       "        vertical-align: middle;\n",
       "    }\n",
       "\n",
       "    .dataframe tbody tr th {\n",
       "        vertical-align: top;\n",
       "    }\n",
       "\n",
       "    .dataframe thead th {\n",
       "        text-align: right;\n",
       "    }\n",
       "</style>\n",
       "<table border=\"1\" class=\"dataframe\">\n",
       "  <thead>\n",
       "    <tr style=\"text-align: right;\">\n",
       "      <th></th>\n",
       "      <th>show_id</th>\n",
       "      <th>type</th>\n",
       "      <th>title</th>\n",
       "      <th>release_year</th>\n",
       "      <th>rating</th>\n",
       "      <th>duration</th>\n",
       "      <th>description</th>\n",
       "      <th>Director</th>\n",
       "      <th>Cast</th>\n",
       "      <th>Genre</th>\n",
       "      <th>Country</th>\n",
       "      <th>date_added_month</th>\n",
       "      <th>date_added_day</th>\n",
       "      <th>date_added_year</th>\n",
       "    </tr>\n",
       "  </thead>\n",
       "  <tbody>\n",
       "    <tr>\n",
       "      <th>0</th>\n",
       "      <td>s1</td>\n",
       "      <td>Movie</td>\n",
       "      <td>Dick Johnson Is Dead</td>\n",
       "      <td>2020</td>\n",
       "      <td>PG-13</td>\n",
       "      <td>90 min</td>\n",
       "      <td>As her father nears the end of his life, filmmaker Kirsten Johnson stages his death in inventive...</td>\n",
       "      <td>Kirsten Johnson</td>\n",
       "      <td>nan</td>\n",
       "      <td>Documentaries</td>\n",
       "      <td>United States</td>\n",
       "      <td>September</td>\n",
       "      <td>25</td>\n",
       "      <td>2021</td>\n",
       "    </tr>\n",
       "    <tr>\n",
       "      <th>6863</th>\n",
       "      <td>s7</td>\n",
       "      <td>Movie</td>\n",
       "      <td>My Little Pony: A New Generation</td>\n",
       "      <td>2021</td>\n",
       "      <td>PG</td>\n",
       "      <td>91 min</td>\n",
       "      <td>Equestria's divided. But a bright-eyed hero believes Earth Ponies, Pegasi and Unicorns should be...</td>\n",
       "      <td>Robert Cullen</td>\n",
       "      <td>Vanessa Hudgens</td>\n",
       "      <td>Children &amp; Family Movies</td>\n",
       "      <td>nan</td>\n",
       "      <td>September</td>\n",
       "      <td>24</td>\n",
       "      <td>2021</td>\n",
       "    </tr>\n",
       "    <tr>\n",
       "      <th>6883</th>\n",
       "      <td>s7</td>\n",
       "      <td>Movie</td>\n",
       "      <td>My Little Pony: A New Generation</td>\n",
       "      <td>2021</td>\n",
       "      <td>PG</td>\n",
       "      <td>91 min</td>\n",
       "      <td>Equestria's divided. But a bright-eyed hero believes Earth Ponies, Pegasi and Unicorns should be...</td>\n",
       "      <td>Robert Cullen</td>\n",
       "      <td>Kimiko Glenn</td>\n",
       "      <td>Children &amp; Family Movies</td>\n",
       "      <td>nan</td>\n",
       "      <td>September</td>\n",
       "      <td>24</td>\n",
       "      <td>2021</td>\n",
       "    </tr>\n",
       "    <tr>\n",
       "      <th>6903</th>\n",
       "      <td>s7</td>\n",
       "      <td>Movie</td>\n",
       "      <td>My Little Pony: A New Generation</td>\n",
       "      <td>2021</td>\n",
       "      <td>PG</td>\n",
       "      <td>91 min</td>\n",
       "      <td>Equestria's divided. But a bright-eyed hero believes Earth Ponies, Pegasi and Unicorns should be...</td>\n",
       "      <td>Robert Cullen</td>\n",
       "      <td>James Marsden</td>\n",
       "      <td>Children &amp; Family Movies</td>\n",
       "      <td>nan</td>\n",
       "      <td>September</td>\n",
       "      <td>24</td>\n",
       "      <td>2021</td>\n",
       "    </tr>\n",
       "    <tr>\n",
       "      <th>6923</th>\n",
       "      <td>s7</td>\n",
       "      <td>Movie</td>\n",
       "      <td>My Little Pony: A New Generation</td>\n",
       "      <td>2021</td>\n",
       "      <td>PG</td>\n",
       "      <td>91 min</td>\n",
       "      <td>Equestria's divided. But a bright-eyed hero believes Earth Ponies, Pegasi and Unicorns should be...</td>\n",
       "      <td>Robert Cullen</td>\n",
       "      <td>Sofia Carson</td>\n",
       "      <td>Children &amp; Family Movies</td>\n",
       "      <td>nan</td>\n",
       "      <td>September</td>\n",
       "      <td>24</td>\n",
       "      <td>2021</td>\n",
       "    </tr>\n",
       "  </tbody>\n",
       "</table>\n",
       "</div>"
      ],
      "text/plain": [
       "     show_id   type                             title  release_year rating  \\\n",
       "0         s1  Movie              Dick Johnson Is Dead          2020  PG-13   \n",
       "6863      s7  Movie  My Little Pony: A New Generation          2021     PG   \n",
       "6883      s7  Movie  My Little Pony: A New Generation          2021     PG   \n",
       "6903      s7  Movie  My Little Pony: A New Generation          2021     PG   \n",
       "6923      s7  Movie  My Little Pony: A New Generation          2021     PG   \n",
       "\n",
       "     duration  \\\n",
       "0      90 min   \n",
       "6863   91 min   \n",
       "6883   91 min   \n",
       "6903   91 min   \n",
       "6923   91 min   \n",
       "\n",
       "                                                                                              description  \\\n",
       "0     As her father nears the end of his life, filmmaker Kirsten Johnson stages his death in inventive...   \n",
       "6863  Equestria's divided. But a bright-eyed hero believes Earth Ponies, Pegasi and Unicorns should be...   \n",
       "6883  Equestria's divided. But a bright-eyed hero believes Earth Ponies, Pegasi and Unicorns should be...   \n",
       "6903  Equestria's divided. But a bright-eyed hero believes Earth Ponies, Pegasi and Unicorns should be...   \n",
       "6923  Equestria's divided. But a bright-eyed hero believes Earth Ponies, Pegasi and Unicorns should be...   \n",
       "\n",
       "             Director             Cast                     Genre  \\\n",
       "0     Kirsten Johnson              nan             Documentaries   \n",
       "6863    Robert Cullen  Vanessa Hudgens  Children & Family Movies   \n",
       "6883    Robert Cullen     Kimiko Glenn  Children & Family Movies   \n",
       "6903    Robert Cullen    James Marsden  Children & Family Movies   \n",
       "6923    Robert Cullen     Sofia Carson  Children & Family Movies   \n",
       "\n",
       "            Country date_added_month date_added_day date_added_year  \n",
       "0     United States        September             25            2021  \n",
       "6863            nan        September             24            2021  \n",
       "6883            nan        September             24            2021  \n",
       "6903            nan        September             24            2021  \n",
       "6923            nan        September             24            2021  "
      ]
     },
     "execution_count": 198,
     "metadata": {},
     "output_type": "execute_result"
    }
   ],
   "source": [
    "movie.head()"
   ]
  },
  {
   "cell_type": "code",
   "execution_count": 194,
   "id": "65d65a40",
   "metadata": {},
   "outputs": [
    {
     "data": {
      "text/plain": [
       "TV Show    56148\n",
       "Name: type, dtype: int64"
      ]
     },
     "execution_count": 194,
     "metadata": {},
     "output_type": "execute_result"
    }
   ],
   "source": [
    "tv.type.value_counts()"
   ]
  },
  {
   "cell_type": "code",
   "execution_count": 154,
   "id": "ae30538e",
   "metadata": {},
   "outputs": [
    {
     "data": {
      "text/plain": [
       "Movie    145910\n",
       "Name: type, dtype: int64"
      ]
     },
     "execution_count": 154,
     "metadata": {},
     "output_type": "execute_result"
    }
   ],
   "source": [
    "movie.type.value_counts()"
   ]
  },
  {
   "cell_type": "code",
   "execution_count": 195,
   "id": "47c3f164",
   "metadata": {},
   "outputs": [
    {
     "data": {
      "text/plain": [
       "<AxesSubplot:xlabel='release_year', ylabel='Count'>"
      ]
     },
     "execution_count": 195,
     "metadata": {},
     "output_type": "execute_result"
    },
    {
     "data": {
      "image/png": "[encoded data removed]",
      "text/plain": [
       "<Figure size 432x288 with 1 Axes>"
      ]
     },
     "metadata": {
      "needs_background": "light"
     },
     "output_type": "display_data"
    }
   ],
   "source": [
    "sns.histplot(df['release_year'])"
   ]
  },
  {
   "cell_type": "code",
   "execution_count": 167,
   "id": "bf6ad18a",
   "metadata": {},
   "outputs": [
    {
     "data": {
      "text/plain": [
       "<AxesSubplot:xlabel='release_year', ylabel='Density'>"
      ]
     },
     "execution_count": 167,
     "metadata": {},
     "output_type": "execute_result"
    },
    {
     "data": {
      "image/png": "[encoded data removed]",
      "text/plain": [
       "<Figure size 432x288 with 1 Axes>"
      ]
     },
     "metadata": {
      "needs_background": "light"
     },
     "output_type": "display_data"
    }
   ],
   "source": [
    "sns.distplot(df['release_year'])"
   ]
  },
  {
   "cell_type": "markdown",
   "id": "f5fefae2",
   "metadata": {},
   "source": [
    "> Most number of shows in Netflix are released between year __2000 & 2020__"
   ]
  },
  {
   "cell_type": "code",
   "execution_count": 196,
   "id": "9098e056",
   "metadata": {},
   "outputs": [
    {
     "data": {
      "text/plain": [
       "(array([ 0,  1,  2,  3,  4,  5,  6,  7,  8,  9, 10, 11, 12, 13]),\n",
       " [Text(0, 0, '2021'),\n",
       "  Text(1, 0, '2020'),\n",
       "  Text(2, 0, '2019'),\n",
       "  Text(3, 0, '2018'),\n",
       "  Text(4, 0, '2017'),\n",
       "  Text(5, 0, '2016'),\n",
       "  Text(6, 0, '2015'),\n",
       "  Text(7, 0, '2014'),\n",
       "  Text(8, 0, '2013'),\n",
       "  Text(9, 0, '2012'),\n",
       "  Text(10, 0, '2011'),\n",
       "  Text(11, 0, '2009'),\n",
       "  Text(12, 0, '2008'),\n",
       "  Text(13, 0, '2010')])"
      ]
     },
     "execution_count": 196,
     "metadata": {},
     "output_type": "execute_result"
    },
    {
     "data": {
      "image/png": "[encoded data removed]",
      "text/plain": [
       "<Figure size 432x288 with 1 Axes>"
      ]
     },
     "metadata": {
      "needs_background": "light"
     },
     "output_type": "display_data"
    }
   ],
   "source": [
    "sns.countplot(df_all['date_added_year'])\n",
    "plt.xticks(rotation=90)"
   ]
  },
  {
   "cell_type": "markdown",
   "id": "37cf2c08",
   "metadata": {},
   "source": [
    "> Most shows are added to Netflix in the year __2020__\n",
    ">\n",
    "> Very minimal shows are added to Netflix before 2015"
   ]
  },
  {
   "cell_type": "code",
   "execution_count": 164,
   "id": "4b25dd6b",
   "metadata": {},
   "outputs": [
    {
     "data": {
      "text/plain": [
       "(array([ 0,  1,  2,  3,  4,  5,  6,  7,  8,  9, 10, 11, 12]),\n",
       " [Text(0, 0, 'September'),\n",
       "  Text(1, 0, 'August'),\n",
       "  Text(2, 0, 'July'),\n",
       "  Text(3, 0, 'June'),\n",
       "  Text(4, 0, 'May'),\n",
       "  Text(5, 0, 'April'),\n",
       "  Text(6, 0, 'March'),\n",
       "  Text(7, 0, 'February'),\n",
       "  Text(8, 0, 'January'),\n",
       "  Text(9, 0, 'December'),\n",
       "  Text(10, 0, 'November'),\n",
       "  Text(11, 0, 'October'),\n",
       "  Text(12, 0, 'nan')])"
      ]
     },
     "execution_count": 164,
     "metadata": {},
     "output_type": "execute_result"
    },
    {
     "data": {
      "image/png": "[encoded data removed]",
      "text/plain": [
       "<Figure size 432x288 with 1 Axes>"
      ]
     },
     "metadata": {
      "needs_background": "light"
     },
     "output_type": "display_data"
    }
   ],
   "source": [
    "sns.countplot(df_all['date_added_month'])\n",
    "plt.xticks(rotation=90)"
   ]
  },
  {
   "cell_type": "markdown",
   "id": "a314cd9e",
   "metadata": {},
   "source": [
    "> There is almost equal distribution of movies added throught the year with February being the lowest"
   ]
  },
  {
   "cell_type": "code",
   "execution_count": 174,
   "id": "e5871ef8",
   "metadata": {},
   "outputs": [
    {
     "data": {
      "text/plain": [
       "(array([ 0,  1,  2,  3,  4,  5,  6,  7,  8,  9, 10, 11, 12, 13, 14, 15, 16,\n",
       "        17, 18, 19, 20, 21, 22, 23, 24, 25, 26, 27, 28, 29, 30, 31, 32, 33,\n",
       "        34, 35, 36, 37, 38, 39, 40, 41, 42, 43, 44, 45, 46, 47, 48, 49, 50,\n",
       "        51, 52, 53, 54, 55, 56, 57, 58, 59, 60, 61, 62, 63, 64, 65, 66, 67,\n",
       "        68, 69, 70, 71, 72]),\n",
       " [Text(0, 0, 'Documentaries'),\n",
       "  Text(1, 0, 'International TV Shows'),\n",
       "  Text(2, 0, ' TV Dramas'),\n",
       "  Text(3, 0, ' TV Mysteries'),\n",
       "  Text(4, 0, 'Crime TV Shows'),\n",
       "  Text(5, 0, ' International TV Shows'),\n",
       "  Text(6, 0, ' TV Action & Adventure'),\n",
       "  Text(7, 0, 'Docuseries'),\n",
       "  Text(8, 0, ' Reality TV'),\n",
       "  Text(9, 0, ' Romantic TV Shows'),\n",
       "  Text(10, 0, ' TV Comedies'),\n",
       "  Text(11, 0, 'TV Dramas'),\n",
       "  Text(12, 0, ' TV Horror'),\n",
       "  Text(13, 0, 'Children & Family Movies'),\n",
       "  Text(14, 0, 'Dramas'),\n",
       "  Text(15, 0, ' Independent Movies'),\n",
       "  Text(16, 0, ' International Movies'),\n",
       "  Text(17, 0, 'British TV Shows'),\n",
       "  Text(18, 0, 'Comedies'),\n",
       "  Text(19, 0, ' Dramas'),\n",
       "  Text(20, 0, ' Docuseries'),\n",
       "  Text(21, 0, ' Comedies'),\n",
       "  Text(22, 0, ' Crime TV Shows'),\n",
       "  Text(23, 0, 'TV Comedies'),\n",
       "  Text(24, 0, ' Spanish-Language TV Shows'),\n",
       "  Text(25, 0, 'Thrillers'),\n",
       "  Text(26, 0, ' Romantic Movies'),\n",
       "  Text(27, 0, ' Music & Musicals'),\n",
       "  Text(28, 0, 'Horror Movies'),\n",
       "  Text(29, 0, ' Sci-Fi & Fantasy'),\n",
       "  Text(30, 0, ' TV Thrillers'),\n",
       "  Text(31, 0, \"Kids' TV\"),\n",
       "  Text(32, 0, ' Thrillers'),\n",
       "  Text(33, 0, 'Action & Adventure'),\n",
       "  Text(34, 0, ' TV Sci-Fi & Fantasy'),\n",
       "  Text(35, 0, ' Classic Movies'),\n",
       "  Text(36, 0, ' Horror Movies'),\n",
       "  Text(37, 0, ' Anime Features'),\n",
       "  Text(38, 0, 'Reality TV'),\n",
       "  Text(39, 0, ' Sports Movies'),\n",
       "  Text(40, 0, 'Anime Series'),\n",
       "  Text(41, 0, \" Kids' TV\"),\n",
       "  Text(42, 0, 'International Movies'),\n",
       "  Text(43, 0, ' Korean TV Shows'),\n",
       "  Text(44, 0, 'Sci-Fi & Fantasy'),\n",
       "  Text(45, 0, ' Science & Nature TV'),\n",
       "  Text(46, 0, ' Teen TV Shows'),\n",
       "  Text(47, 0, ' Cult Movies'),\n",
       "  Text(48, 0, 'Classic Movies'),\n",
       "  Text(49, 0, 'TV Shows'),\n",
       "  Text(50, 0, ' Children & Family Movies'),\n",
       "  Text(51, 0, ' Faith & Spirituality'),\n",
       "  Text(52, 0, ' LGBTQ Movies'),\n",
       "  Text(53, 0, 'Stand-Up Comedy'),\n",
       "  Text(54, 0, 'TV Action & Adventure'),\n",
       "  Text(55, 0, 'Movies'),\n",
       "  Text(56, 0, 'Stand-Up Comedy & Talk Shows'),\n",
       "  Text(57, 0, 'Classic & Cult TV'),\n",
       "  Text(58, 0, ' Stand-Up Comedy & Talk Shows'),\n",
       "  Text(59, 0, 'Anime Features'),\n",
       "  Text(60, 0, ' Documentaries'),\n",
       "  Text(61, 0, 'Romantic TV Shows'),\n",
       "  Text(62, 0, 'Cult Movies'),\n",
       "  Text(63, 0, 'Independent Movies'),\n",
       "  Text(64, 0, 'TV Horror'),\n",
       "  Text(65, 0, 'Spanish-Language TV Shows'),\n",
       "  Text(66, 0, ' Classic & Cult TV'),\n",
       "  Text(67, 0, 'Music & Musicals'),\n",
       "  Text(68, 0, 'Romantic Movies'),\n",
       "  Text(69, 0, 'LGBTQ Movies'),\n",
       "  Text(70, 0, ' Stand-Up Comedy'),\n",
       "  Text(71, 0, 'TV Sci-Fi & Fantasy'),\n",
       "  Text(72, 0, 'Sports Movies')])"
      ]
     },
     "execution_count": 174,
     "metadata": {},
     "output_type": "execute_result"
    },
    {
     "data": {
      "image/png": "[encoded data removed]",
      "text/plain": [
       "<Figure size 1080x720 with 1 Axes>"
      ]
     },
     "metadata": {
      "needs_background": "light"
     },
     "output_type": "display_data"
    }
   ],
   "source": [
    "plt.figure(figsize=(15,10))\n",
    "sns.countplot(df_all['Genre'], hue=df_all['type'])\n",
    "plt.xticks(rotation=90)"
   ]
  },
  {
   "cell_type": "code",
   "execution_count": 175,
   "id": "4accb4a4",
   "metadata": {},
   "outputs": [
    {
     "data": {
      "text/plain": [
       "<AxesSubplot:xlabel='type', ylabel='release_year'>"
      ]
     },
     "execution_count": 175,
     "metadata": {},
     "output_type": "execute_result"
    },
    {
     "data": {
      "image/png": "[encoded data removed]",
      "text/plain": [
       "<Figure size 432x288 with 1 Axes>"
      ]
     },
     "metadata": {
      "needs_background": "light"
     },
     "output_type": "display_data"
    }
   ],
   "source": [
    "sns.boxplot(df_all['type'], df_all['release_year'])"
   ]
  },
  {
   "cell_type": "markdown",
   "id": "e554a662",
   "metadata": {},
   "source": [
    "> Most Tv shows and Movies are released recently"
   ]
  },
  {
   "cell_type": "code",
   "execution_count": 177,
   "id": "3a47144a",
   "metadata": {},
   "outputs": [
    {
     "data": {
      "text/plain": [
       "<seaborn.axisgrid.PairGrid at 0x1ad27a6c310>"
      ]
     },
     "execution_count": 177,
     "metadata": {},
     "output_type": "execute_result"
    },
    {
     "data": {
      "image/png": "[encoded data removed]",
      "text/plain": [
       "<Figure size 180x180 with 2 Axes>"
      ]
     },
     "metadata": {
      "needs_background": "light"
     },
     "output_type": "display_data"
    }
   ],
   "source": [
    "sns.pairplot(df_all)"
   ]
  },
  {
   "cell_type": "code",
   "execution_count": null,
   "id": "f3c742aa",
   "metadata": {},
   "outputs": [],
   "source": []
  },
  {
   "cell_type": "code",
   "execution_count": null,
   "id": "845616c8",
   "metadata": {},
   "outputs": [],
   "source": []
  },
  {
   "cell_type": "code",
   "execution_count": null,
   "id": "46e56346",
   "metadata": {},
   "outputs": [],
   "source": []
  },
  {
   "cell_type": "code",
   "execution_count": 151,
   "id": "c34ee1b8",
   "metadata": {},
   "outputs": [
    {
     "data": {
      "text/html": [
       "<div>\n",
       "<style scoped>\n",
       "    .dataframe tbody tr th:only-of-type {\n",
       "        vertical-align: middle;\n",
       "    }\n",
       "\n",
       "    .dataframe tbody tr th {\n",
       "        vertical-align: top;\n",
       "    }\n",
       "\n",
       "    .dataframe thead th {\n",
       "        text-align: right;\n",
       "    }\n",
       "</style>\n",
       "<table border=\"1\" class=\"dataframe\">\n",
       "  <thead>\n",
       "    <tr style=\"text-align: right;\">\n",
       "      <th></th>\n",
       "      <th>show_id</th>\n",
       "      <th>type</th>\n",
       "      <th>title</th>\n",
       "      <th>date_added</th>\n",
       "      <th>release_year</th>\n",
       "      <th>rating</th>\n",
       "      <th>duration</th>\n",
       "      <th>description</th>\n",
       "      <th>Director</th>\n",
       "      <th>Cast</th>\n",
       "      <th>Genre</th>\n",
       "      <th>Country</th>\n",
       "      <th>date_added_month</th>\n",
       "      <th>date_added_day</th>\n",
       "      <th>date_added_year</th>\n",
       "    </tr>\n",
       "  </thead>\n",
       "  <tbody>\n",
       "    <tr>\n",
       "      <th>0</th>\n",
       "      <td>s1</td>\n",
       "      <td>Movie</td>\n",
       "      <td>Dick Johnson Is Dead</td>\n",
       "      <td>September 25, 2021</td>\n",
       "      <td>2020</td>\n",
       "      <td>PG-13</td>\n",
       "      <td>90 min</td>\n",
       "      <td>As her father nears the end of his life, filmmaker Kirsten Johnson stages his death in inventive...</td>\n",
       "      <td>Kirsten Johnson</td>\n",
       "      <td>nan</td>\n",
       "      <td>Documentaries</td>\n",
       "      <td>United States</td>\n",
       "      <td>September</td>\n",
       "      <td>25</td>\n",
       "      <td>2021</td>\n",
       "    </tr>\n",
       "    <tr>\n",
       "      <th>1</th>\n",
       "      <td>s2</td>\n",
       "      <td>TV Show</td>\n",
       "      <td>Blood &amp; Water</td>\n",
       "      <td>September 24, 2021</td>\n",
       "      <td>2021</td>\n",
       "      <td>TV-MA</td>\n",
       "      <td>2 Seasons</td>\n",
       "      <td>After crossing paths at a party, a Cape Town teen sets out to prove whether a private-school swi...</td>\n",
       "      <td>nan</td>\n",
       "      <td>Ama Qamata</td>\n",
       "      <td>International TV Shows</td>\n",
       "      <td>South Africa</td>\n",
       "      <td>September</td>\n",
       "      <td>24</td>\n",
       "      <td>2021</td>\n",
       "    </tr>\n",
       "    <tr>\n",
       "      <th>58</th>\n",
       "      <td>s2</td>\n",
       "      <td>TV Show</td>\n",
       "      <td>Blood &amp; Water</td>\n",
       "      <td>September 24, 2021</td>\n",
       "      <td>2021</td>\n",
       "      <td>TV-MA</td>\n",
       "      <td>2 Seasons</td>\n",
       "      <td>After crossing paths at a party, a Cape Town teen sets out to prove whether a private-school swi...</td>\n",
       "      <td>nan</td>\n",
       "      <td>Ama Qamata</td>\n",
       "      <td>TV Dramas</td>\n",
       "      <td>South Africa</td>\n",
       "      <td>September</td>\n",
       "      <td>24</td>\n",
       "      <td>2021</td>\n",
       "    </tr>\n",
       "    <tr>\n",
       "      <th>115</th>\n",
       "      <td>s2</td>\n",
       "      <td>TV Show</td>\n",
       "      <td>Blood &amp; Water</td>\n",
       "      <td>September 24, 2021</td>\n",
       "      <td>2021</td>\n",
       "      <td>TV-MA</td>\n",
       "      <td>2 Seasons</td>\n",
       "      <td>After crossing paths at a party, a Cape Town teen sets out to prove whether a private-school swi...</td>\n",
       "      <td>nan</td>\n",
       "      <td>Ama Qamata</td>\n",
       "      <td>TV Mysteries</td>\n",
       "      <td>South Africa</td>\n",
       "      <td>September</td>\n",
       "      <td>24</td>\n",
       "      <td>2021</td>\n",
       "    </tr>\n",
       "    <tr>\n",
       "      <th>172</th>\n",
       "      <td>s2</td>\n",
       "      <td>TV Show</td>\n",
       "      <td>Blood &amp; Water</td>\n",
       "      <td>September 24, 2021</td>\n",
       "      <td>2021</td>\n",
       "      <td>TV-MA</td>\n",
       "      <td>2 Seasons</td>\n",
       "      <td>After crossing paths at a party, a Cape Town teen sets out to prove whether a private-school swi...</td>\n",
       "      <td>nan</td>\n",
       "      <td>Khosi Ngema</td>\n",
       "      <td>International TV Shows</td>\n",
       "      <td>South Africa</td>\n",
       "      <td>September</td>\n",
       "      <td>24</td>\n",
       "      <td>2021</td>\n",
       "    </tr>\n",
       "  </tbody>\n",
       "</table>\n",
       "</div>"
      ],
      "text/plain": [
       "    show_id     type                 title          date_added  release_year  \\\n",
       "0        s1    Movie  Dick Johnson Is Dead  September 25, 2021          2020   \n",
       "1        s2  TV Show         Blood & Water  September 24, 2021          2021   \n",
       "58       s2  TV Show         Blood & Water  September 24, 2021          2021   \n",
       "115      s2  TV Show         Blood & Water  September 24, 2021          2021   \n",
       "172      s2  TV Show         Blood & Water  September 24, 2021          2021   \n",
       "\n",
       "    rating   duration  \\\n",
       "0    PG-13     90 min   \n",
       "1    TV-MA  2 Seasons   \n",
       "58   TV-MA  2 Seasons   \n",
       "115  TV-MA  2 Seasons   \n",
       "172  TV-MA  2 Seasons   \n",
       "\n",
       "                                                                                             description  \\\n",
       "0    As her father nears the end of his life, filmmaker Kirsten Johnson stages his death in inventive...   \n",
       "1    After crossing paths at a party, a Cape Town teen sets out to prove whether a private-school swi...   \n",
       "58   After crossing paths at a party, a Cape Town teen sets out to prove whether a private-school swi...   \n",
       "115  After crossing paths at a party, a Cape Town teen sets out to prove whether a private-school swi...   \n",
       "172  After crossing paths at a party, a Cape Town teen sets out to prove whether a private-school swi...   \n",
       "\n",
       "            Director          Cast                   Genre        Country  \\\n",
       "0    Kirsten Johnson           nan           Documentaries  United States   \n",
       "1                nan    Ama Qamata  International TV Shows   South Africa   \n",
       "58               nan    Ama Qamata               TV Dramas   South Africa   \n",
       "115              nan    Ama Qamata            TV Mysteries   South Africa   \n",
       "172              nan   Khosi Ngema  International TV Shows   South Africa   \n",
       "\n",
       "    date_added_month date_added_day date_added_year  \n",
       "0          September             25            2021  \n",
       "1          September             24            2021  \n",
       "58         September             24            2021  \n",
       "115        September             24            2021  \n",
       "172        September             24            2021  "
      ]
     },
     "execution_count": 151,
     "metadata": {},
     "output_type": "execute_result"
    }
   ],
   "source": [
    "df_all.head()"
   ]
  },
  {
   "cell_type": "code",
   "execution_count": 68,
   "id": "5122ec38",
   "metadata": {},
   "outputs": [
    {
     "data": {
      "text/html": [
       "<div>\n",
       "<style scoped>\n",
       "    .dataframe tbody tr th:only-of-type {\n",
       "        vertical-align: middle;\n",
       "    }\n",
       "\n",
       "    .dataframe tbody tr th {\n",
       "        vertical-align: top;\n",
       "    }\n",
       "\n",
       "    .dataframe thead th {\n",
       "        text-align: right;\n",
       "    }\n",
       "</style>\n",
       "<table border=\"1\" class=\"dataframe\">\n",
       "  <thead>\n",
       "    <tr style=\"text-align: right;\">\n",
       "      <th></th>\n",
       "      <th>show_id</th>\n",
       "      <th>type</th>\n",
       "      <th>title</th>\n",
       "      <th>director</th>\n",
       "      <th>cast</th>\n",
       "      <th>country</th>\n",
       "      <th>date_added</th>\n",
       "      <th>release_year</th>\n",
       "      <th>rating</th>\n",
       "      <th>duration</th>\n",
       "      <th>listed_in</th>\n",
       "      <th>description</th>\n",
       "    </tr>\n",
       "  </thead>\n",
       "  <tbody>\n",
       "    <tr>\n",
       "      <th>0</th>\n",
       "      <td>s1</td>\n",
       "      <td>Movie</td>\n",
       "      <td>Dick Johnson Is Dead</td>\n",
       "      <td>Kirsten Johnson</td>\n",
       "      <td>NaN</td>\n",
       "      <td>United States</td>\n",
       "      <td>September 25, 2021</td>\n",
       "      <td>2020</td>\n",
       "      <td>PG-13</td>\n",
       "      <td>90 min</td>\n",
       "      <td>Documentaries</td>\n",
       "      <td>As her father nears the end of his life, filmmaker Kirsten Johnson stages his death in inventive...</td>\n",
       "    </tr>\n",
       "    <tr>\n",
       "      <th>1</th>\n",
       "      <td>s2</td>\n",
       "      <td>TV Show</td>\n",
       "      <td>Blood &amp; Water</td>\n",
       "      <td>NaN</td>\n",
       "      <td>Ama Qamata, Khosi Ngema, Gail Mabalane, Thabang Molaba, Dillon Windvogel, Natasha Thahane, Arno ...</td>\n",
       "      <td>South Africa</td>\n",
       "      <td>September 24, 2021</td>\n",
       "      <td>2021</td>\n",
       "      <td>TV-MA</td>\n",
       "      <td>2 Seasons</td>\n",
       "      <td>International TV Shows, TV Dramas, TV Mysteries</td>\n",
       "      <td>After crossing paths at a party, a Cape Town teen sets out to prove whether a private-school swi...</td>\n",
       "    </tr>\n",
       "    <tr>\n",
       "      <th>2</th>\n",
       "      <td>s3</td>\n",
       "      <td>TV Show</td>\n",
       "      <td>Ganglands</td>\n",
       "      <td>Julien Leclercq</td>\n",
       "      <td>Sami Bouajila, Tracy Gotoas, Samuel Jouy, Nabiha Akkari, Sofia Lesaffre, Salim Kechiouche, Noure...</td>\n",
       "      <td>NaN</td>\n",
       "      <td>September 24, 2021</td>\n",
       "      <td>2021</td>\n",
       "      <td>TV-MA</td>\n",
       "      <td>1 Season</td>\n",
       "      <td>Crime TV Shows, International TV Shows, TV Action &amp; Adventure</td>\n",
       "      <td>To protect his family from a powerful drug lord, skilled thief Mehdi and his expert team of robb...</td>\n",
       "    </tr>\n",
       "    <tr>\n",
       "      <th>3</th>\n",
       "      <td>s4</td>\n",
       "      <td>TV Show</td>\n",
       "      <td>Jailbirds New Orleans</td>\n",
       "      <td>NaN</td>\n",
       "      <td>NaN</td>\n",
       "      <td>NaN</td>\n",
       "      <td>September 24, 2021</td>\n",
       "      <td>2021</td>\n",
       "      <td>TV-MA</td>\n",
       "      <td>1 Season</td>\n",
       "      <td>Docuseries, Reality TV</td>\n",
       "      <td>Feuds, flirtations and toilet talk go down among the incarcerated women at the Orleans Justice C...</td>\n",
       "    </tr>\n",
       "    <tr>\n",
       "      <th>4</th>\n",
       "      <td>s5</td>\n",
       "      <td>TV Show</td>\n",
       "      <td>Kota Factory</td>\n",
       "      <td>NaN</td>\n",
       "      <td>Mayur More, Jitendra Kumar, Ranjan Raj, Alam Khan, Ahsaas Channa, Revathi Pillai, Urvi Singh, Ar...</td>\n",
       "      <td>India</td>\n",
       "      <td>September 24, 2021</td>\n",
       "      <td>2021</td>\n",
       "      <td>TV-MA</td>\n",
       "      <td>2 Seasons</td>\n",
       "      <td>International TV Shows, Romantic TV Shows, TV Comedies</td>\n",
       "      <td>In a city of coaching centers known to train India’s finest collegiate minds, an earnest but une...</td>\n",
       "    </tr>\n",
       "  </tbody>\n",
       "</table>\n",
       "</div>"
      ],
      "text/plain": [
       "  show_id     type                  title         director  \\\n",
       "0      s1    Movie   Dick Johnson Is Dead  Kirsten Johnson   \n",
       "1      s2  TV Show          Blood & Water              NaN   \n",
       "2      s3  TV Show              Ganglands  Julien Leclercq   \n",
       "3      s4  TV Show  Jailbirds New Orleans              NaN   \n",
       "4      s5  TV Show           Kota Factory              NaN   \n",
       "\n",
       "                                                                                                  cast  \\\n",
       "0                                                                                                  NaN   \n",
       "1  Ama Qamata, Khosi Ngema, Gail Mabalane, Thabang Molaba, Dillon Windvogel, Natasha Thahane, Arno ...   \n",
       "2  Sami Bouajila, Tracy Gotoas, Samuel Jouy, Nabiha Akkari, Sofia Lesaffre, Salim Kechiouche, Noure...   \n",
       "3                                                                                                  NaN   \n",
       "4  Mayur More, Jitendra Kumar, Ranjan Raj, Alam Khan, Ahsaas Channa, Revathi Pillai, Urvi Singh, Ar...   \n",
       "\n",
       "         country          date_added  release_year rating   duration  \\\n",
       "0  United States  September 25, 2021          2020  PG-13     90 min   \n",
       "1   South Africa  September 24, 2021          2021  TV-MA  2 Seasons   \n",
       "2            NaN  September 24, 2021          2021  TV-MA   1 Season   \n",
       "3            NaN  September 24, 2021          2021  TV-MA   1 Season   \n",
       "4          India  September 24, 2021          2021  TV-MA  2 Seasons   \n",
       "\n",
       "                                                       listed_in  \\\n",
       "0                                                  Documentaries   \n",
       "1                International TV Shows, TV Dramas, TV Mysteries   \n",
       "2  Crime TV Shows, International TV Shows, TV Action & Adventure   \n",
       "3                                         Docuseries, Reality TV   \n",
       "4         International TV Shows, Romantic TV Shows, TV Comedies   \n",
       "\n",
       "                                                                                           description  \n",
       "0  As her father nears the end of his life, filmmaker Kirsten Johnson stages his death in inventive...  \n",
       "1  After crossing paths at a party, a Cape Town teen sets out to prove whether a private-school swi...  \n",
       "2  To protect his family from a powerful drug lord, skilled thief Mehdi and his expert team of robb...  \n",
       "3  Feuds, flirtations and toilet talk go down among the incarcerated women at the Orleans Justice C...  \n",
       "4  In a city of coaching centers known to train India’s finest collegiate minds, an earnest but une...  "
      ]
     },
     "execution_count": 68,
     "metadata": {},
     "output_type": "execute_result"
    }
   ],
   "source": [
    "df.head()"
   ]
  },
  {
   "cell_type": "code",
   "execution_count": null,
   "id": "5a59d3c7",
   "metadata": {},
   "outputs": [],
   "source": []
  },
  {
   "cell_type": "code",
   "execution_count": null,
   "id": "4a082dbf",
   "metadata": {},
   "outputs": [],
   "source": []
  },
  {
   "cell_type": "code",
   "execution_count": null,
   "id": "676551e2",
   "metadata": {},
   "outputs": [],
   "source": []
  },
  {
   "cell_type": "code",
   "execution_count": null,
   "id": "9bcf0ca7",
   "metadata": {},
   "outputs": [],
   "source": []
  },
  {
   "cell_type": "code",
   "execution_count": 10,
   "id": "b8ad00e6",
   "metadata": {},
   "outputs": [],
   "source": [
    "tv = df[df['type']=='TV Show']\n",
    "mov = df[df['type']=='Movie']"
   ]
  },
  {
   "cell_type": "markdown",
   "id": "9ed1f5bd",
   "metadata": {},
   "source": [
    "### show_id"
   ]
  },
  {
   "cell_type": "code",
   "execution_count": 11,
   "id": "f319d477",
   "metadata": {},
   "outputs": [
    {
     "data": {
      "text/plain": [
       "(8807, 8807)"
      ]
     },
     "execution_count": 11,
     "metadata": {},
     "output_type": "execute_result"
    }
   ],
   "source": [
    "df.show_id.nunique(), df.show_id.count()"
   ]
  },
  {
   "cell_type": "code",
   "execution_count": 12,
   "id": "ea10da7e",
   "metadata": {},
   "outputs": [
    {
     "data": {
      "text/plain": [
       "(2676, 2676)"
      ]
     },
     "execution_count": 12,
     "metadata": {},
     "output_type": "execute_result"
    }
   ],
   "source": [
    "tv.show_id.nunique(),tv.show_id.count()"
   ]
  },
  {
   "cell_type": "code",
   "execution_count": 13,
   "id": "e67f0285",
   "metadata": {},
   "outputs": [
    {
     "data": {
      "text/plain": [
       "(6131, 6131)"
      ]
     },
     "execution_count": 13,
     "metadata": {},
     "output_type": "execute_result"
    }
   ],
   "source": [
    "mov.show_id.nunique(), mov.show_id.nunique()"
   ]
  },
  {
   "cell_type": "markdown",
   "id": "5155fe74",
   "metadata": {},
   "source": [
    "### type"
   ]
  },
  {
   "cell_type": "code",
   "execution_count": 14,
   "id": "8f4ee5eb",
   "metadata": {},
   "outputs": [
    {
     "data": {
      "text/plain": [
       "Movie      69.615079\n",
       "TV Show    30.384921\n",
       "Name: type, dtype: float64"
      ]
     },
     "execution_count": 14,
     "metadata": {},
     "output_type": "execute_result"
    }
   ],
   "source": [
    "df.type.value_counts(normalize=True)*100"
   ]
  },
  {
   "cell_type": "code",
   "execution_count": 15,
   "id": "89bb8719",
   "metadata": {},
   "outputs": [
    {
     "data": {
      "text/plain": [
       "0"
      ]
     },
     "execution_count": 15,
     "metadata": {},
     "output_type": "execute_result"
    }
   ],
   "source": [
    "df.type.isnull().sum() # no null values"
   ]
  },
  {
   "cell_type": "code",
   "execution_count": 16,
   "id": "83b18160",
   "metadata": {},
   "outputs": [
    {
     "data": {
      "text/plain": [
       "<AxesSubplot:xlabel='type', ylabel='count'>"
      ]
     },
     "execution_count": 16,
     "metadata": {},
     "output_type": "execute_result"
    },
    {
     "data": {
      "image/png": "[encoded data removed]",
      "text/plain": [
       "<Figure size 432x288 with 1 Axes>"
      ]
     },
     "metadata": {
      "needs_background": "light"
     },
     "output_type": "display_data"
    }
   ],
   "source": [
    "sns.countplot(x='type', data=df)"
   ]
  },
  {
   "cell_type": "markdown",
   "id": "d7b993ae",
   "metadata": {},
   "source": [
    "### title"
   ]
  },
  {
   "cell_type": "code",
   "execution_count": 17,
   "id": "c4f98c3d",
   "metadata": {},
   "outputs": [
    {
     "data": {
      "text/plain": [
       "0     Dick Johnson Is Dead\n",
       "1            Blood & Water\n",
       "2                Ganglands\n",
       "3    Jailbirds New Orleans\n",
       "4             Kota Factory\n",
       "Name: title, dtype: object"
      ]
     },
     "execution_count": 17,
     "metadata": {},
     "output_type": "execute_result"
    }
   ],
   "source": [
    "df.title.head()"
   ]
  },
  {
   "cell_type": "code",
   "execution_count": 18,
   "id": "ceac6943",
   "metadata": {},
   "outputs": [
    {
     "data": {
      "text/plain": [
       "(8807, 8807)"
      ]
     },
     "execution_count": 18,
     "metadata": {},
     "output_type": "execute_result"
    }
   ],
   "source": [
    "df.title.nunique(), df.title.count()"
   ]
  },
  {
   "cell_type": "code",
   "execution_count": 19,
   "id": "97dc86de",
   "metadata": {},
   "outputs": [
    {
     "data": {
      "text/plain": [
       "'Jim & Andy: The Great Beyond - Featuring a Very Special, Contractually Obligated Mention of Tony Clifton'"
      ]
     },
     "execution_count": 19,
     "metadata": {},
     "output_type": "execute_result"
    }
   ],
   "source": [
    "df.iloc[df.title.str.len().argmax()].title"
   ]
  },
  {
   "cell_type": "code",
   "execution_count": 20,
   "id": "f034ccf7",
   "metadata": {},
   "outputs": [
    {
     "data": {
      "text/plain": [
       "'H'"
      ]
     },
     "execution_count": 20,
     "metadata": {},
     "output_type": "execute_result"
    }
   ],
   "source": [
    "df.iloc[df.title.str.len().argmin()].title"
   ]
  },
  {
   "cell_type": "code",
   "execution_count": 21,
   "id": "d8cba068",
   "metadata": {},
   "outputs": [
    {
     "data": {
      "text/html": [
       "<div>\n",
       "<style scoped>\n",
       "    .dataframe tbody tr th:only-of-type {\n",
       "        vertical-align: middle;\n",
       "    }\n",
       "\n",
       "    .dataframe tbody tr th {\n",
       "        vertical-align: top;\n",
       "    }\n",
       "\n",
       "    .dataframe thead th {\n",
       "        text-align: right;\n",
       "    }\n",
       "</style>\n",
       "<table border=\"1\" class=\"dataframe\">\n",
       "  <thead>\n",
       "    <tr style=\"text-align: right;\">\n",
       "      <th></th>\n",
       "      <th>show_id</th>\n",
       "      <th>type</th>\n",
       "      <th>title</th>\n",
       "      <th>director</th>\n",
       "      <th>cast</th>\n",
       "      <th>country</th>\n",
       "      <th>date_added</th>\n",
       "      <th>release_year</th>\n",
       "      <th>rating</th>\n",
       "      <th>duration</th>\n",
       "      <th>listed_in</th>\n",
       "      <th>description</th>\n",
       "    </tr>\n",
       "  </thead>\n",
       "  <tbody>\n",
       "    <tr>\n",
       "      <th>2069</th>\n",
       "      <td>s2070</td>\n",
       "      <td>TV Show</td>\n",
       "      <td>H</td>\n",
       "      <td>NaN</td>\n",
       "      <td>Jamel Debbouze, Éric Judor, Ramzy Bedia, Cathe...</td>\n",
       "      <td>France</td>\n",
       "      <td>September 1, 2020</td>\n",
       "      <td>2002</td>\n",
       "      <td>TV-MA</td>\n",
       "      <td>4 Seasons</td>\n",
       "      <td>International TV Shows, TV Comedies</td>\n",
       "      <td>At a dysfunctional hospital in Paris, three bu...</td>\n",
       "    </tr>\n",
       "    <tr>\n",
       "      <th>5958</th>\n",
       "      <td>s5959</td>\n",
       "      <td>Movie</td>\n",
       "      <td>9</td>\n",
       "      <td>Shane Acker</td>\n",
       "      <td>Elijah Wood, John C. Reilly, Jennifer Connelly...</td>\n",
       "      <td>United States</td>\n",
       "      <td>November 16, 2017</td>\n",
       "      <td>2009</td>\n",
       "      <td>PG-13</td>\n",
       "      <td>80 min</td>\n",
       "      <td>Action &amp; Adventure, Independent Movies, Sci-Fi...</td>\n",
       "      <td>In a postapocalyptic world, rag-doll robots hi...</td>\n",
       "    </tr>\n",
       "    <tr>\n",
       "      <th>7155</th>\n",
       "      <td>s7156</td>\n",
       "      <td>TV Show</td>\n",
       "      <td>K</td>\n",
       "      <td>NaN</td>\n",
       "      <td>Daisuke Namikawa, Daisuke Ono, Mikako Komatsu,...</td>\n",
       "      <td>Japan</td>\n",
       "      <td>December 1, 2016</td>\n",
       "      <td>2012</td>\n",
       "      <td>TV-MA</td>\n",
       "      <td>1 Season</td>\n",
       "      <td>Anime Series, Crime TV Shows, International TV...</td>\n",
       "      <td>A young boy is wanted for a crime he has no re...</td>\n",
       "    </tr>\n",
       "    <tr>\n",
       "      <th>7687</th>\n",
       "      <td>s7688</td>\n",
       "      <td>Movie</td>\n",
       "      <td>P</td>\n",
       "      <td>Paul Spurrier</td>\n",
       "      <td>Suangporn Jaturaphut, Opal, Dor Yodrak, Pisama...</td>\n",
       "      <td>United Kingdom, Thailand</td>\n",
       "      <td>May 31, 2019</td>\n",
       "      <td>2006</td>\n",
       "      <td>TV-MA</td>\n",
       "      <td>105 min</td>\n",
       "      <td>Horror Movies, International Movies</td>\n",
       "      <td>An orphan girl taught magic by her sick grandm...</td>\n",
       "    </tr>\n",
       "  </tbody>\n",
       "</table>\n",
       "</div>"
      ],
      "text/plain": [
       "     show_id     type title       director  \\\n",
       "2069   s2070  TV Show     H            NaN   \n",
       "5958   s5959    Movie     9    Shane Acker   \n",
       "7155   s7156  TV Show     K            NaN   \n",
       "7687   s7688    Movie     P  Paul Spurrier   \n",
       "\n",
       "                                                   cast  \\\n",
       "2069  Jamel Debbouze, Éric Judor, Ramzy Bedia, Cathe...   \n",
       "5958  Elijah Wood, John C. Reilly, Jennifer Connelly...   \n",
       "7155  Daisuke Namikawa, Daisuke Ono, Mikako Komatsu,...   \n",
       "7687  Suangporn Jaturaphut, Opal, Dor Yodrak, Pisama...   \n",
       "\n",
       "                       country         date_added  release_year rating  \\\n",
       "2069                    France  September 1, 2020          2002  TV-MA   \n",
       "5958             United States  November 16, 2017          2009  PG-13   \n",
       "7155                     Japan   December 1, 2016          2012  TV-MA   \n",
       "7687  United Kingdom, Thailand       May 31, 2019          2006  TV-MA   \n",
       "\n",
       "       duration                                          listed_in  \\\n",
       "2069  4 Seasons                International TV Shows, TV Comedies   \n",
       "5958     80 min  Action & Adventure, Independent Movies, Sci-Fi...   \n",
       "7155   1 Season  Anime Series, Crime TV Shows, International TV...   \n",
       "7687    105 min                Horror Movies, International Movies   \n",
       "\n",
       "                                            description  \n",
       "2069  At a dysfunctional hospital in Paris, three bu...  \n",
       "5958  In a postapocalyptic world, rag-doll robots hi...  \n",
       "7155  A young boy is wanted for a crime he has no re...  \n",
       "7687  An orphan girl taught magic by her sick grandm...  "
      ]
     },
     "execution_count": 21,
     "metadata": {},
     "output_type": "execute_result"
    }
   ],
   "source": [
    "df[df.title.str.len()==1]"
   ]
  },
  {
   "cell_type": "markdown",
   "id": "6b2749de",
   "metadata": {},
   "source": [
    "### director"
   ]
  },
  {
   "cell_type": "code",
   "execution_count": 22,
   "id": "6b35b952",
   "metadata": {},
   "outputs": [
    {
     "data": {
      "text/plain": [
       "0    Kirsten Johnson\n",
       "1                NaN\n",
       "2    Julien Leclercq\n",
       "3                NaN\n",
       "4                NaN\n",
       "Name: director, dtype: object"
      ]
     },
     "execution_count": 22,
     "metadata": {},
     "output_type": "execute_result"
    }
   ],
   "source": [
    "df.director.head()"
   ]
  },
  {
   "cell_type": "code",
   "execution_count": 23,
   "id": "deccc365",
   "metadata": {},
   "outputs": [
    {
     "data": {
      "text/plain": [
       "(4528, 2634, 6173)"
      ]
     },
     "execution_count": 23,
     "metadata": {},
     "output_type": "execute_result"
    }
   ],
   "source": [
    "df.director.nunique(), df.director.isnull().sum(), df.director.count()"
   ]
  },
  {
   "cell_type": "code",
   "execution_count": 24,
   "id": "91f8d1a6",
   "metadata": {},
   "outputs": [
    {
     "data": {
      "text/plain": [
       "Rajiv Chilaka                   19\n",
       "Raúl Campos, Jan Suter          18\n",
       "Suhas Kadav                     16\n",
       "Marcus Raboy                    16\n",
       "Jay Karas                       14\n",
       "                                ..\n",
       "Saandeep Patel                   1\n",
       "John Patrick Shanley             1\n",
       "Reinhard Klooss                  1\n",
       "Denis Hennelly, Casey Suchan     1\n",
       "Ah Loong                         1\n",
       "Name: director, Length: 4528, dtype: int64"
      ]
     },
     "execution_count": 24,
     "metadata": {},
     "output_type": "execute_result"
    }
   ],
   "source": [
    "df.director.value_counts()"
   ]
  },
  {
   "cell_type": "code",
   "execution_count": 25,
   "id": "a50cfd08",
   "metadata": {},
   "outputs": [
    {
     "data": {
      "text/html": [
       "<div>\n",
       "<style scoped>\n",
       "    .dataframe tbody tr th:only-of-type {\n",
       "        vertical-align: middle;\n",
       "    }\n",
       "\n",
       "    .dataframe tbody tr th {\n",
       "        vertical-align: top;\n",
       "    }\n",
       "\n",
       "    .dataframe thead th {\n",
       "        text-align: right;\n",
       "    }\n",
       "</style>\n",
       "<table border=\"1\" class=\"dataframe\">\n",
       "  <thead>\n",
       "    <tr style=\"text-align: right;\">\n",
       "      <th></th>\n",
       "      <th>show_id</th>\n",
       "      <th>type</th>\n",
       "      <th>title</th>\n",
       "      <th>director</th>\n",
       "      <th>cast</th>\n",
       "      <th>country</th>\n",
       "      <th>date_added</th>\n",
       "      <th>release_year</th>\n",
       "      <th>rating</th>\n",
       "      <th>duration</th>\n",
       "      <th>listed_in</th>\n",
       "      <th>description</th>\n",
       "    </tr>\n",
       "  </thead>\n",
       "  <tbody>\n",
       "    <tr>\n",
       "      <th>406</th>\n",
       "      <td>s407</td>\n",
       "      <td>Movie</td>\n",
       "      <td>Chhota Bheem - Neeli Pahaadi</td>\n",
       "      <td>Rajiv Chilaka</td>\n",
       "      <td>Vatsal Dubey, Julie Tejwani, Rupa Bhimani, Jig...</td>\n",
       "      <td>NaN</td>\n",
       "      <td>July 22, 2021</td>\n",
       "      <td>2013</td>\n",
       "      <td>TV-Y7</td>\n",
       "      <td>64 min</td>\n",
       "      <td>Children &amp; Family Movies</td>\n",
       "      <td>Things get spooky when Bheem and his buddies t...</td>\n",
       "    </tr>\n",
       "    <tr>\n",
       "      <th>407</th>\n",
       "      <td>s408</td>\n",
       "      <td>Movie</td>\n",
       "      <td>Chhota Bheem &amp; Ganesh</td>\n",
       "      <td>Rajiv Chilaka</td>\n",
       "      <td>Vatsal Dubey, Julie Tejwani, Rupa Bhimani, Jig...</td>\n",
       "      <td>NaN</td>\n",
       "      <td>July 22, 2021</td>\n",
       "      <td>2009</td>\n",
       "      <td>TV-Y7</td>\n",
       "      <td>68 min</td>\n",
       "      <td>Children &amp; Family Movies</td>\n",
       "      <td>Bheem and Lord Ganesha join forces to save Dho...</td>\n",
       "    </tr>\n",
       "    <tr>\n",
       "      <th>408</th>\n",
       "      <td>s409</td>\n",
       "      <td>Movie</td>\n",
       "      <td>Chhota Bheem &amp; Krishna: Mayanagari</td>\n",
       "      <td>Rajiv Chilaka</td>\n",
       "      <td>Vatsal Dubey, Julie Tejwani, Rupa Bhimani, Jig...</td>\n",
       "      <td>NaN</td>\n",
       "      <td>July 22, 2021</td>\n",
       "      <td>2011</td>\n",
       "      <td>TV-Y7</td>\n",
       "      <td>67 min</td>\n",
       "      <td>Children &amp; Family Movies</td>\n",
       "      <td>Young lord Krishna has fallen for demoness Maa...</td>\n",
       "    </tr>\n",
       "    <tr>\n",
       "      <th>409</th>\n",
       "      <td>s410</td>\n",
       "      <td>Movie</td>\n",
       "      <td>Chhota Bheem &amp; Krishna: Pataliputra- City of t...</td>\n",
       "      <td>Rajiv Chilaka</td>\n",
       "      <td>Vatsal Dubey, Julie Tejwani, Rupa Bhimani, Jig...</td>\n",
       "      <td>NaN</td>\n",
       "      <td>July 22, 2021</td>\n",
       "      <td>2010</td>\n",
       "      <td>TV-Y7</td>\n",
       "      <td>66 min</td>\n",
       "      <td>Children &amp; Family Movies</td>\n",
       "      <td>Krishna needs Bheem’s help: The ruined city of...</td>\n",
       "    </tr>\n",
       "    <tr>\n",
       "      <th>410</th>\n",
       "      <td>s411</td>\n",
       "      <td>Movie</td>\n",
       "      <td>Chhota Bheem And The Broken Amulet</td>\n",
       "      <td>Rajiv Chilaka</td>\n",
       "      <td>Vatsal Dubey, Julie Tejwani, Rupa Bhimani, Jig...</td>\n",
       "      <td>India</td>\n",
       "      <td>July 22, 2021</td>\n",
       "      <td>2013</td>\n",
       "      <td>TV-Y7</td>\n",
       "      <td>64 min</td>\n",
       "      <td>Children &amp; Family Movies</td>\n",
       "      <td>When a stranger tries to steal an amulet from ...</td>\n",
       "    </tr>\n",
       "    <tr>\n",
       "      <th>411</th>\n",
       "      <td>s412</td>\n",
       "      <td>Movie</td>\n",
       "      <td>Chhota Bheem And The Crown of Valhalla</td>\n",
       "      <td>Rajiv Chilaka</td>\n",
       "      <td>Vatsal Dubey, Julie Tejwani, Rupa Bhimani, Jig...</td>\n",
       "      <td>NaN</td>\n",
       "      <td>July 22, 2021</td>\n",
       "      <td>2013</td>\n",
       "      <td>TV-Y7</td>\n",
       "      <td>64 min</td>\n",
       "      <td>Children &amp; Family Movies</td>\n",
       "      <td>To save the kingdom of Valhalla from invasion ...</td>\n",
       "    </tr>\n",
       "    <tr>\n",
       "      <th>412</th>\n",
       "      <td>s413</td>\n",
       "      <td>Movie</td>\n",
       "      <td>Chhota Bheem and the Incan Adventure</td>\n",
       "      <td>Rajiv Chilaka</td>\n",
       "      <td>Vatsal Dubey, Julie Tejwani, Rupa Bhimani, Jig...</td>\n",
       "      <td>NaN</td>\n",
       "      <td>July 22, 2021</td>\n",
       "      <td>2013</td>\n",
       "      <td>TV-Y7</td>\n",
       "      <td>65 min</td>\n",
       "      <td>Children &amp; Family Movies</td>\n",
       "      <td>When Dholakpur’s princess is kidnapped, Bheem ...</td>\n",
       "    </tr>\n",
       "    <tr>\n",
       "      <th>413</th>\n",
       "      <td>s414</td>\n",
       "      <td>Movie</td>\n",
       "      <td>Chhota Bheem and The ShiNobi Secret</td>\n",
       "      <td>Rajiv Chilaka</td>\n",
       "      <td>Vatsal Dubey, Julie Tejwani, Rupa Bhimani, Jig...</td>\n",
       "      <td>NaN</td>\n",
       "      <td>July 22, 2021</td>\n",
       "      <td>2013</td>\n",
       "      <td>TV-Y7</td>\n",
       "      <td>64 min</td>\n",
       "      <td>Children &amp; Family Movies</td>\n",
       "      <td>After learning of a samurai village under thre...</td>\n",
       "    </tr>\n",
       "    <tr>\n",
       "      <th>414</th>\n",
       "      <td>s415</td>\n",
       "      <td>Movie</td>\n",
       "      <td>Chhota Bheem Aur Hanuman</td>\n",
       "      <td>Rajiv Chilaka</td>\n",
       "      <td>Vatsal Dubey, Julie Tejwani, Rupa Bhimani, Jig...</td>\n",
       "      <td>NaN</td>\n",
       "      <td>July 22, 2021</td>\n",
       "      <td>2012</td>\n",
       "      <td>TV-Y7</td>\n",
       "      <td>68 min</td>\n",
       "      <td>Children &amp; Family Movies</td>\n",
       "      <td>When two evil entities kidnap a princess in a ...</td>\n",
       "    </tr>\n",
       "    <tr>\n",
       "      <th>415</th>\n",
       "      <td>s416</td>\n",
       "      <td>Movie</td>\n",
       "      <td>Chhota Bheem aur Krishna</td>\n",
       "      <td>Rajiv Chilaka</td>\n",
       "      <td>Vatsal Dubey, Julie Tejwani, Rupa Bhimani, Jig...</td>\n",
       "      <td>India</td>\n",
       "      <td>July 22, 2021</td>\n",
       "      <td>2009</td>\n",
       "      <td>TV-Y7</td>\n",
       "      <td>68 min</td>\n",
       "      <td>Children &amp; Family Movies</td>\n",
       "      <td>Centuries after the end of a conqueror's rule,...</td>\n",
       "    </tr>\n",
       "    <tr>\n",
       "      <th>416</th>\n",
       "      <td>s417</td>\n",
       "      <td>Movie</td>\n",
       "      <td>Chhota Bheem aur Krishna vs Zimbara</td>\n",
       "      <td>Rajiv Chilaka</td>\n",
       "      <td>Vatsal Dubey, Julie Tejwani, Rupa Bhimani, Jig...</td>\n",
       "      <td>NaN</td>\n",
       "      <td>July 22, 2021</td>\n",
       "      <td>2013</td>\n",
       "      <td>TV-Y7</td>\n",
       "      <td>64 min</td>\n",
       "      <td>Children &amp; Family Movies</td>\n",
       "      <td>A demon of darkness is plotting world dominati...</td>\n",
       "    </tr>\n",
       "    <tr>\n",
       "      <th>419</th>\n",
       "      <td>s420</td>\n",
       "      <td>Movie</td>\n",
       "      <td>Chhota Bheem: Bheem vs Aliens</td>\n",
       "      <td>Rajiv Chilaka</td>\n",
       "      <td>Vatsal Dubey, Julie Tejwani, Rupa Bhimani, Jig...</td>\n",
       "      <td>NaN</td>\n",
       "      <td>July 22, 2021</td>\n",
       "      <td>2010</td>\n",
       "      <td>TV-Y7</td>\n",
       "      <td>69 min</td>\n",
       "      <td>Children &amp; Family Movies, Sports Movies</td>\n",
       "      <td>Space invaders have kidnapped Dholakpur’s king...</td>\n",
       "    </tr>\n",
       "    <tr>\n",
       "      <th>420</th>\n",
       "      <td>s421</td>\n",
       "      <td>Movie</td>\n",
       "      <td>Chhota Bheem: Dholakpur to Kathmandu</td>\n",
       "      <td>Rajiv Chilaka</td>\n",
       "      <td>Vatsal Dubey, Julie Tejwani, Rupa Bhimani, Jig...</td>\n",
       "      <td>NaN</td>\n",
       "      <td>July 22, 2021</td>\n",
       "      <td>2012</td>\n",
       "      <td>TV-Y7</td>\n",
       "      <td>70 min</td>\n",
       "      <td>Children &amp; Family Movies</td>\n",
       "      <td>Bheem’s holiday in Nepal takes an unexpected t...</td>\n",
       "    </tr>\n",
       "    <tr>\n",
       "      <th>422</th>\n",
       "      <td>s423</td>\n",
       "      <td>Movie</td>\n",
       "      <td>Chhota Bheem: Journey to Petra</td>\n",
       "      <td>Rajiv Chilaka</td>\n",
       "      <td>Vatsal Dubey, Julie Tejwani, Rupa Bhimani, Jig...</td>\n",
       "      <td>NaN</td>\n",
       "      <td>July 22, 2021</td>\n",
       "      <td>2011</td>\n",
       "      <td>TV-Y7</td>\n",
       "      <td>68 min</td>\n",
       "      <td>Children &amp; Family Movies</td>\n",
       "      <td>The king has been away to meet an old friend, ...</td>\n",
       "    </tr>\n",
       "    <tr>\n",
       "      <th>423</th>\n",
       "      <td>s424</td>\n",
       "      <td>Movie</td>\n",
       "      <td>Chhota Bheem: Master of Shaolin</td>\n",
       "      <td>Rajiv Chilaka</td>\n",
       "      <td>Pooja Punabi, Mausam, Julie Tejwani, Rupa Bhim...</td>\n",
       "      <td>NaN</td>\n",
       "      <td>July 22, 2021</td>\n",
       "      <td>2011</td>\n",
       "      <td>TV-Y7</td>\n",
       "      <td>74 min</td>\n",
       "      <td>Children &amp; Family Movies</td>\n",
       "      <td>Summoned by a monk to help reclaim a temple fr...</td>\n",
       "    </tr>\n",
       "    <tr>\n",
       "      <th>424</th>\n",
       "      <td>s425</td>\n",
       "      <td>Movie</td>\n",
       "      <td>Chhota Bheem: The Rise of Kirmada</td>\n",
       "      <td>Rajiv Chilaka</td>\n",
       "      <td>Vatsal Dubey, Julie Tejwani, Rupa Bhimani, Jig...</td>\n",
       "      <td>NaN</td>\n",
       "      <td>July 22, 2021</td>\n",
       "      <td>2012</td>\n",
       "      <td>TV-Y7</td>\n",
       "      <td>68 min</td>\n",
       "      <td>Children &amp; Family Movies</td>\n",
       "      <td>Bheem and young lord Krishna team up to protec...</td>\n",
       "    </tr>\n",
       "    <tr>\n",
       "      <th>2717</th>\n",
       "      <td>s2718</td>\n",
       "      <td>Movie</td>\n",
       "      <td>Chhota Bheem and the Curse of Damyaan</td>\n",
       "      <td>Rajiv Chilaka</td>\n",
       "      <td>Kaustav Ghosh, Jigna Bhardwaj, Chutki, Rajesh ...</td>\n",
       "      <td>India</td>\n",
       "      <td>April 1, 2020</td>\n",
       "      <td>2012</td>\n",
       "      <td>TV-Y7</td>\n",
       "      <td>87 min</td>\n",
       "      <td>Children &amp; Family Movies</td>\n",
       "      <td>An evil demon who traded his freedom for immor...</td>\n",
       "    </tr>\n",
       "    <tr>\n",
       "      <th>6297</th>\n",
       "      <td>s6298</td>\n",
       "      <td>Movie</td>\n",
       "      <td>Bheemayan</td>\n",
       "      <td>Rajiv Chilaka</td>\n",
       "      <td>NaN</td>\n",
       "      <td>NaN</td>\n",
       "      <td>May 10, 2019</td>\n",
       "      <td>2018</td>\n",
       "      <td>TV-Y</td>\n",
       "      <td>63 min</td>\n",
       "      <td>Children &amp; Family Movies</td>\n",
       "      <td>It's Diwali! To celebrate, Chhota Bheem and hi...</td>\n",
       "    </tr>\n",
       "    <tr>\n",
       "      <th>6645</th>\n",
       "      <td>s6646</td>\n",
       "      <td>Movie</td>\n",
       "      <td>Dragonkala Ka Rahasya</td>\n",
       "      <td>Rajiv Chilaka</td>\n",
       "      <td>NaN</td>\n",
       "      <td>NaN</td>\n",
       "      <td>June 18, 2019</td>\n",
       "      <td>2018</td>\n",
       "      <td>TV-Y</td>\n",
       "      <td>68 min</td>\n",
       "      <td>Children &amp; Family Movies</td>\n",
       "      <td>Bheem helps to reopen Dragonpur's abandoned ma...</td>\n",
       "    </tr>\n",
       "  </tbody>\n",
       "</table>\n",
       "</div>"
      ],
      "text/plain": [
       "     show_id   type                                              title  \\\n",
       "406     s407  Movie                       Chhota Bheem - Neeli Pahaadi   \n",
       "407     s408  Movie                              Chhota Bheem & Ganesh   \n",
       "408     s409  Movie                 Chhota Bheem & Krishna: Mayanagari   \n",
       "409     s410  Movie  Chhota Bheem & Krishna: Pataliputra- City of t...   \n",
       "410     s411  Movie                 Chhota Bheem And The Broken Amulet   \n",
       "411     s412  Movie             Chhota Bheem And The Crown of Valhalla   \n",
       "412     s413  Movie               Chhota Bheem and the Incan Adventure   \n",
       "413     s414  Movie                Chhota Bheem and The ShiNobi Secret   \n",
       "414     s415  Movie                           Chhota Bheem Aur Hanuman   \n",
       "415     s416  Movie                           Chhota Bheem aur Krishna   \n",
       "416     s417  Movie                Chhota Bheem aur Krishna vs Zimbara   \n",
       "419     s420  Movie                      Chhota Bheem: Bheem vs Aliens   \n",
       "420     s421  Movie               Chhota Bheem: Dholakpur to Kathmandu   \n",
       "422     s423  Movie                     Chhota Bheem: Journey to Petra   \n",
       "423     s424  Movie                    Chhota Bheem: Master of Shaolin   \n",
       "424     s425  Movie                  Chhota Bheem: The Rise of Kirmada   \n",
       "2717   s2718  Movie              Chhota Bheem and the Curse of Damyaan   \n",
       "6297   s6298  Movie                                          Bheemayan   \n",
       "6645   s6646  Movie                              Dragonkala Ka Rahasya   \n",
       "\n",
       "           director                                               cast  \\\n",
       "406   Rajiv Chilaka  Vatsal Dubey, Julie Tejwani, Rupa Bhimani, Jig...   \n",
       "407   Rajiv Chilaka  Vatsal Dubey, Julie Tejwani, Rupa Bhimani, Jig...   \n",
       "408   Rajiv Chilaka  Vatsal Dubey, Julie Tejwani, Rupa Bhimani, Jig...   \n",
       "409   Rajiv Chilaka  Vatsal Dubey, Julie Tejwani, Rupa Bhimani, Jig...   \n",
       "410   Rajiv Chilaka  Vatsal Dubey, Julie Tejwani, Rupa Bhimani, Jig...   \n",
       "411   Rajiv Chilaka  Vatsal Dubey, Julie Tejwani, Rupa Bhimani, Jig...   \n",
       "412   Rajiv Chilaka  Vatsal Dubey, Julie Tejwani, Rupa Bhimani, Jig...   \n",
       "413   Rajiv Chilaka  Vatsal Dubey, Julie Tejwani, Rupa Bhimani, Jig...   \n",
       "414   Rajiv Chilaka  Vatsal Dubey, Julie Tejwani, Rupa Bhimani, Jig...   \n",
       "415   Rajiv Chilaka  Vatsal Dubey, Julie Tejwani, Rupa Bhimani, Jig...   \n",
       "416   Rajiv Chilaka  Vatsal Dubey, Julie Tejwani, Rupa Bhimani, Jig...   \n",
       "419   Rajiv Chilaka  Vatsal Dubey, Julie Tejwani, Rupa Bhimani, Jig...   \n",
       "420   Rajiv Chilaka  Vatsal Dubey, Julie Tejwani, Rupa Bhimani, Jig...   \n",
       "422   Rajiv Chilaka  Vatsal Dubey, Julie Tejwani, Rupa Bhimani, Jig...   \n",
       "423   Rajiv Chilaka  Pooja Punabi, Mausam, Julie Tejwani, Rupa Bhim...   \n",
       "424   Rajiv Chilaka  Vatsal Dubey, Julie Tejwani, Rupa Bhimani, Jig...   \n",
       "2717  Rajiv Chilaka  Kaustav Ghosh, Jigna Bhardwaj, Chutki, Rajesh ...   \n",
       "6297  Rajiv Chilaka                                                NaN   \n",
       "6645  Rajiv Chilaka                                                NaN   \n",
       "\n",
       "     country     date_added  release_year rating duration  \\\n",
       "406      NaN  July 22, 2021          2013  TV-Y7   64 min   \n",
       "407      NaN  July 22, 2021          2009  TV-Y7   68 min   \n",
       "408      NaN  July 22, 2021          2011  TV-Y7   67 min   \n",
       "409      NaN  July 22, 2021          2010  TV-Y7   66 min   \n",
       "410    India  July 22, 2021          2013  TV-Y7   64 min   \n",
       "411      NaN  July 22, 2021          2013  TV-Y7   64 min   \n",
       "412      NaN  July 22, 2021          2013  TV-Y7   65 min   \n",
       "413      NaN  July 22, 2021          2013  TV-Y7   64 min   \n",
       "414      NaN  July 22, 2021          2012  TV-Y7   68 min   \n",
       "415    India  July 22, 2021          2009  TV-Y7   68 min   \n",
       "416      NaN  July 22, 2021          2013  TV-Y7   64 min   \n",
       "419      NaN  July 22, 2021          2010  TV-Y7   69 min   \n",
       "420      NaN  July 22, 2021          2012  TV-Y7   70 min   \n",
       "422      NaN  July 22, 2021          2011  TV-Y7   68 min   \n",
       "423      NaN  July 22, 2021          2011  TV-Y7   74 min   \n",
       "424      NaN  July 22, 2021          2012  TV-Y7   68 min   \n",
       "2717   India  April 1, 2020          2012  TV-Y7   87 min   \n",
       "6297     NaN   May 10, 2019          2018   TV-Y   63 min   \n",
       "6645     NaN  June 18, 2019          2018   TV-Y   68 min   \n",
       "\n",
       "                                    listed_in  \\\n",
       "406                  Children & Family Movies   \n",
       "407                  Children & Family Movies   \n",
       "408                  Children & Family Movies   \n",
       "409                  Children & Family Movies   \n",
       "410                  Children & Family Movies   \n",
       "411                  Children & Family Movies   \n",
       "412                  Children & Family Movies   \n",
       "413                  Children & Family Movies   \n",
       "414                  Children & Family Movies   \n",
       "415                  Children & Family Movies   \n",
       "416                  Children & Family Movies   \n",
       "419   Children & Family Movies, Sports Movies   \n",
       "420                  Children & Family Movies   \n",
       "422                  Children & Family Movies   \n",
       "423                  Children & Family Movies   \n",
       "424                  Children & Family Movies   \n",
       "2717                 Children & Family Movies   \n",
       "6297                 Children & Family Movies   \n",
       "6645                 Children & Family Movies   \n",
       "\n",
       "                                            description  \n",
       "406   Things get spooky when Bheem and his buddies t...  \n",
       "407   Bheem and Lord Ganesha join forces to save Dho...  \n",
       "408   Young lord Krishna has fallen for demoness Maa...  \n",
       "409   Krishna needs Bheem’s help: The ruined city of...  \n",
       "410   When a stranger tries to steal an amulet from ...  \n",
       "411   To save the kingdom of Valhalla from invasion ...  \n",
       "412   When Dholakpur’s princess is kidnapped, Bheem ...  \n",
       "413   After learning of a samurai village under thre...  \n",
       "414   When two evil entities kidnap a princess in a ...  \n",
       "415   Centuries after the end of a conqueror's rule,...  \n",
       "416   A demon of darkness is plotting world dominati...  \n",
       "419   Space invaders have kidnapped Dholakpur’s king...  \n",
       "420   Bheem’s holiday in Nepal takes an unexpected t...  \n",
       "422   The king has been away to meet an old friend, ...  \n",
       "423   Summoned by a monk to help reclaim a temple fr...  \n",
       "424   Bheem and young lord Krishna team up to protec...  \n",
       "2717  An evil demon who traded his freedom for immor...  \n",
       "6297  It's Diwali! To celebrate, Chhota Bheem and hi...  \n",
       "6645  Bheem helps to reopen Dragonpur's abandoned ma...  "
      ]
     },
     "execution_count": 25,
     "metadata": {},
     "output_type": "execute_result"
    }
   ],
   "source": [
    "df.groupby('director').get_group(name='Rajiv Chilaka')"
   ]
  },
  {
   "cell_type": "markdown",
   "id": "0b5da580",
   "metadata": {},
   "source": [
    "### cast"
   ]
  },
  {
   "cell_type": "markdown",
   "id": "5ba2cd9e",
   "metadata": {},
   "source": [
    "### country"
   ]
  },
  {
   "cell_type": "markdown",
   "id": "769e3f75",
   "metadata": {},
   "source": [
    "### date_added"
   ]
  },
  {
   "cell_type": "markdown",
   "id": "5dfb2380",
   "metadata": {},
   "source": [
    "### release_year"
   ]
  },
  {
   "cell_type": "markdown",
   "id": "994608e4",
   "metadata": {},
   "source": [
    "### rating"
   ]
  },
  {
   "cell_type": "markdown",
   "id": "4649e21e",
   "metadata": {},
   "source": [
    "### duration"
   ]
  },
  {
   "cell_type": "markdown",
   "id": "d6d00285",
   "metadata": {},
   "source": [
    "### listed_in"
   ]
  },
  {
   "cell_type": "markdown",
   "id": "2a333327",
   "metadata": {},
   "source": [
    "### description"
   ]
  },
  {
   "cell_type": "code",
   "execution_count": null,
   "id": "22e1f418",
   "metadata": {},
   "outputs": [],
   "source": []
  },
  {
   "cell_type": "code",
   "execution_count": 84,
   "id": "71fb79c0",
   "metadata": {},
   "outputs": [],
   "source": [
    "from datetime import datetime"
   ]
  },
  {
   "cell_type": "code",
   "execution_count": null,
   "id": "1af00e15",
   "metadata": {},
   "outputs": [],
   "source": [
    "s = \"8 March, 2017\"\n",
    "d = datetime.strptime(s, '%d %B, %Y')\n",
    "print(d.strftime('%Y-%m-%d'))"
   ]
  },
  {
   "cell_type": "code",
   "execution_count": 95,
   "id": "7722545d",
   "metadata": {},
   "outputs": [],
   "source": [
    "def date_conv(x):\n",
    "    if x=='nan':\n",
    "        return 'nan'\n",
    "    else:\n",
    "        x = str(x).strip()\n",
    "        return datetime.strptime(str(x), '%B %d, %Y')"
   ]
  },
  {
   "cell_type": "code",
   "execution_count": 96,
   "id": "9f1a79f6",
   "metadata": {},
   "outputs": [
    {
     "ename": "ValueError",
     "evalue": "time data 'nan' does not match format '%B %d, %Y'",
     "output_type": "error",
     "traceback": [
      "\u001b[1;31m---------------------------------------------------------------------------\u001b[0m",
      "\u001b[1;31mValueError\u001b[0m                                Traceback (most recent call last)",
      "\u001b[1;32m<ipython-input-96-820119f264e9>\u001b[0m in \u001b[0;36m<module>\u001b[1;34m\u001b[0m\n\u001b[1;32m----> 1\u001b[1;33m \u001b[0mdf\u001b[0m\u001b[1;33m[\u001b[0m\u001b[1;34m'date_added'\u001b[0m\u001b[1;33m]\u001b[0m\u001b[1;33m.\u001b[0m\u001b[0mapply\u001b[0m\u001b[1;33m(\u001b[0m\u001b[0mdate_conv\u001b[0m\u001b[1;33m)\u001b[0m\u001b[1;33m\u001b[0m\u001b[1;33m\u001b[0m\u001b[0m\n\u001b[0m",
      "\u001b[1;32m~\\anaconda3\\lib\\site-packages\\pandas\\core\\series.py\u001b[0m in \u001b[0;36mapply\u001b[1;34m(self, func, convert_dtype, args, **kwds)\u001b[0m\n\u001b[0;32m   4136\u001b[0m             \u001b[1;32melse\u001b[0m\u001b[1;33m:\u001b[0m\u001b[1;33m\u001b[0m\u001b[1;33m\u001b[0m\u001b[0m\n\u001b[0;32m   4137\u001b[0m                 \u001b[0mvalues\u001b[0m \u001b[1;33m=\u001b[0m \u001b[0mself\u001b[0m\u001b[1;33m.\u001b[0m\u001b[0mastype\u001b[0m\u001b[1;33m(\u001b[0m\u001b[0mobject\u001b[0m\u001b[1;33m)\u001b[0m\u001b[1;33m.\u001b[0m\u001b[0m_values\u001b[0m\u001b[1;33m\u001b[0m\u001b[1;33m\u001b[0m\u001b[0m\n\u001b[1;32m-> 4138\u001b[1;33m                 \u001b[0mmapped\u001b[0m \u001b[1;33m=\u001b[0m \u001b[0mlib\u001b[0m\u001b[1;33m.\u001b[0m\u001b[0mmap_infer\u001b[0m\u001b[1;33m(\u001b[0m\u001b[0mvalues\u001b[0m\u001b[1;33m,\u001b[0m \u001b[0mf\u001b[0m\u001b[1;33m,\u001b[0m \u001b[0mconvert\u001b[0m\u001b[1;33m=\u001b[0m\u001b[0mconvert_dtype\u001b[0m\u001b[1;33m)\u001b[0m\u001b[1;33m\u001b[0m\u001b[1;33m\u001b[0m\u001b[0m\n\u001b[0m\u001b[0;32m   4139\u001b[0m \u001b[1;33m\u001b[0m\u001b[0m\n\u001b[0;32m   4140\u001b[0m         \u001b[1;32mif\u001b[0m \u001b[0mlen\u001b[0m\u001b[1;33m(\u001b[0m\u001b[0mmapped\u001b[0m\u001b[1;33m)\u001b[0m \u001b[1;32mand\u001b[0m \u001b[0misinstance\u001b[0m\u001b[1;33m(\u001b[0m\u001b[0mmapped\u001b[0m\u001b[1;33m[\u001b[0m\u001b[1;36m0\u001b[0m\u001b[1;33m]\u001b[0m\u001b[1;33m,\u001b[0m \u001b[0mSeries\u001b[0m\u001b[1;33m)\u001b[0m\u001b[1;33m:\u001b[0m\u001b[1;33m\u001b[0m\u001b[1;33m\u001b[0m\u001b[0m\n",
      "\u001b[1;32mpandas\\_libs\\lib.pyx\u001b[0m in \u001b[0;36mpandas._libs.lib.map_infer\u001b[1;34m()\u001b[0m\n",
      "\u001b[1;32m<ipython-input-95-09c094f519c3>\u001b[0m in \u001b[0;36mdate_conv\u001b[1;34m(x)\u001b[0m\n\u001b[0;32m      4\u001b[0m     \u001b[1;32melse\u001b[0m\u001b[1;33m:\u001b[0m\u001b[1;33m\u001b[0m\u001b[1;33m\u001b[0m\u001b[0m\n\u001b[0;32m      5\u001b[0m         \u001b[0mx\u001b[0m \u001b[1;33m=\u001b[0m \u001b[0mstr\u001b[0m\u001b[1;33m(\u001b[0m\u001b[0mx\u001b[0m\u001b[1;33m)\u001b[0m\u001b[1;33m.\u001b[0m\u001b[0mstrip\u001b[0m\u001b[1;33m(\u001b[0m\u001b[1;33m)\u001b[0m\u001b[1;33m\u001b[0m\u001b[1;33m\u001b[0m\u001b[0m\n\u001b[1;32m----> 6\u001b[1;33m         \u001b[1;32mreturn\u001b[0m \u001b[0mdatetime\u001b[0m\u001b[1;33m.\u001b[0m\u001b[0mstrptime\u001b[0m\u001b[1;33m(\u001b[0m\u001b[0mstr\u001b[0m\u001b[1;33m(\u001b[0m\u001b[0mx\u001b[0m\u001b[1;33m)\u001b[0m\u001b[1;33m,\u001b[0m \u001b[1;34m'%B %d, %Y'\u001b[0m\u001b[1;33m)\u001b[0m\u001b[1;33m\u001b[0m\u001b[1;33m\u001b[0m\u001b[0m\n\u001b[0m",
      "\u001b[1;32m~\\anaconda3\\lib\\_strptime.py\u001b[0m in \u001b[0;36m_strptime_datetime\u001b[1;34m(cls, data_string, format)\u001b[0m\n\u001b[0;32m    566\u001b[0m     \"\"\"Return a class cls instance based on the input string and the\n\u001b[0;32m    567\u001b[0m     format string.\"\"\"\n\u001b[1;32m--> 568\u001b[1;33m     \u001b[0mtt\u001b[0m\u001b[1;33m,\u001b[0m \u001b[0mfraction\u001b[0m\u001b[1;33m,\u001b[0m \u001b[0mgmtoff_fraction\u001b[0m \u001b[1;33m=\u001b[0m \u001b[0m_strptime\u001b[0m\u001b[1;33m(\u001b[0m\u001b[0mdata_string\u001b[0m\u001b[1;33m,\u001b[0m \u001b[0mformat\u001b[0m\u001b[1;33m)\u001b[0m\u001b[1;33m\u001b[0m\u001b[1;33m\u001b[0m\u001b[0m\n\u001b[0m\u001b[0;32m    569\u001b[0m     \u001b[0mtzname\u001b[0m\u001b[1;33m,\u001b[0m \u001b[0mgmtoff\u001b[0m \u001b[1;33m=\u001b[0m \u001b[0mtt\u001b[0m\u001b[1;33m[\u001b[0m\u001b[1;33m-\u001b[0m\u001b[1;36m2\u001b[0m\u001b[1;33m:\u001b[0m\u001b[1;33m]\u001b[0m\u001b[1;33m\u001b[0m\u001b[1;33m\u001b[0m\u001b[0m\n\u001b[0;32m    570\u001b[0m     \u001b[0margs\u001b[0m \u001b[1;33m=\u001b[0m \u001b[0mtt\u001b[0m\u001b[1;33m[\u001b[0m\u001b[1;33m:\u001b[0m\u001b[1;36m6\u001b[0m\u001b[1;33m]\u001b[0m \u001b[1;33m+\u001b[0m \u001b[1;33m(\u001b[0m\u001b[0mfraction\u001b[0m\u001b[1;33m,\u001b[0m\u001b[1;33m)\u001b[0m\u001b[1;33m\u001b[0m\u001b[1;33m\u001b[0m\u001b[0m\n",
      "\u001b[1;32m~\\anaconda3\\lib\\_strptime.py\u001b[0m in \u001b[0;36m_strptime\u001b[1;34m(data_string, format)\u001b[0m\n\u001b[0;32m    347\u001b[0m     \u001b[0mfound\u001b[0m \u001b[1;33m=\u001b[0m \u001b[0mformat_regex\u001b[0m\u001b[1;33m.\u001b[0m\u001b[0mmatch\u001b[0m\u001b[1;33m(\u001b[0m\u001b[0mdata_string\u001b[0m\u001b[1;33m)\u001b[0m\u001b[1;33m\u001b[0m\u001b[1;33m\u001b[0m\u001b[0m\n\u001b[0;32m    348\u001b[0m     \u001b[1;32mif\u001b[0m \u001b[1;32mnot\u001b[0m \u001b[0mfound\u001b[0m\u001b[1;33m:\u001b[0m\u001b[1;33m\u001b[0m\u001b[1;33m\u001b[0m\u001b[0m\n\u001b[1;32m--> 349\u001b[1;33m         raise ValueError(\"time data %r does not match format %r\" %\n\u001b[0m\u001b[0;32m    350\u001b[0m                          (data_string, format))\n\u001b[0;32m    351\u001b[0m     \u001b[1;32mif\u001b[0m \u001b[0mlen\u001b[0m\u001b[1;33m(\u001b[0m\u001b[0mdata_string\u001b[0m\u001b[1;33m)\u001b[0m \u001b[1;33m!=\u001b[0m \u001b[0mfound\u001b[0m\u001b[1;33m.\u001b[0m\u001b[0mend\u001b[0m\u001b[1;33m(\u001b[0m\u001b[1;33m)\u001b[0m\u001b[1;33m:\u001b[0m\u001b[1;33m\u001b[0m\u001b[1;33m\u001b[0m\u001b[0m\n",
      "\u001b[1;31mValueError\u001b[0m: time data 'nan' does not match format '%B %d, %Y'"
     ]
    }
   ],
   "source": [
    "df['date_added'].apply(date_conv)"
   ]
  },
  {
   "cell_type": "code",
   "execution_count": 88,
   "id": "2160069c",
   "metadata": {},
   "outputs": [
    {
     "data": {
      "text/plain": [
       "datetime.datetime(2021, 9, 25, 0, 0)"
      ]
     },
     "execution_count": 88,
     "metadata": {},
     "output_type": "execute_result"
    }
   ],
   "source": [
    "datetime.strptime('September 25, 2021', '%B %d, %Y')"
   ]
  },
  {
   "cell_type": "code",
   "execution_count": 92,
   "id": "d59cdd6e",
   "metadata": {},
   "outputs": [
    {
     "data": {
      "text/plain": [
       "0      2021-09-25\n",
       "1      2021-09-24\n",
       "2      2021-09-24\n",
       "3      2021-09-24\n",
       "4      2021-09-24\n",
       "          ...    \n",
       "8802   2019-11-20\n",
       "8803   2019-07-01\n",
       "8804   2019-11-01\n",
       "8805   2020-01-11\n",
       "8806   2019-03-02\n",
       "Name: date_added, Length: 8797, dtype: datetime64[ns]"
      ]
     },
     "execution_count": 92,
     "metadata": {},
     "output_type": "execute_result"
    }
   ],
   "source": [
    "df['date_added'].str.strip().dropna().apply(date_conv)"
   ]
  },
  {
   "cell_type": "code",
   "execution_count": 85,
   "id": "674c8ae3",
   "metadata": {},
   "outputs": [
    {
     "ename": "TypeError",
     "evalue": "strptime() argument 1 must be str, not Series",
     "output_type": "error",
     "traceback": [
      "\u001b[1;31m---------------------------------------------------------------------------\u001b[0m",
      "\u001b[1;31mTypeError\u001b[0m                                 Traceback (most recent call last)",
      "\u001b[1;32m<ipython-input-85-df6ce7667398>\u001b[0m in \u001b[0;36m<module>\u001b[1;34m\u001b[0m\n\u001b[1;32m----> 1\u001b[1;33m \u001b[0mdatetime\u001b[0m\u001b[1;33m.\u001b[0m\u001b[0mstrptime\u001b[0m\u001b[1;33m(\u001b[0m\u001b[0mdf\u001b[0m\u001b[1;33m[\u001b[0m\u001b[1;34m'date_added'\u001b[0m\u001b[1;33m]\u001b[0m\u001b[1;33m,\u001b[0m \u001b[1;34m'%B %d, %Y'\u001b[0m\u001b[1;33m)\u001b[0m\u001b[1;33m\u001b[0m\u001b[1;33m\u001b[0m\u001b[0m\n\u001b[0m",
      "\u001b[1;31mTypeError\u001b[0m: strptime() argument 1 must be str, not Series"
     ]
    }
   ],
   "source": [
    "datetime.strptime(df['date_added'], '%B %d, %Y')"
   ]
  },
  {
   "cell_type": "code",
   "execution_count": 83,
   "id": "878ceabb",
   "metadata": {},
   "outputs": [
    {
     "data": {
      "text/plain": [
       "<pandas.core.strings.accessor.StringMethods at 0x1ad203b4cd0>"
      ]
     },
     "execution_count": 83,
     "metadata": {},
     "output_type": "execute_result"
    }
   ],
   "source": [
    "df['date_added'].str."
   ]
  }
 ],
 "metadata": {
  "kernelspec": {
   "display_name": "Python 3",
   "language": "python",
   "name": "python3"
  },
  "language_info": {
   "codemirror_mode": {
    "name": "ipython",
    "version": 3
   },
   "file_extension": ".py",
   "mimetype": "text/x-python",
   "name": "python",
   "nbconvert_exporter": "python",
   "pygments_lexer": "ipython3",
   "version": "3.8.8"
  }
 },
 "nbformat": 4,
 "nbformat_minor": 5
}
